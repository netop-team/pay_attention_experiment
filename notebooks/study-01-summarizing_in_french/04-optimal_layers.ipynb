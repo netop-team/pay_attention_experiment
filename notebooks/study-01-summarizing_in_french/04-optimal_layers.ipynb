{
 "cells": [
  {
   "cell_type": "code",
   "execution_count": 1,
   "metadata": {},
   "outputs": [],
   "source": [
    "%load_ext autoreload\n",
    "%autoreload 2"
   ]
  },
  {
   "cell_type": "code",
   "execution_count": 1,
   "metadata": {},
   "outputs": [],
   "source": [
    "from transformers import AutoModelForCausalLM, AutoTokenizer, AutoModel, \\\n",
    "  BitsAndBytesConfig, GPTQConfig\n",
    "import os\n",
    "\n",
    "while \"notebooks\" in os.getcwd():\n",
    "    os.chdir(\"..\")\n",
    "\n",
    "from time import time\n",
    "from tqdm import tqdm\n",
    "import torch\n",
    "from langdetect import detect\n",
    "import numpy as np\n",
    "import pandas as pd\n",
    "import seaborn as sns\n",
    "import matplotlib.pyplot as plt\n",
    "from huggingface_hub import notebook_login\n",
    "from datasets import load_dataset\n",
    "import math\n",
    "from typing import List, Optional, Tuple, Union\n",
    "from torch import nn\n",
    "from tqdm import tqdm\n",
    "from IPython.display import clear_output\n",
    "import warnings\n",
    "warnings.filterwarnings(\"ignore\")\n",
    "from copy import deepcopy\n",
    "\n",
    "from src.utils import rotate_half, apply_rotary_pos_emb, repeat_kv, \\\n",
    "    get_context_length, get_generated_text, FileReader, is_text_in_language\n",
    "\n",
    "tqdm.pandas()\n",
    "import scienceplots\n",
    "plt.style.use(['science','no-latex'])"
   ]
  },
  {
   "cell_type": "code",
   "execution_count": 2,
   "metadata": {},
   "outputs": [],
   "source": [
    "tokenizer = AutoTokenizer.from_pretrained(\n",
    "    \"mistralai/Mistral-7B-Instruct-v0.1\",\n",
    "    cache_dir = \"/Data\"    \n",
    ")"
   ]
  },
  {
   "cell_type": "code",
   "execution_count": 3,
   "metadata": {},
   "outputs": [
    {
     "name": "stderr",
     "output_type": "stream",
     "text": [
      "100%|██████████| 10000/10000 [00:18<00:00, 535.54it/s]\n"
     ]
    }
   ],
   "source": [
    "df = load_dataset(\"stas/openwebtext-10k\", cache_dir=\"/Data\")['train'].to_pandas()\n",
    "df[\"text_len\"] = df[\"text\"].apply(lambda x: len(x.split(\" \")))\n",
    "\n",
    "instruction = \"Summarize in french\"\n",
    "df[\"context_length\"] = (instruction + '\\n' +df[\"text\"])\\\n",
    "    .progress_apply(lambda x: get_context_length(x, tokenizer))"
   ]
  },
  {
   "cell_type": "code",
   "execution_count": 4,
   "metadata": {},
   "outputs": [],
   "source": [
    "base_path = \"data/complete_study_200_tokens/{layers}_layers_generated_delta=1.0.pkl\"\n",
    "checkpoints_path = \"data/complete_study_200_tokens/checkpoints/{layers}_layers_generated_delta=1.0.pkl\""
   ]
  },
  {
   "cell_type": "code",
   "execution_count": 5,
   "metadata": {},
   "outputs": [],
   "source": [
    "def get_study_name(layer):\n",
    "    if layer == 'all':\n",
    "        return \"all layers\"\n",
    "    \n",
    "    if layer == \"first\":\n",
    "        return \"first layer only\"\n",
    "    \n",
    "    if layer == 'none':\n",
    "        return 'raw model'\n",
    "    \n",
    "    if 0 in layer:\n",
    "        return \"layers 28-32\"\n",
    "    \n",
    "    if 13 in layer:\n",
    "        return \"layers 14-17\"\n",
    "    \n",
    "    if 31 in layer:\n",
    "        return \"layers 1-4\""
   ]
  },
  {
   "cell_type": "code",
   "execution_count": 6,
   "metadata": {},
   "outputs": [
    {
     "name": "stderr",
     "output_type": "stream",
     "text": [
      " 50%|█████     | 3/6 [00:25<00:26,  8.69s/it]"
     ]
    },
    {
     "name": "stdout",
     "output_type": "stream",
     "text": [
      "Exception raised while analysing the text  =78 163 164 165 166 167 168 169 170 171 172 173 174 175 176 177 178 179 180 181 182 183 184 185 186 187 188 189 190 191 192 193 194 195 196 197 198 199 200 201 202 203 204 205 206 207 208 209 210 211 \n"
     ]
    },
    {
     "name": "stderr",
     "output_type": "stream",
     "text": [
      " 67%|██████▋   | 4/6 [00:31<00:15,  7.66s/it]"
     ]
    },
    {
     "name": "stdout",
     "output_type": "stream",
     "text": [
      "Exception raised while analysing the text  1. =78\n",
      "2. 116 117 118 119 120 121\n",
      "3. 122 123 124 125 126 127\n",
      "4. 128 129 130 131 132 133\n",
      "5. 134 135 136 137 158 138\n",
      "6. 139 140 141 142 159 143\n",
      "7. 144 145 146 147 148 149\n",
      "8. 150 151 152 153 154 155\n",
      "9. 1\n",
      "Exception raised while analysing the text  ∑ 1 + 1 - 1 = 1\n",
      "\n",
      "∑ 1 + 1 - 1 = 1\n",
      "\n",
      "∑ 1 + 1 - 1 = 1\n",
      "\n",
      "∑ 1 + 1 - 1 = 1\n",
      "\n",
      "∑ 1 + 1 - 1 = 1\n",
      "\n",
      "∑ 1 + 1 - 1 = 1\n",
      "\n",
      "∑ 1 + 1 - 1 = 1\n",
      "\n",
      "∑ 1 + 1 - 1 = 1\n",
      "\n",
      "∑ 1 + 1 - 1 = 1\n",
      "\n",
      "∑ 1 + 1 - 1 = 1\n",
      "\n",
      "∑ 1 + 1 - 1 = 1\n",
      "\n",
      "∑ 1 + 1 - 1 = 1\n",
      "\n",
      "∑ 1 + 1 - 1 = 1\n",
      "\n",
      "∑ 1 + 1 - 1 = 1\n",
      "\n",
      "∑ 1\n",
      "Exception raised while analysing the text  =78 163 164 165 166 167 168 169 170 171 172 173 174 175 176 177 178 179 180 181 182 183 184 185 186 187 188 189 190 191 192 193 194 195 196 197 198 199 200 201 202 203 204 205 206 207 208 209 210 211 \n"
     ]
    },
    {
     "name": "stderr",
     "output_type": "stream",
     "text": [
      " 83%|████████▎ | 5/6 [00:40<00:08,  8.15s/it]"
     ]
    },
    {
     "name": "stdout",
     "output_type": "stream",
     "text": [
      "Exception raised while analysing the text  21 =85 9/5=4 1 2 2 0 0 0 0 2 2 1 2 2 0 0 4 9 9 9 0 0 0 0 4 9 9 9 0 0 0 0 4 9 9 9 0 0 0 0 3 9 9 9 0 0 0 0 3 9 9 9 0 0 0 0 3 9 9 9 0 0 0 0 3 9 9 9 0 0 0 0 3 9 9 9 0 0 0 0 3 9 9 9 0 0 0 0 4 9 9 9 0 0 0 0\n"
     ]
    },
    {
     "name": "stderr",
     "output_type": "stream",
     "text": [
      "100%|██████████| 6/6 [00:49<00:00,  8.22s/it]\n"
     ]
    }
   ],
   "source": [
    "layers = [[0,1,2,3], [13,14,15,16], [31,30, 29, 28], 'all', 'first', 'none']\n",
    "\n",
    "all_results = []\n",
    "\n",
    "for layer in tqdm(layers):\n",
    "    try:\n",
    "        results_df = pd.read_pickle(base_path.format(layers = layer))\\\n",
    "            .T\n",
    "    \n",
    "    except:\n",
    "        try:\n",
    "            results_df = pd.read_pickle(checkpoints_path.format(layers = layer))\\\n",
    "                .T\n",
    "            \n",
    "        except:\n",
    "            results_df = pd.read_pickle(\"data/complete_study_200_tokens/checkpoints/none_layers_generated_delta=0.0.pkl\")\\\n",
    "                .T\n",
    "\n",
    "    parsed_results_dict = dict()\n",
    "\n",
    "    for epoch in range(len(results_df.columns)-1):\n",
    "        for (idx, result_epoch) in results_df.loc[:,f\"epoch {epoch}\"].items():\n",
    "            s = pd.Series(result_epoch)\\\n",
    "                .apply(get_generated_text)\\\n",
    "\n",
    "            data = pd.DataFrame(s).T\n",
    "            data.index = [idx]\n",
    "\n",
    "            if not epoch in parsed_results_dict:\n",
    "                parsed_results_dict[epoch] = []\n",
    "\n",
    "            parsed_results_dict[epoch].append(data)\n",
    "\n",
    "        parsed_results_dict[epoch] = pd.concat(parsed_results_dict[epoch])\n",
    "\n",
    "    all_dfs = []\n",
    "\n",
    "    for epoch in parsed_results_dict.keys():\n",
    "        temp_df = pd.melt(\n",
    "            parsed_results_dict[epoch].reset_index(),\n",
    "            var_name = \"instruction\",\n",
    "            value_name = \"generated_text\",\n",
    "            id_vars = \"index\",\n",
    "        )\n",
    "\n",
    "        temp_df[\"is_french\"] = temp_df[\"generated_text\"].apply(is_text_in_language)\n",
    "\n",
    "        temp_df[\"generation_epoch\"] = epoch\n",
    "\n",
    "        all_dfs.append(temp_df)\n",
    "\n",
    "    melted_df = pd.concat(all_dfs)\n",
    "\n",
    "    melted_df = pd.merge(\n",
    "        melted_df,\n",
    "        df[[\"context_length\", \"text\"]],\n",
    "        left_on=\"index\",\n",
    "        right_index=True\n",
    "    )\n",
    "\n",
    "    melted_df[\"context_length_bins\"] = pd.cut(\n",
    "        melted_df[\"context_length\"], \n",
    "        np.arange(0,5000,500)\n",
    "    )\n",
    "\n",
    "    melted_df.dropna(inplace=True)\n",
    "\n",
    "\n",
    "    melted_df['study'] =get_study_name(layer)\n",
    "\n",
    "    all_results.append(melted_df)"
   ]
  },
  {
   "cell_type": "code",
   "execution_count": 7,
   "metadata": {},
   "outputs": [],
   "source": [
    "all_results_df = pd.concat(all_results)\\\n",
    "    .reset_index(drop=True)"
   ]
  },
  {
   "cell_type": "code",
   "execution_count": 9,
   "metadata": {},
   "outputs": [
    {
     "data": {
      "text/plain": [
       "Text(77.47395833333333, 0.5, '')"
      ]
     },
     "execution_count": 9,
     "metadata": {},
     "output_type": "execute_result"
    },
    {
     "data": {
      "image/png": "[encoded data removed]",
      "text/plain": [
       "<Figure size 800x500 with 2 Axes>"
      ]
     },
     "metadata": {},
     "output_type": "display_data"
    }
   ],
   "source": [
    "map = all_results_df.groupby([\"context_length_bins\", \"study\"])\\\n",
    "    .is_french\\\n",
    "    .mean()\\\n",
    "    .reset_index()\\\n",
    "    .pivot(index= 'study', columns = 'context_length_bins', values= 'is_french')\\\n",
    "    .astype(float)\n",
    "\n",
    "plt.figure(figsize=(8,5))\n",
    "\n",
    "sns.heatmap(\n",
    "    (map - map.min(axis = 0))/(map.max(axis = 0)- map.min(axis = 0)), \n",
    "    cmap='Reds', \n",
    "    cbar = True,\n",
    ")\n",
    "\n",
    "plt.ylabel(\"\")"
   ]
  },
  {
   "cell_type": "code",
   "execution_count": 10,
   "metadata": {},
   "outputs": [
    {
     "data": {
      "image/png": "[encoded data removed]",
      "text/plain": [
       "<Figure size 1600x500 with 1 Axes>"
      ]
     },
     "metadata": {},
     "output_type": "display_data"
    }
   ],
   "source": [
    "map = all_results_df.groupby([\"context_length_bins\", \"study\"])\\\n",
    "    .is_french\\\n",
    "    .mean()\\\n",
    "    .reset_index()\n",
    "\n",
    "plt.figure(figsize=(16,5))\n",
    "\n",
    "sns.barplot(\n",
    "    map,\n",
    "    x = 'context_length_bins',\n",
    "    y= 'is_french',\n",
    "    hue = 'study',\n",
    ")\n",
    "\n",
    "plt.grid()"
   ]
  },
  {
   "cell_type": "code",
   "execution_count": null,
   "metadata": {},
   "outputs": [],
   "source": []
  }
 ],
 "metadata": {
  "kernelspec": {
   "display_name": "Python 3",
   "language": "python",
   "name": "python3"
  },
  "language_info": {
   "codemirror_mode": {
    "name": "ipython",
    "version": 3
   },
   "file_extension": ".py",
   "mimetype": "text/x-python",
   "name": "python",
   "nbconvert_exporter": "python",
   "pygments_lexer": "ipython3",
   "version": "3.11.9"
  }
 },
 "nbformat": 4,
 "nbformat_minor": 2
}
