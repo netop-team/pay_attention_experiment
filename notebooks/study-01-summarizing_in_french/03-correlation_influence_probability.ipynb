{
 "cells": [
  {
   "cell_type": "code",
   "execution_count": 1,
   "metadata": {},
   "outputs": [],
   "source": [
    "%load_ext autoreload\n",
    "%autoreload 2"
   ]
  },
  {
   "cell_type": "code",
   "execution_count": 2,
   "metadata": {},
   "outputs": [],
   "source": [
    "from transformers import AutoModelForCausalLM, AutoTokenizer, AutoModel, \\\n",
    "  BitsAndBytesConfig, GPTQConfig\n",
    "import os\n",
    "\n",
    "while \"notebooks\" in os.getcwd():\n",
    "    os.chdir(\"..\")\n",
    "\n",
    "from time import time\n",
    "from tqdm import tqdm\n",
    "import torch\n",
    "from langdetect import detect\n",
    "import numpy as np\n",
    "import pandas as pd\n",
    "import seaborn as sns\n",
    "import matplotlib.pyplot as plt\n",
    "from huggingface_hub import notebook_login\n",
    "from datasets import load_dataset\n",
    "import math\n",
    "from typing import List, Optional, Tuple, Union\n",
    "from torch import nn\n",
    "from tqdm import tqdm\n",
    "from IPython.display import clear_output\n",
    "import warnings\n",
    "warnings.filterwarnings(\"ignore\")\n",
    "from copy import deepcopy\n",
    "import gc\n",
    "from sklearn.metrics import roc_auc_score\n",
    "\n",
    "from src.utils import rotate_half, apply_rotary_pos_emb, repeat_kv, \\\n",
    "    get_context_length, get_generated_text, FileReader, is_text_in_language, rolling_mean\n",
    "\n",
    "from src.attention_saver import Mistral7BAttentionSaver\n",
    "from src.influence.influence import Influence, AttentionRollout\n",
    "\n",
    "import scienceplots\n",
    "plt.style.use(['science','no-latex'])\n",
    "\n",
    "tqdm.pandas()"
   ]
  },
  {
   "cell_type": "markdown",
   "metadata": {},
   "source": [
    "## Loading dataset"
   ]
  },
  {
   "cell_type": "code",
   "execution_count": 3,
   "metadata": {},
   "outputs": [
    {
     "data": {
      "application/vnd.jupyter.widget-view+json": {
       "model_id": "e556268c7b7141f6b9e463e0180c7d4a",
       "version_major": 2,
       "version_minor": 0
      },
      "text/plain": [
       "VBox(children=(HTML(value='<center> <img\\nsrc=https://huggingface.co/front/assets/huggingface_logo-noborder.sv…"
      ]
     },
     "metadata": {},
     "output_type": "display_data"
    }
   ],
   "source": [
    "notebook_login()"
   ]
  },
  {
   "cell_type": "code",
   "execution_count": 4,
   "metadata": {},
   "outputs": [],
   "source": [
    "device = \"cuda\" if torch.cuda.is_available() else \"cpu\"\n",
    "\n",
    "df = load_dataset(\"stas/openwebtext-10k\", cache_dir= \"/Data\")['train'].to_pandas()\n",
    "df[\"text_len\"] = df[\"text\"].apply(lambda x: len(x.split(\" \")))"
   ]
  },
  {
   "cell_type": "code",
   "execution_count": 5,
   "metadata": {},
   "outputs": [
    {
     "data": {
      "application/vnd.jupyter.widget-view+json": {
       "model_id": "c0776d6f43b743af9d22244ecb1994c6",
       "version_major": 2,
       "version_minor": 0
      },
      "text/plain": [
       "Downloading shards:   0%|          | 0/2 [00:00<?, ?it/s]"
      ]
     },
     "metadata": {},
     "output_type": "display_data"
    },
    {
     "data": {
      "application/vnd.jupyter.widget-view+json": {
       "model_id": "4968b3599d3b4e1e8304e019b0bdd703",
       "version_major": 2,
       "version_minor": 0
      },
      "text/plain": [
       "Loading checkpoint shards:   0%|          | 0/2 [00:00<?, ?it/s]"
      ]
     },
     "metadata": {},
     "output_type": "display_data"
    }
   ],
   "source": [
    "quantization_config = BitsAndBytesConfig(\n",
    "    load_in_4bit=True,\n",
    "    bnb_4bit_quant_type=\"nf4\",\n",
    "    bnb_4bit_use_double_quant=True,\n",
    "    bnb_4bit_compute_dtype=torch.bfloat16\n",
    ")\n",
    "\n",
    "tokenizer = AutoTokenizer.from_pretrained(\n",
    "    \"mistralai/Mistral-7B-Instruct-v0.1\",\n",
    "    cache_dir = \"/Data\"    \n",
    ")\n",
    "\n",
    "\n",
    "base_model = AutoModelForCausalLM.from_pretrained(\n",
    "    \"mistralai/Mistral-7B-Instruct-v0.1\",\n",
    "    quantization_config = quantization_config,\n",
    "    device_map=\"auto\",\n",
    "    attn_implementation=\"eager\",\n",
    "    cache_dir = \"/Data\"\n",
    ")"
   ]
  },
  {
   "cell_type": "markdown",
   "metadata": {},
   "source": [
    "## Obtaining generation results"
   ]
  },
  {
   "cell_type": "code",
   "execution_count": 6,
   "metadata": {},
   "outputs": [
    {
     "name": "stderr",
     "output_type": "stream",
     "text": [
      "100%|██████████| 10000/10000 [00:18<00:00, 533.45it/s]\n"
     ]
    }
   ],
   "source": [
    "base_instruction = \"Summarize in french\"\n",
    "df[\"context_length\"] = (base_instruction + \" \\n\" + df[\"text\"])\\\n",
    "    .progress_apply(get_context_length, tokenizer = tokenizer)"
   ]
  },
  {
   "cell_type": "code",
   "execution_count": 7,
   "metadata": {},
   "outputs": [
    {
     "name": "stdout",
     "output_type": "stream",
     "text": [
      "[Errno 2] No such file or directory: 'data/complete_study_200_tokens/checkpoints/all_layers_generated_delta=0.0.pkl'\n",
      "Exception raised while analysing the text  21 =85 9/5=4 1 2 2 0 0 0 0 2 2 1 2 2 0 0 4 9 9 9 0 0 0 0 4 9 9 9 0 0 0 0 4 9 9 9 0 0 0 0 3 9 9 9 0 0 0 0 3 9 9 9 0 0 0 0 3 9 9 9 0 0 0 0 3 9 9 9 0 0 0 0 3 9 9 9 0 0 0 0 3 9 9 9 0 0 0 0 4 9 9 9 0 0 0 0\n",
      "Exception raised while analysing the text  1\n",
      "2 3 4 5 6 7 8 9 10 11 12 13 14 15 16 17 18 19 20 21 22 23 24 25 26 27 28 29 30 31 32 33 34 35 36 37 38 39 40 41 42 43 44 45 46 47 48 49 50 51 52 53 54 55 56 57 58 59 60 61 62 63 64 65 66 67 68 69 7\n",
      "Exception raised while analysing the text  1\n",
      "2\n",
      "3 4 5 6 7 8 9 10 11 12 13 14 15 16 17 18 19 20 21 22 23 24 25 26 27 28 29 30 31 32 33 34 35 36 37 38 39 40 41 42 43 44 45 46 47 48 49 50 51 52 53 54 55 56 57 58 59 60 61 62 63 64 65 66 67 68 69 7\n",
      "Exception raised while analysing the text  ᖺᖷ የስትስት ስትስት የንሕትንም የርንንም ስትስትስት የስትስት ስትስት የስትስት ስትስት የንንም የንሕንስትንም የስትስት የንስትንም የንንም የስትስት የንስትንም የንስትንም የንስትንም የንንንም የንስትንም የንስትንም የንስትንም የንስትንም የንስትንም የንስትንም የንስትንም የንስትንም የንስትንም የንስትንም \n",
      "Exception raised while analysing the text  ¡¡¡¡¡¡¡¡¡¡¡¡¡¡¡¡¡¡¡¡¡¡¡¡¡¡¡¡¡¡¡¡¡¡¡¡¡¡¡¡¡¡¡¡¡¡¡¡¡¡¡¡¡¡¡¡¡¡¡¡¡¡¡¡¡¡¡¡¡¡¡¡¡¡¡¡¡¡¡¡¡¡¡¡¡¡¡¡¡¡¡¡¡¡¡¡¡¡¡¡¡¡¡¡¡¡¡¡¡¡¡¡¡¡¡¡¡¡¡¡¡¡¡¡¡¡¡¡¡¡¡¡¡¡¡¡¡¡¡¡¡¡¡¡¡¡¡¡¡¡¡¡¡¡¡¡¡¡¡¡¡¡¡¡¡¡¡¡¡¡¡¡¡¡¡¡¡¡¡¡¡¡¡¡¡¡¡¡¡¡¡¡¡¡¡¡¡¡¡\n",
      "[Errno 2] No such file or directory: 'data/complete_study_200_tokens/checkpoints/none_layers_generated_delta=0.5.pkl'\n",
      "Exception raised while analysing the text  =78 163 164 165 166 167 168 169 170 171 172 173 174 175 176 177 178 179 180 181 182 183 184 185 186 187 188 189 190 191 192 193 194 195 196 197 198 199 200 201 202 203 204 205 206 207 208 209 210 211 \n",
      "[Errno 2] No such file or directory: 'data/complete_study_200_tokens/checkpoints/none_layers_generated_delta=1.0.pkl'\n",
      "[Errno 2] No such file or directory: 'data/complete_study_200_tokens/checkpoints/none_layers_generated_delta=2.0.pkl'\n",
      "Exception raised while analysing the text  271 272 273 274 275 276 277 278 279 280 281 282 283 284 285 286 287 288 289 290 291 292 293 294 295 296 297 298 299 300 301 302 303 304 305 306 307 308 309 310 311 312 313 314 315 316 317 318 319 320\n",
      "Exception raised while analysing the text  1,2,3,4,5,6,7,8,9,10,11,12,13,14,15,16,17,18,19,20,21,22,23,24,25,26,27,28,29,30,31,32,33,34,35,36,37,38,39,40,41,42,43,44,45,46,47,48,49,50,51,52,53,54,55,56,57,58,59,60,\n",
      "61,62,63,64,65,66,67,68,69,\n",
      "Exception raised while analysing the text  3 | 3 | 3 | 3 | 3 | 3 | 3 | 3 | 3 | 3 | 3 | 3 | 3 | 3 | 3 | 3 | 3 | 3 | 3 | 3 | 3 | 3 | 3 | 3 | 3 | 3 | 3 | 3 | 3 | 3 | 3 | 3 | 3 | 3 | 3 | 3 | 3 | 3 | 3 | 3 | 3 | 3 | 3 | 3 | 3 | 3 | 3 | 3 | 3 | 3 | 3 | 3 | 3 | 3 | 3 | 3 | 3 | 3 | 3 | 3 | 3 | 3 | 3 | 3 | 3 | 3 | 3\n",
      "Exception raised while analysing the text  ∫⋯∫</s>\n",
      "Exception raised while analysing the text  🎬🎬🎬 🎬🎬🎬 🎬🎬🎬🎬 🎬🎬🎬🎬 🎬🎬🎬 🎬🎬🎬🎬 🎬🎬🎬🎬 🎬🎬🎬🎬 🎬🎬🎬🎬 🎬🎬🎬 🎬🎬🎬🎬🎬 🎬🎬🎬🎬🎬🎬\n",
      "[Errno 2] No such file or directory: 'data/complete_study_200_tokens/checkpoints/none_layers_generated_delta=5.0.pkl'\n"
     ]
    }
   ],
   "source": [
    "base_path = \"data/complete_study_200_tokens/checkpoints/\"\n",
    "all_results = []\n",
    "for delta_attention in [0., 0.5 ,1., 2.0, 5.0]:\n",
    "    for all_layers in [\"all\", \"none\"]:\n",
    "        path = os.path.join(\n",
    "            base_path,\n",
    "            f\"{all_layers}_layers_generated_delta={delta_attention}.pkl\"\n",
    "        )\n",
    "        try:\n",
    "            results_df = pd.read_pickle(path).T\n",
    "\n",
    "        except Exception as e:\n",
    "            print(e)\n",
    "            continue\n",
    "\n",
    "        parsed_results_dict = dict()\n",
    "\n",
    "        for epoch in range(len(results_df.columns)-1):\n",
    "            for (idx, result_epoch) in results_df.loc[:,f\"epoch {epoch}\"].items():\n",
    "                s = pd.Series(result_epoch)\\\n",
    "                    .apply(get_generated_text)\\\n",
    "\n",
    "                data = pd.DataFrame(s).T\n",
    "                data.index = [idx]\n",
    "\n",
    "                if not epoch in parsed_results_dict:\n",
    "                    parsed_results_dict[epoch] = []\n",
    "\n",
    "                parsed_results_dict[epoch].append(data)\n",
    "\n",
    "            parsed_results_dict[epoch] = pd.concat(parsed_results_dict[epoch])\n",
    "\n",
    "        all_dfs = []\n",
    "\n",
    "        for epoch in parsed_results_dict.keys():\n",
    "            temp_df = pd.melt(\n",
    "                parsed_results_dict[epoch].reset_index(),\n",
    "                var_name = \"instruction\",\n",
    "                value_name = \"generated_text\",\n",
    "                id_vars = \"index\",\n",
    "            )\n",
    "\n",
    "            temp_df[\"is_french\"] = temp_df[\"generated_text\"].apply(is_text_in_language)\n",
    "\n",
    "            temp_df[\"generation_epoch\"] = epoch\n",
    "\n",
    "            all_dfs.append(temp_df)\n",
    "\n",
    "        melted_df = pd.concat(all_dfs)\n",
    "\n",
    "        melted_df = pd.merge(\n",
    "            melted_df,\n",
    "            df[[\"context_length\", \"text\"]],\n",
    "            left_on=\"index\",\n",
    "            right_index=True\n",
    "        )\n",
    "\n",
    "        melted_df[\"context_length_bins\"] = pd.cut(\n",
    "            melted_df[\"context_length\"], \n",
    "            np.arange(0,6_500,500)\n",
    "        )\n",
    "\n",
    "        melted_df.dropna(inplace=True)\n",
    "\n",
    "        study_name = f\"$\\Delta$={delta_attention}, all_layers={all_layers}\"\n",
    "        \n",
    "        if all_layers == 'first':\n",
    "            study_name= f\"$\\Delta$={delta_attention}, first layer only\"\n",
    "\n",
    "        elif  all_layers == 'all':\n",
    "\n",
    "            study_name = f\"$\\Delta$={delta_attention}, all_layers\"\n",
    "        melted_df[\"study\"] = study_name\n",
    "        \n",
    "        if delta_attention ==0:\n",
    "            melted_df[\"study\"] = f\"Raw model\"\n",
    "\n",
    "        all_results.append(melted_df)"
   ]
  },
  {
   "cell_type": "markdown",
   "metadata": {},
   "source": [
    "## Influence vs probability output in french\n"
   ]
  },
  {
   "cell_type": "code",
   "execution_count": 8,
   "metadata": {},
   "outputs": [],
   "source": [
    "probability_in_french = pd.concat(all_results)\\\n",
    "    .query(\"study == 'Raw model'\")\\\n",
    "    .groupby(['index'])\\\n",
    "    .is_french\\\n",
    "    .mean()\\\n",
    "    .reset_index()"
   ]
  },
  {
   "cell_type": "code",
   "execution_count": 9,
   "metadata": {},
   "outputs": [],
   "source": [
    "unique_text_df = pd.concat(all_results)\\\n",
    "    .groupby(['instruction', 'index'])\\\n",
    "    [['text', \"context_length\"]]\\\n",
    "    .first()\\\n",
    "    .reset_index()\\\n",
    "    .query(\" context_length < 4100\")"
   ]
  },
  {
   "cell_type": "code",
   "execution_count": 13,
   "metadata": {},
   "outputs": [
    {
     "name": "stdout",
     "output_type": "stream",
     "text": [
      "Forward propagation on instruction = You must summarize the following text in french: . Index = 117\n",
      "Finished forward step in 2.045546293258667 s\n"
     ]
    },
    {
     "name": "stderr",
     "output_type": "stream",
     "text": [
      " 75%|███████▌  | 24/32 [00:10<00:03,  2.28it/s]"
     ]
    }
   ],
   "source": [
    "N_LAYERS = 32\n",
    "influence = Influence()\n",
    "results_raw = influence(\n",
    "    base_model,\n",
    "    tokenizer,\n",
    "    unique_text_df.sort_values(\"context_length\", ascending = False),\n",
    "    0,\n",
    "    N_LAYERS,\n",
    "    augmented_layers=\"none\",\n",
    "    use_values=False,\n",
    "    instruction_in_text=False\n",
    ")"
   ]
  },
  {
   "cell_type": "code",
   "execution_count": 12,
   "metadata": {},
   "outputs": [],
   "source": [
    "results_dict = dict()\n",
    "for key in results_raw:\n",
    "    results_dict[key] = {}\n",
    "\n",
    "    for layer in [0, 15, 31]:\n",
    "        results_dict[key][layer] = results_raw[key]\\\n",
    "            ['influences'][layer][-10:]\\\n",
    "            .mean()\\\n",
    "            .item()"
   ]
  },
  {
   "cell_type": "code",
   "execution_count": 18,
   "metadata": {},
   "outputs": [],
   "source": [
    "influence_df = pd.Series(results_dict)\\\n",
    "    .reset_index()\\\n",
    "    .rename(\n",
    "        columns = {\"level_0\": \"index\", \"level_1\": \"instruction\", 0:\"influence\"}\n",
    "    )"
   ]
  },
  {
   "cell_type": "code",
   "execution_count": 14,
   "metadata": {},
   "outputs": [],
   "source": [
    "influence_df.to_pickle(\"data/influences/influences_all_phrases.pkl\")"
   ]
  },
  {
   "cell_type": "code",
   "execution_count": 10,
   "metadata": {},
   "outputs": [],
   "source": [
    "influence_df = pd.read_pickle(\"data/influences/influences_all_phrases_all_layers.pkl\")"
   ]
  },
  {
   "cell_type": "code",
   "execution_count": 11,
   "metadata": {},
   "outputs": [],
   "source": [
    "influence_df['layer_31'] = influence_df['influence'].apply(lambda x: x[31])\n",
    "influence_df['layer_0'] = influence_df['influence'].apply(lambda x: x[0])"
   ]
  },
  {
   "cell_type": "markdown",
   "metadata": {},
   "source": [
    "## Computing AUC Score"
   ]
  },
  {
   "cell_type": "code",
   "execution_count": 12,
   "metadata": {},
   "outputs": [],
   "source": [
    "grouped_text = pd.concat(all_results)\\\n",
    "    .query(\"study == 'Raw model' & context_length < 4100\")\\\n",
    "    [['is_french', \"instruction\", \"index\", \"context_length\"]]"
   ]
  },
  {
   "cell_type": "code",
   "execution_count": 13,
   "metadata": {},
   "outputs": [],
   "source": [
    "probability_df = pd.merge(\n",
    "    grouped_text,\n",
    "    influence_df,\n",
    "    on = ['instruction', 'index']\n",
    ")"
   ]
  },
  {
   "cell_type": "code",
   "execution_count": null,
   "metadata": {},
   "outputs": [],
   "source": []
  },
  {
   "cell_type": "code",
   "execution_count": 14,
   "metadata": {},
   "outputs": [],
   "source": [
    "probability_df['context_length_bins'] = pd.cut(\n",
    "    probability_df['context_length'],\n",
    "    range(0,5_000, 2000)\n",
    ")"
   ]
  },
  {
   "cell_type": "code",
   "execution_count": 19,
   "metadata": {},
   "outputs": [],
   "source": [
    "targets, probas = probability_df['is_french'].astype(int), probability_df['layer_31']\n",
    "targets, probas_first = probability_df['is_french'].astype(int), probability_df['layer_0']\n"
   ]
  },
  {
   "cell_type": "code",
   "execution_count": 20,
   "metadata": {},
   "outputs": [
    {
     "data": {
      "text/html": [
       "<div>\n",
       "<style scoped>\n",
       "    .dataframe tbody tr th:only-of-type {\n",
       "        vertical-align: middle;\n",
       "    }\n",
       "\n",
       "    .dataframe tbody tr th {\n",
       "        vertical-align: top;\n",
       "    }\n",
       "\n",
       "    .dataframe thead th {\n",
       "        text-align: right;\n",
       "    }\n",
       "</style>\n",
       "<table border=\"1\" class=\"dataframe\">\n",
       "  <thead>\n",
       "    <tr style=\"text-align: right;\">\n",
       "      <th></th>\n",
       "      <th>is_french</th>\n",
       "      <th>instruction</th>\n",
       "      <th>index</th>\n",
       "      <th>context_length</th>\n",
       "      <th>influence</th>\n",
       "      <th>layer_31</th>\n",
       "      <th>layer_0</th>\n",
       "      <th>context_length_bins</th>\n",
       "    </tr>\n",
       "  </thead>\n",
       "  <tbody>\n",
       "    <tr>\n",
       "      <th>0</th>\n",
       "      <td>False</td>\n",
       "      <td>Summarize in french:</td>\n",
       "      <td>656</td>\n",
       "      <td>4085</td>\n",
       "      <td>{0: 2.3186206817626953e-05, 1: 5.8352947235107...</td>\n",
       "      <td>0.011185</td>\n",
       "      <td>0.000023</td>\n",
       "      <td>NaN</td>\n",
       "    </tr>\n",
       "    <tr>\n",
       "      <th>1</th>\n",
       "      <td>False</td>\n",
       "      <td>Summarize in french:</td>\n",
       "      <td>1879</td>\n",
       "      <td>4046</td>\n",
       "      <td>{0: 2.2590160369873047e-05, 1: 5.6982040405273...</td>\n",
       "      <td>0.010002</td>\n",
       "      <td>0.000023</td>\n",
       "      <td>NaN</td>\n",
       "    </tr>\n",
       "    <tr>\n",
       "      <th>2</th>\n",
       "      <td>False</td>\n",
       "      <td>Summarize in french:</td>\n",
       "      <td>1617</td>\n",
       "      <td>4040</td>\n",
       "      <td>{0: 2.104043960571289e-05, 1: 5.42402267456054...</td>\n",
       "      <td>0.009613</td>\n",
       "      <td>0.000021</td>\n",
       "      <td>NaN</td>\n",
       "    </tr>\n",
       "    <tr>\n",
       "      <th>3</th>\n",
       "      <td>False</td>\n",
       "      <td>Summarize in french:</td>\n",
       "      <td>8016</td>\n",
       "      <td>4012</td>\n",
       "      <td>{0: 2.2172927856445312e-05, 1: 5.3167343139648...</td>\n",
       "      <td>0.010490</td>\n",
       "      <td>0.000022</td>\n",
       "      <td>NaN</td>\n",
       "    </tr>\n",
       "    <tr>\n",
       "      <th>4</th>\n",
       "      <td>False</td>\n",
       "      <td>Summarize in french:</td>\n",
       "      <td>1125</td>\n",
       "      <td>4012</td>\n",
       "      <td>{0: 2.4080276489257812e-05, 1: 5.8412551879882...</td>\n",
       "      <td>0.009575</td>\n",
       "      <td>0.000024</td>\n",
       "      <td>NaN</td>\n",
       "    </tr>\n",
       "    <tr>\n",
       "      <th>...</th>\n",
       "      <td>...</td>\n",
       "      <td>...</td>\n",
       "      <td>...</td>\n",
       "      <td>...</td>\n",
       "      <td>...</td>\n",
       "      <td>...</td>\n",
       "      <td>...</td>\n",
       "      <td>...</td>\n",
       "    </tr>\n",
       "    <tr>\n",
       "      <th>3481</th>\n",
       "      <td>True</td>\n",
       "      <td>You must summarize the following text in french:</td>\n",
       "      <td>7394</td>\n",
       "      <td>256</td>\n",
       "      <td>{0: 0.00042557716369628906, 1: 0.0006756782531...</td>\n",
       "      <td>0.046082</td>\n",
       "      <td>0.000426</td>\n",
       "      <td>(0.0, 2000.0]</td>\n",
       "    </tr>\n",
       "    <tr>\n",
       "      <th>3482</th>\n",
       "      <td>True</td>\n",
       "      <td>You must summarize the following text in french:</td>\n",
       "      <td>6932</td>\n",
       "      <td>243</td>\n",
       "      <td>{0: 0.0005002021789550781, 1: 0.00080728530883...</td>\n",
       "      <td>0.041199</td>\n",
       "      <td>0.000500</td>\n",
       "      <td>(0.0, 2000.0]</td>\n",
       "    </tr>\n",
       "    <tr>\n",
       "      <th>3483</th>\n",
       "      <td>True</td>\n",
       "      <td>You must summarize the following text in french:</td>\n",
       "      <td>3943</td>\n",
       "      <td>235</td>\n",
       "      <td>{0: 0.00046372413635253906, 1: 0.0007410049438...</td>\n",
       "      <td>0.044861</td>\n",
       "      <td>0.000464</td>\n",
       "      <td>(0.0, 2000.0]</td>\n",
       "    </tr>\n",
       "    <tr>\n",
       "      <th>3484</th>\n",
       "      <td>True</td>\n",
       "      <td>You must summarize the following text in french:</td>\n",
       "      <td>4922</td>\n",
       "      <td>224</td>\n",
       "      <td>{0: 0.0005373954772949219, 1: 0.00077104568481...</td>\n",
       "      <td>0.041687</td>\n",
       "      <td>0.000537</td>\n",
       "      <td>(0.0, 2000.0]</td>\n",
       "    </tr>\n",
       "    <tr>\n",
       "      <th>3485</th>\n",
       "      <td>True</td>\n",
       "      <td>You must summarize the following text in french:</td>\n",
       "      <td>7645</td>\n",
       "      <td>220</td>\n",
       "      <td>{0: 0.0005865097045898438, 1: 0.00085926055908...</td>\n",
       "      <td>0.045898</td>\n",
       "      <td>0.000587</td>\n",
       "      <td>(0.0, 2000.0]</td>\n",
       "    </tr>\n",
       "  </tbody>\n",
       "</table>\n",
       "<p>3486 rows × 8 columns</p>\n",
       "</div>"
      ],
      "text/plain": [
       "     is_french                                        instruction  index  \\\n",
       "0        False                              Summarize in french:     656   \n",
       "1        False                              Summarize in french:    1879   \n",
       "2        False                              Summarize in french:    1617   \n",
       "3        False                              Summarize in french:    8016   \n",
       "4        False                              Summarize in french:    1125   \n",
       "...        ...                                                ...    ...   \n",
       "3481      True  You must summarize the following text in french:    7394   \n",
       "3482      True  You must summarize the following text in french:    6932   \n",
       "3483      True  You must summarize the following text in french:    3943   \n",
       "3484      True  You must summarize the following text in french:    4922   \n",
       "3485      True  You must summarize the following text in french:    7645   \n",
       "\n",
       "      context_length                                          influence  \\\n",
       "0               4085  {0: 2.3186206817626953e-05, 1: 5.8352947235107...   \n",
       "1               4046  {0: 2.2590160369873047e-05, 1: 5.6982040405273...   \n",
       "2               4040  {0: 2.104043960571289e-05, 1: 5.42402267456054...   \n",
       "3               4012  {0: 2.2172927856445312e-05, 1: 5.3167343139648...   \n",
       "4               4012  {0: 2.4080276489257812e-05, 1: 5.8412551879882...   \n",
       "...              ...                                                ...   \n",
       "3481             256  {0: 0.00042557716369628906, 1: 0.0006756782531...   \n",
       "3482             243  {0: 0.0005002021789550781, 1: 0.00080728530883...   \n",
       "3483             235  {0: 0.00046372413635253906, 1: 0.0007410049438...   \n",
       "3484             224  {0: 0.0005373954772949219, 1: 0.00077104568481...   \n",
       "3485             220  {0: 0.0005865097045898438, 1: 0.00085926055908...   \n",
       "\n",
       "      layer_31   layer_0 context_length_bins  \n",
       "0     0.011185  0.000023                 NaN  \n",
       "1     0.010002  0.000023                 NaN  \n",
       "2     0.009613  0.000021                 NaN  \n",
       "3     0.010490  0.000022                 NaN  \n",
       "4     0.009575  0.000024                 NaN  \n",
       "...        ...       ...                 ...  \n",
       "3481  0.046082  0.000426       (0.0, 2000.0]  \n",
       "3482  0.041199  0.000500       (0.0, 2000.0]  \n",
       "3483  0.044861  0.000464       (0.0, 2000.0]  \n",
       "3484  0.041687  0.000537       (0.0, 2000.0]  \n",
       "3485  0.045898  0.000587       (0.0, 2000.0]  \n",
       "\n",
       "[3486 rows x 8 columns]"
      ]
     },
     "execution_count": 20,
     "metadata": {},
     "output_type": "execute_result"
    }
   ],
   "source": [
    "probability_df"
   ]
  },
  {
   "cell_type": "code",
   "execution_count": 21,
   "metadata": {},
   "outputs": [
    {
     "data": {
      "text/plain": [
       "0.7541265589082369"
      ]
     },
     "execution_count": 21,
     "metadata": {},
     "output_type": "execute_result"
    }
   ],
   "source": [
    "roc_auc_score(targets, probas)"
   ]
  },
  {
   "cell_type": "code",
   "execution_count": 22,
   "metadata": {},
   "outputs": [
    {
     "data": {
      "text/plain": [
       "0.7493260752770469"
      ]
     },
     "execution_count": 22,
     "metadata": {},
     "output_type": "execute_result"
    }
   ],
   "source": [
    "roc_auc_score(targets, probas_first)"
   ]
  },
  {
   "cell_type": "markdown",
   "metadata": {},
   "source": [
    "## AUC of context length"
   ]
  },
  {
   "cell_type": "code",
   "execution_count": 23,
   "metadata": {},
   "outputs": [],
   "source": [
    "features_length = probability_df['context_length']"
   ]
  },
  {
   "cell_type": "code",
   "execution_count": 24,
   "metadata": {},
   "outputs": [
    {
     "data": {
      "text/plain": [
       "0.785574024402921"
      ]
     },
     "execution_count": 24,
     "metadata": {},
     "output_type": "execute_result"
    }
   ],
   "source": [
    "roc_auc_score(targets, 1/features_length)"
   ]
  },
  {
   "cell_type": "markdown",
   "metadata": {},
   "source": [
    "## Attention rollout"
   ]
  },
  {
   "cell_type": "code",
   "execution_count": 25,
   "metadata": {},
   "outputs": [],
   "source": [
    "unique_text_df = pd.concat(all_results)\\\n",
    "    .groupby(['instruction', 'index'])\\\n",
    "    [['text', \"context_length\"]]\\\n",
    "    .first()\\\n",
    "    .reset_index()\\\n",
    "    .query(\" context_length < 4100\")"
   ]
  },
  {
   "cell_type": "code",
   "execution_count": 26,
   "metadata": {},
   "outputs": [
    {
     "data": {
      "text/html": [
       "<div>\n",
       "<style scoped>\n",
       "    .dataframe tbody tr th:only-of-type {\n",
       "        vertical-align: middle;\n",
       "    }\n",
       "\n",
       "    .dataframe tbody tr th {\n",
       "        vertical-align: top;\n",
       "    }\n",
       "\n",
       "    .dataframe thead th {\n",
       "        text-align: right;\n",
       "    }\n",
       "</style>\n",
       "<table border=\"1\" class=\"dataframe\">\n",
       "  <thead>\n",
       "    <tr style=\"text-align: right;\">\n",
       "      <th></th>\n",
       "      <th>instruction</th>\n",
       "      <th>index</th>\n",
       "      <th>text</th>\n",
       "      <th>context_length</th>\n",
       "    </tr>\n",
       "  </thead>\n",
       "  <tbody>\n",
       "    <tr>\n",
       "      <th>0</th>\n",
       "      <td>Important: Summarize in french:</td>\n",
       "      <td>35</td>\n",
       "      <td>Okay, are y’all ready for the longest sex ques...</td>\n",
       "      <td>3819</td>\n",
       "    </tr>\n",
       "    <tr>\n",
       "      <th>4</th>\n",
       "      <td>Important: Summarize in french:</td>\n",
       "      <td>247</td>\n",
       "      <td>Large lake in the Northwest Territories of Can...</td>\n",
       "      <td>2654</td>\n",
       "    </tr>\n",
       "    <tr>\n",
       "      <th>10</th>\n",
       "      <td>Important: Summarize in french:</td>\n",
       "      <td>408</td>\n",
       "      <td>Tweet\\n\\nProfessor Joan Goodman, the director ...</td>\n",
       "      <td>2772</td>\n",
       "    </tr>\n",
       "    <tr>\n",
       "      <th>13</th>\n",
       "      <td>Important: Summarize in french:</td>\n",
       "      <td>590</td>\n",
       "      <td>Secret Empire Tie-ins (ongoing series)\\n\\nIn t...</td>\n",
       "      <td>3894</td>\n",
       "    </tr>\n",
       "    <tr>\n",
       "      <th>14</th>\n",
       "      <td>Important: Summarize in french:</td>\n",
       "      <td>592</td>\n",
       "      <td>An 'immigrant hating' Frenchman who planned 15...</td>\n",
       "      <td>2356</td>\n",
       "    </tr>\n",
       "    <tr>\n",
       "      <th>...</th>\n",
       "      <td>...</td>\n",
       "      <td>...</td>\n",
       "      <td>...</td>\n",
       "      <td>...</td>\n",
       "    </tr>\n",
       "    <tr>\n",
       "      <th>713</th>\n",
       "      <td>You must summarize the following text in french:</td>\n",
       "      <td>9683</td>\n",
       "      <td>With the loss of the Agena target vehicle shor...</td>\n",
       "      <td>2562</td>\n",
       "    </tr>\n",
       "    <tr>\n",
       "      <th>715</th>\n",
       "      <td>You must summarize the following text in french:</td>\n",
       "      <td>9692</td>\n",
       "      <td>Roughly half of voters in Toronto — a traditio...</td>\n",
       "      <td>1982</td>\n",
       "    </tr>\n",
       "    <tr>\n",
       "      <th>717</th>\n",
       "      <td>You must summarize the following text in french:</td>\n",
       "      <td>9842</td>\n",
       "      <td>“We are taking the heat from both sides,” Geha...</td>\n",
       "      <td>1945</td>\n",
       "    </tr>\n",
       "    <tr>\n",
       "      <th>718</th>\n",
       "      <td>You must summarize the following text in french:</td>\n",
       "      <td>9965</td>\n",
       "      <td>Ladder racks are extremely useful tools. They ...</td>\n",
       "      <td>772</td>\n",
       "    </tr>\n",
       "    <tr>\n",
       "      <th>719</th>\n",
       "      <td>You must summarize the following text in french:</td>\n",
       "      <td>9980</td>\n",
       "      <td>Mitanni was a state that existed between the 1...</td>\n",
       "      <td>1388</td>\n",
       "    </tr>\n",
       "  </tbody>\n",
       "</table>\n",
       "<p>498 rows × 4 columns</p>\n",
       "</div>"
      ],
      "text/plain": [
       "                                           instruction  index  \\\n",
       "0                     Important: Summarize in french:      35   \n",
       "4                     Important: Summarize in french:     247   \n",
       "10                    Important: Summarize in french:     408   \n",
       "13                    Important: Summarize in french:     590   \n",
       "14                    Important: Summarize in french:     592   \n",
       "..                                                 ...    ...   \n",
       "713  You must summarize the following text in french:    9683   \n",
       "715  You must summarize the following text in french:    9692   \n",
       "717  You must summarize the following text in french:    9842   \n",
       "718  You must summarize the following text in french:    9965   \n",
       "719  You must summarize the following text in french:    9980   \n",
       "\n",
       "                                                  text  context_length  \n",
       "0    Okay, are y’all ready for the longest sex ques...            3819  \n",
       "4    Large lake in the Northwest Territories of Can...            2654  \n",
       "10   Tweet\\n\\nProfessor Joan Goodman, the director ...            2772  \n",
       "13   Secret Empire Tie-ins (ongoing series)\\n\\nIn t...            3894  \n",
       "14   An 'immigrant hating' Frenchman who planned 15...            2356  \n",
       "..                                                 ...             ...  \n",
       "713  With the loss of the Agena target vehicle shor...            2562  \n",
       "715  Roughly half of voters in Toronto — a traditio...            1982  \n",
       "717  “We are taking the heat from both sides,” Geha...            1945  \n",
       "718  Ladder racks are extremely useful tools. They ...             772  \n",
       "719  Mitanni was a state that existed between the 1...            1388  \n",
       "\n",
       "[498 rows x 4 columns]"
      ]
     },
     "execution_count": 26,
     "metadata": {},
     "output_type": "execute_result"
    }
   ],
   "source": [
    "unique_text_df"
   ]
  },
  {
   "cell_type": "code",
   "execution_count": null,
   "metadata": {},
   "outputs": [],
   "source": []
  },
  {
   "cell_type": "code",
   "execution_count": 27,
   "metadata": {},
   "outputs": [
    {
     "ename": "TypeError",
     "evalue": "BaseMetric.__init__() missing 3 required positional arguments: 'base_model', 'tokenizer', and 'num_layers'",
     "output_type": "error",
     "traceback": [
      "\u001b[0;31m---------------------------------------------------------------------------\u001b[0m",
      "\u001b[0;31mTypeError\u001b[0m                                 Traceback (most recent call last)",
      "Cell \u001b[0;32mIn[27], line 1\u001b[0m\n\u001b[0;32m----> 1\u001b[0m influence \u001b[38;5;241m=\u001b[39m \u001b[43mInfluence\u001b[49m\u001b[43m(\u001b[49m\u001b[43m)\u001b[49m\n\u001b[1;32m      2\u001b[0m N_LAYERS \u001b[38;5;241m=\u001b[39m \u001b[38;5;241m32\u001b[39m\n\u001b[1;32m      4\u001b[0m influence_rollout \u001b[38;5;241m=\u001b[39m influence(\n\u001b[1;32m      5\u001b[0m     base_model,\n\u001b[1;32m      6\u001b[0m     tokenizer,\n\u001b[0;32m   (...)\u001b[0m\n\u001b[1;32m     12\u001b[0m     instruction_in_text\u001b[38;5;241m=\u001b[39m\u001b[38;5;28;01mFalse\u001b[39;00m,\n\u001b[1;32m     13\u001b[0m )\n",
      "\u001b[0;31mTypeError\u001b[0m: BaseMetric.__init__() missing 3 required positional arguments: 'base_model', 'tokenizer', and 'num_layers'"
     ]
    }
   ],
   "source": [
    "influence = Influence()\n",
    "N_LAYERS = 32\n",
    "\n",
    "influence_rollout = influence(\n",
    "    base_model,\n",
    "    tokenizer,\n",
    "    unique_text_df.sort_values(\"context_length\", ascending = False),\n",
    "    0,\n",
    "    N_LAYERS,\n",
    "    augmented_layers=\"none\",\n",
    "    use_values=False,\n",
    "    instruction_in_text=False,\n",
    ")\n"
   ]
  },
  {
   "cell_type": "code",
   "execution_count": 25,
   "metadata": {},
   "outputs": [
    {
     "ename": "NameError",
     "evalue": "name 'influence_rollout' is not defined",
     "output_type": "error",
     "traceback": [
      "\u001b[0;31m---------------------------------------------------------------------------\u001b[0m",
      "\u001b[0;31mNameError\u001b[0m                                 Traceback (most recent call last)",
      "Cell \u001b[0;32mIn[25], line 1\u001b[0m\n\u001b[0;32m----> 1\u001b[0m \u001b[43minfluence_rollout\u001b[49m\n",
      "\u001b[0;31mNameError\u001b[0m: name 'influence_rollout' is not defined"
     ]
    }
   ],
   "source": [
    "influence_rollout"
   ]
  },
  {
   "cell_type": "code",
   "execution_count": null,
   "metadata": {},
   "outputs": [],
   "source": []
  },
  {
   "cell_type": "code",
   "execution_count": 12,
   "metadata": {},
   "outputs": [],
   "source": [
    "gc.collect()\n",
    "torch.cuda.empty_cache()"
   ]
  },
  {
   "cell_type": "code",
   "execution_count": 21,
   "metadata": {},
   "outputs": [],
   "source": [
    "results_dict = dict()\n",
    "last_layer_influences = dict()\n",
    "first_layer_influences = dict()\n",
    "\n",
    "for key in influence_rollout:\n",
    "    results_dict[key] = {}\n",
    "\n",
    "    for layer in range(32):\n",
    "        results_dict[key][layer] = influence_rollout[key]\\\n",
    "            [layer][-10:]\\\n",
    "            .mean()\\\n",
    "            .item()\n",
    "        \n",
    "        last_layer_influences[key] = influence_rollout[key]\\\n",
    "            [31]\n",
    "        \n",
    "        first_layer_influences[key] = influence_rollout[key]\\\n",
    "            [0]"
   ]
  },
  {
   "cell_type": "code",
   "execution_count": 23,
   "metadata": {},
   "outputs": [
    {
     "data": {
      "text/plain": [
       "6936  Summarize in french:     {0: 0.000614240940194577, 1: 0.000614286225754...\n",
       "1223  Summarize in french:     {0: 0.0003732677432708442, 1: 0.00037329518818...\n",
       "5815  Summarize in french:     {0: 0.0020491413306444883, 1: 0.00204923772253...\n",
       "dtype: object"
      ]
     },
     "execution_count": 23,
     "metadata": {},
     "output_type": "execute_result"
    }
   ],
   "source": [
    "pd.Series(results_dict)"
   ]
  },
  {
   "cell_type": "code",
   "execution_count": 57,
   "metadata": {},
   "outputs": [],
   "source": [
    "pd.Series(last_layer_influences).to_pickle(\"data/influences/last_layer_influences.pkl\")\n",
    "\n",
    "pd.Series(first_layer_influences).to_pickle(\"data/influences/first_layer_influences.pkl\")"
   ]
  },
  {
   "cell_type": "code",
   "execution_count": 19,
   "metadata": {},
   "outputs": [],
   "source": [
    "pd.DataFrame(results_dict).T\\\n",
    "    .to_pickle(\"data/influences/non_normalized_influence_all_layers.pkl\")"
   ]
  },
  {
   "cell_type": "code",
   "execution_count": 28,
   "metadata": {},
   "outputs": [],
   "source": [
    "influence_df = pd.read_pickle(\"data/influences/non_normalized_influence_all_layers.pkl\")\\\n",
    "    .reset_index()\\\n",
    "    .rename(\n",
    "        columns = {\"level_0\": \"index\", \"level_1\": \"instruction\", 31:\"rollout\"}\n",
    "    )"
   ]
  },
  {
   "cell_type": "code",
   "execution_count": null,
   "metadata": {},
   "outputs": [],
   "source": []
  },
  {
   "cell_type": "code",
   "execution_count": 29,
   "metadata": {},
   "outputs": [],
   "source": [
    "probability_df = pd.merge(\n",
    "    grouped_text,\n",
    "    influence_df,\n",
    "    on = ['instruction', 'index']\n",
    ")"
   ]
  },
  {
   "cell_type": "code",
   "execution_count": 31,
   "metadata": {},
   "outputs": [
    {
     "name": "stdout",
     "output_type": "stream",
     "text": [
      "5 10\n",
      "Forward propagation on instruction = Summarize in French. Index = 0\n",
      "Influence tokens : 5 to 10\n",
      "Studying influence to 'Summarize in French'\n",
      "Finished forward step in 7.354038238525391 s\n"
     ]
    },
    {
     "name": "stderr",
     "output_type": "stream",
     "text": [
      "100%|██████████| 32/32 [00:00<00:00, 90.69it/s]\n"
     ]
    },
    {
     "name": "stdout",
     "output_type": "stream",
     "text": [
      "Passing tensors to CPU...\n"
     ]
    }
   ],
   "source": [
    "row = df.query(\"context_length > 3500 & context_length < 4000\").sample(1, random_state = 42)\n",
    "row['instruction'] = \"Summarize in French\"\n",
    "\n",
    "rollout_calculator = AttentionRollout(\n",
    "    base_model,\n",
    "    tokenizer,\n",
    "    32\n",
    ")\n",
    "\n",
    "rollout = rollout_calculator(\n",
    "    row.reset_index(),\n",
    "    delta_attention= 0,\n",
    "    instruction_in_text= False,\n",
    ")"
   ]
  },
  {
   "cell_type": "code",
   "execution_count": 32,
   "metadata": {},
   "outputs": [
    {
     "name": "stdout",
     "output_type": "stream",
     "text": [
      "5 10\n",
      "Forward propagation on instruction = Summarize in French. Index = 0\n",
      "Influence tokens : 5 to 10\n",
      "Studying influence to 'Summarize in French'\n",
      "Finished forward step in 7.315856695175171 s\n"
     ]
    },
    {
     "name": "stderr",
     "output_type": "stream",
     "text": [
      "100%|██████████| 32/32 [00:00<00:00, 86.41it/s]\n"
     ]
    },
    {
     "name": "stdout",
     "output_type": "stream",
     "text": [
      "Passing tensors to CPU...\n"
     ]
    }
   ],
   "source": [
    "influence_calculator = Influence(\n",
    "    base_model,\n",
    "    tokenizer,\n",
    "    32\n",
    ")\n",
    "\n",
    "influence = influence_calculator(\n",
    "    row.reset_index(),\n",
    "    delta_attention= 0,\n",
    "    instruction_in_text= False,\n",
    ")"
   ]
  },
  {
   "cell_type": "code",
   "execution_count": 36,
   "metadata": {},
   "outputs": [
    {
     "data": {
      "image/png": "[encoded data removed]",
      "text/plain": [
       "<Figure size 1400x700 with 2 Axes>"
      ]
     },
     "metadata": {},
     "output_type": "display_data"
    }
   ],
   "source": [
    "plt.rc(\"font\", size =16)\n",
    "key = list(rollout.keys())[0]\n",
    "fig, axes = plt.subplots(nrows=1, ncols=2, figsize=(14, 7))\n",
    "\n",
    "\n",
    "for id, ((text_id, instruction), values) in enumerate(rollout.items()):\n",
    "    influences = values['influences']\n",
    "    # axes[0].plot(\n",
    "    #     torch.log(rolling_mean(influences[0], 20)[5:]),\n",
    "    #     label = \"attention rollout\",\n",
    "    #     linewidth = 2\n",
    "    # )\n",
    "\n",
    "\n",
    "    axes[0].plot(\n",
    "        torch.log(rolling_mean(influences[15], 20)[5:]),\n",
    "        label = \"attention rollout\",\n",
    "        linewidth = 3\n",
    "    )\n",
    "\n",
    "\n",
    "    axes[1].plot(\n",
    "        torch.log(rolling_mean(influences[31], 20)[5:]),\n",
    "        label = \"attention rollout\",\n",
    "        linewidth = 3\n",
    "    )\n",
    "\n",
    "for id, ((text_id, instruction), values) in enumerate(influence.items()):\n",
    "    influences = values['influences']\n",
    "    # axes[0].plot(\n",
    "    #     torch.log(rolling_mean(influences[0], 20)[5:]),\n",
    "    #     label = \"influence\",\n",
    "    #     linewidth = 2\n",
    "    # )\n",
    "\n",
    "\n",
    "    axes[0].plot(\n",
    "        torch.log(rolling_mean(influences[15], 20)[5:]),\n",
    "        label = \"influence\",\n",
    "        linewidth = 3\n",
    "    )\n",
    "\n",
    "\n",
    "    axes[1].plot(\n",
    "        torch.log(rolling_mean(influences[31], 20)[5:]),\n",
    "        label = \"influence\",\n",
    "        linewidth = 3\n",
    "    )\n",
    "label_fontsize = 30\n",
    "legend_fontsize = 30\n",
    "tick_fontsize = 18\n",
    "title_fontsize = 26\n",
    "\n",
    "axes[0].legend(prop= {\"size\" : legend_fontsize})\n",
    "axes[1].legend(prop= {\"size\" : legend_fontsize})\n",
    "# axes[2].legend()\n",
    "\n",
    "axes[0].set_title(\"Layer 16\", fontsize = title_fontsize)\n",
    "axes[1].set_title(\"Layer 32\", fontsize =  title_fontsize)\n",
    "# axes[2].set_title(\"Layer 32\")\n",
    "\n",
    "axes[0].grid(True)\n",
    "axes[1].grid(True)\n",
    "# axes[2].grid(True)\n",
    "\n",
    "\n",
    "axes[0].set_xlabel(\"Context length\", fontsize =  label_fontsize)\n",
    "axes[0].set_ylabel(\"log score\", fontsize =  label_fontsize )\n",
    "\n",
    "axes[1].set_xlabel(\"Context length\", fontsize =  label_fontsize )\n",
    "axes[1].set_ylabel(\"log score\", fontsize =  label_fontsize )\n",
    "\n",
    "# axes[2].set_xlabel(\"context length\" )\n",
    "# axes[2].set_ylabel(\"log influence\" )\n",
    "\n",
    "xticks = axes[0].get_xticks()\n",
    "new_xticks = xticks * 20 + 100\n",
    "\n",
    "# Set the new x-tick labels\n",
    "axes[0].set_xticklabels(new_xticks.astype(int))\n",
    "axes[1].set_xticklabels(new_xticks.astype(int))\n",
    "axes[0].tick_params(axis='both', which='major', labelsize=18)\n",
    "axes[1].tick_params(axis='both', which='major', labelsize=18)\n",
    "# axes[2].set_xticklabels(new_xticks.astype(int))\n",
    "\n",
    "plt.tight_layout()\n",
    "plt.savefig(\"img/influence vs attention rollout.pdf\")"
   ]
  },
  {
   "cell_type": "code",
   "execution_count": 38,
   "metadata": {},
   "outputs": [],
   "source": [
    "probability_df['context_length_bins'] = pd.cut(\n",
    "    probability_df['context_length'],\n",
    "    range(0,5_000, 2000)\n",
    ")\n",
    "def get_auc_per_context_len(x, column : str):\n",
    "    return roc_auc_score(x['is_french'].astype(int), x[column])\n",
    "\n",
    "auc_rollout = probability_df.groupby(\"context_length_bins\")\\\n",
    "    .apply(get_auc_per_context_len, column = \"rollout\")\\\n",
    "    .reset_index()\n",
    "\n",
    "auc_rollout['metric'] = 'rollout'\n"
   ]
  },
  {
   "cell_type": "code",
   "execution_count": 40,
   "metadata": {},
   "outputs": [],
   "source": [
    "targets, probas = probability_df['is_french'].astype(int), probability_df['rollout']"
   ]
  },
  {
   "cell_type": "code",
   "execution_count": 41,
   "metadata": {},
   "outputs": [
    {
     "data": {
      "text/plain": [
       "-0.3583169100981586"
      ]
     },
     "execution_count": 41,
     "metadata": {},
     "output_type": "execute_result"
    }
   ],
   "source": [
    "probability_df['is_french'].corr(probability_df['rollout'])"
   ]
  },
  {
   "cell_type": "code",
   "execution_count": 42,
   "metadata": {},
   "outputs": [
    {
     "data": {
      "text/plain": [
       "0.23458989077591924"
      ]
     },
     "execution_count": 42,
     "metadata": {},
     "output_type": "execute_result"
    }
   ],
   "source": [
    "roc_auc_score(targets, probas)"
   ]
  },
  {
   "cell_type": "code",
   "execution_count": null,
   "metadata": {},
   "outputs": [],
   "source": []
  },
  {
   "cell_type": "code",
   "execution_count": null,
   "metadata": {},
   "outputs": [],
   "source": []
  },
  {
   "cell_type": "code",
   "execution_count": null,
   "metadata": {},
   "outputs": [],
   "source": []
  },
  {
   "cell_type": "code",
   "execution_count": null,
   "metadata": {},
   "outputs": [],
   "source": []
  },
  {
   "cell_type": "code",
   "execution_count": null,
   "metadata": {},
   "outputs": [],
   "source": []
  },
  {
   "cell_type": "code",
   "execution_count": null,
   "metadata": {},
   "outputs": [],
   "source": []
  },
  {
   "cell_type": "code",
   "execution_count": 17,
   "metadata": {},
   "outputs": [],
   "source": [
    "merged_df = pd.merge(\n",
    "    influence_df,\n",
    "    probability_in_french,\n",
    "    on= ['index'],\n",
    "    how = 'inner'\n",
    ")"
   ]
  },
  {
   "cell_type": "code",
   "execution_count": 18,
   "metadata": {},
   "outputs": [],
   "source": [
    "merged_df['influence'] = merged_df['influence'].apply(lambda x: x[31])"
   ]
  },
  {
   "cell_type": "code",
   "execution_count": 19,
   "metadata": {},
   "outputs": [],
   "source": [
    "merged_df = merged_df.groupby(\"index\")\\\n",
    "    [[\"is_french\", \"influence\"]]\\\n",
    "    .mean()"
   ]
  },
  {
   "cell_type": "code",
   "execution_count": 20,
   "metadata": {},
   "outputs": [
    {
     "data": {
      "text/plain": [
       "0.7155391117949951"
      ]
     },
     "execution_count": 20,
     "metadata": {},
     "output_type": "execute_result"
    }
   ],
   "source": [
    "correlation = merged_df['influence'].corr(merged_df['is_french'])\n",
    "correlation"
   ]
  },
  {
   "cell_type": "code",
   "execution_count": 21,
   "metadata": {},
   "outputs": [],
   "source": [
    "merged_df['is_french'] = merged_df.is_french.astype(float)"
   ]
  },
  {
   "cell_type": "code",
   "execution_count": 23,
   "metadata": {},
   "outputs": [
    {
     "name": "stderr",
     "output_type": "stream",
     "text": [
      "No artists with labels found to put in legend.  Note that artists whose label start with an underscore are ignored when legend() is called with no argument.\n"
     ]
    },
    {
     "data": {
      "text/plain": [
       "<Figure size 1600x600 with 0 Axes>"
      ]
     },
     "metadata": {},
     "output_type": "display_data"
    },
    {
     "data": {
      "image/png": "[encoded data removed]",
      "text/plain": [
       "<Figure size 600x400 with 1 Axes>"
      ]
     },
     "metadata": {},
     "output_type": "display_data"
    }
   ],
   "source": [
    "# plt.scatter(\n",
    "#     merged_df['influence'], \n",
    "#     merged_df['is_french'],\n",
    "#     marker = '.',\n",
    "#     label = f\"Correlation = {round(correlation, 2)}\"\n",
    "# )\n",
    "\n",
    "plt.figure(figsize=(16,6))\n",
    "\n",
    "sns.lmplot(\n",
    "    merged_df,\n",
    "    x = 'influence',\n",
    "    y = 'is_french',\n",
    "    height=4,\n",
    "    aspect=1.5,\n",
    "    scatter_kws={'s': 10, 'label': \"Hello\"},\n",
    "    line_kws={'color': 'red', \"linestyle\": \"dashed\"},\n",
    "    facet_kws={\"legend_out\": False},\n",
    "    legend=True\n",
    ")\n",
    "\n",
    "plt.xlabel(\"Influence\")\n",
    "plt.ylabel(\"Probability of output in french\")\n",
    "plt.legend(title = f\"Correlation = {round(correlation, 2)}\")\n",
    "# plt.title(rf\"Setup : $\\Delta = 0$\")\n",
    "plt.grid()"
   ]
  },
  {
   "cell_type": "code",
   "execution_count": null,
   "metadata": {},
   "outputs": [],
   "source": []
  }
 ],
 "metadata": {
  "kernelspec": {
   "display_name": "Python 3",
   "language": "python",
   "name": "python3"
  },
  "language_info": {
   "codemirror_mode": {
    "name": "ipython",
    "version": 3
   },
   "file_extension": ".py",
   "mimetype": "text/x-python",
   "name": "python",
   "nbconvert_exporter": "python",
   "pygments_lexer": "ipython3",
   "version": "3.11.9"
  }
 },
 "nbformat": 4,
 "nbformat_minor": 2
}
