{
 "cells": [
  {
   "cell_type": "code",
   "execution_count": 1,
   "metadata": {},
   "outputs": [],
   "source": [
    "%load_ext autoreload\n",
    "%autoreload 2"
   ]
  },
  {
   "cell_type": "code",
   "execution_count": 2,
   "metadata": {},
   "outputs": [],
   "source": [
    "from transformers import AutoModelForCausalLM, AutoTokenizer, AutoModel, \\\n",
    "  BitsAndBytesConfig, GPTQConfig\n",
    "import os\n",
    "\n",
    "while \"notebooks\" in os.getcwd():\n",
    "    os.chdir(\"..\")\n",
    "\n",
    "from time import time\n",
    "from tqdm import tqdm\n",
    "import torch\n",
    "from langdetect import detect\n",
    "import numpy as np\n",
    "import pandas as pd\n",
    "import seaborn as sns\n",
    "import matplotlib.pyplot as plt\n",
    "from huggingface_hub import notebook_login\n",
    "from datasets import load_dataset\n",
    "import math\n",
    "from typing import List, Optional, Tuple, Union\n",
    "from torch import nn\n",
    "from tqdm import tqdm\n",
    "from IPython.display import clear_output\n",
    "import warnings\n",
    "warnings.filterwarnings(\"ignore\")\n",
    "from copy import deepcopy\n",
    "import gc\n",
    "from sklearn.metrics import roc_auc_score\n",
    "\n",
    "from src.utils import rotate_half, apply_rotary_pos_emb, repeat_kv, \\\n",
    "    get_context_length, get_generated_text, FileReader, is_text_in_language, rolling_mean\n",
    "\n",
    "from src.attention_saver import Mistral7BAttentionSaver\n",
    "from src.influence.influence import Influence, AttentionRollout\n",
    "\n",
    "import scienceplots\n",
    "plt.style.use(['science','no-latex'])\n",
    "\n",
    "tqdm.pandas()"
   ]
  },
  {
   "cell_type": "markdown",
   "metadata": {},
   "source": [
    "## Loading dataset"
   ]
  },
  {
   "cell_type": "code",
   "execution_count": 3,
   "metadata": {},
   "outputs": [
    {
     "data": {
      "application/vnd.jupyter.widget-view+json": {
       "model_id": "f1a107c635e940318da99d1fae39cf29",
       "version_major": 2,
       "version_minor": 0
      },
      "text/plain": [
       "VBox(children=(HTML(value='<center> <img\\nsrc=https://huggingface.co/front/assets/huggingface_logo-noborder.sv…"
      ]
     },
     "metadata": {},
     "output_type": "display_data"
    }
   ],
   "source": [
    "notebook_login()"
   ]
  },
  {
   "cell_type": "code",
   "execution_count": 4,
   "metadata": {},
   "outputs": [],
   "source": [
    "device = \"cuda\" if torch.cuda.is_available() else \"cpu\"\n",
    "\n",
    "df = load_dataset(\"stas/openwebtext-10k\", cache_dir= \"/Data\")['train'].to_pandas()\n",
    "df[\"text_len\"] = df[\"text\"].apply(lambda x: len(x.split(\" \")))"
   ]
  },
  {
   "cell_type": "code",
   "execution_count": 5,
   "metadata": {},
   "outputs": [
    {
     "data": {
      "application/vnd.jupyter.widget-view+json": {
       "model_id": "481a52b3f07a4fa4825f4f39f96c37b8",
       "version_major": 2,
       "version_minor": 0
      },
      "text/plain": [
       "Loading checkpoint shards:   0%|          | 0/2 [00:00<?, ?it/s]"
      ]
     },
     "metadata": {},
     "output_type": "display_data"
    }
   ],
   "source": [
    "quantization_config = BitsAndBytesConfig(\n",
    "    load_in_4bit=True,\n",
    "    bnb_4bit_quant_type=\"nf4\",\n",
    "    bnb_4bit_use_double_quant=True,\n",
    "    bnb_4bit_compute_dtype=torch.bfloat16\n",
    ")\n",
    "\n",
    "tokenizer = AutoTokenizer.from_pretrained(\n",
    "    \"mistralai/Mistral-7B-Instruct-v0.1\",\n",
    "    cache_dir = \"/Data\"    \n",
    ")\n",
    "\n",
    "\n",
    "base_model = AutoModel.from_pretrained(\n",
    "    \"mistralai/Mistral-7B-Instruct-v0.1\",\n",
    "    quantization_config = quantization_config,\n",
    "    device_map=\"auto\",\n",
    "    attn_implementation=\"eager\",\n",
    "    cache_dir = \"/Data\"\n",
    ")"
   ]
  },
  {
   "cell_type": "code",
   "execution_count": 6,
   "metadata": {},
   "outputs": [],
   "source": [
    "saver = Mistral7BAttentionSaver(\n",
    "    base_model,\n",
    "    tokenizer,\n",
    "    should_save_params=True\n",
    ")"
   ]
  },
  {
   "cell_type": "markdown",
   "metadata": {},
   "source": [
    "\n",
    "## Obtaining generation results"
   ]
  },
  {
   "cell_type": "code",
   "execution_count": 7,
   "metadata": {},
   "outputs": [
    {
     "name": "stderr",
     "output_type": "stream",
     "text": [
      "  0%|          | 0/10000 [00:00<?, ?it/s]"
     ]
    },
    {
     "name": "stderr",
     "output_type": "stream",
     "text": [
      "100%|██████████| 10000/10000 [00:20<00:00, 482.23it/s]\n"
     ]
    }
   ],
   "source": [
    "base_instruction = \"Summarize in french\"\n",
    "df[\"context_length\"] = (base_instruction + \" \\n\" + df[\"text\"])\\\n",
    "    .progress_apply(get_context_length, tokenizer = tokenizer)"
   ]
  },
  {
   "cell_type": "code",
   "execution_count": 8,
   "metadata": {},
   "outputs": [
    {
     "name": "stdout",
     "output_type": "stream",
     "text": [
      "[Errno 2] No such file or directory: 'data/complete_study_200_tokens/checkpoints/all_layers_generated_delta=0.0.pkl'\n",
      "Exception raised while analysing the text  21 =85 9/5=4 1 2 2 0 0 0 0 2 2 1 2 2 0 0 4 9 9 9 0 0 0 0 4 9 9 9 0 0 0 0 4 9 9 9 0 0 0 0 3 9 9 9 0 0 0 0 3 9 9 9 0 0 0 0 3 9 9 9 0 0 0 0 3 9 9 9 0 0 0 0 3 9 9 9 0 0 0 0 3 9 9 9 0 0 0 0 4 9 9 9 0 0 0 0\n",
      "Exception raised while analysing the text  1\n",
      "2 3 4 5 6 7 8 9 10 11 12 13 14 15 16 17 18 19 20 21 22 23 24 25 26 27 28 29 30 31 32 33 34 35 36 37 38 39 40 41 42 43 44 45 46 47 48 49 50 51 52 53 54 55 56 57 58 59 60 61 62 63 64 65 66 67 68 69 7\n",
      "Exception raised while analysing the text  1\n",
      "2\n",
      "3 4 5 6 7 8 9 10 11 12 13 14 15 16 17 18 19 20 21 22 23 24 25 26 27 28 29 30 31 32 33 34 35 36 37 38 39 40 41 42 43 44 45 46 47 48 49 50 51 52 53 54 55 56 57 58 59 60 61 62 63 64 65 66 67 68 69 7\n",
      "Exception raised while analysing the text  ᖺᖷ የስትስት ስትስት የንሕትንም የርንንም ስትስትስት የስትስት ስትስት የስትስት ስትስት የንንም የንሕንስትንም የስትስት የንስትንም የንንም የስትስት የንስትንም የንስትንም የንስትንም የንንንም የንስትንም የንስትንም የንስትንም የንስትንም የንስትንም የንስትንም የንስትንም የንስትንም የንስትንም የንስትንም \n",
      "Exception raised while analysing the text  ¡¡¡¡¡¡¡¡¡¡¡¡¡¡¡¡¡¡¡¡¡¡¡¡¡¡¡¡¡¡¡¡¡¡¡¡¡¡¡¡¡¡¡¡¡¡¡¡¡¡¡¡¡¡¡¡¡¡¡¡¡¡¡¡¡¡¡¡¡¡¡¡¡¡¡¡¡¡¡¡¡¡¡¡¡¡¡¡¡¡¡¡¡¡¡¡¡¡¡¡¡¡¡¡¡¡¡¡¡¡¡¡¡¡¡¡¡¡¡¡¡¡¡¡¡¡¡¡¡¡¡¡¡¡¡¡¡¡¡¡¡¡¡¡¡¡¡¡¡¡¡¡¡¡¡¡¡¡¡¡¡¡¡¡¡¡¡¡¡¡¡¡¡¡¡¡¡¡¡¡¡¡¡¡¡¡¡¡¡¡¡¡¡¡¡¡¡¡¡\n",
      "[Errno 2] No such file or directory: 'data/complete_study_200_tokens/checkpoints/none_layers_generated_delta=0.5.pkl'\n",
      "Exception raised while analysing the text  =78 163 164 165 166 167 168 169 170 171 172 173 174 175 176 177 178 179 180 181 182 183 184 185 186 187 188 189 190 191 192 193 194 195 196 197 198 199 200 201 202 203 204 205 206 207 208 209 210 211 \n",
      "[Errno 2] No such file or directory: 'data/complete_study_200_tokens/checkpoints/none_layers_generated_delta=1.0.pkl'\n",
      "[Errno 2] No such file or directory: 'data/complete_study_200_tokens/checkpoints/none_layers_generated_delta=2.0.pkl'\n",
      "Exception raised while analysing the text  271 272 273 274 275 276 277 278 279 280 281 282 283 284 285 286 287 288 289 290 291 292 293 294 295 296 297 298 299 300 301 302 303 304 305 306 307 308 309 310 311 312 313 314 315 316 317 318 319 320\n",
      "Exception raised while analysing the text  1,2,3,4,5,6,7,8,9,10,11,12,13,14,15,16,17,18,19,20,21,22,23,24,25,26,27,28,29,30,31,32,33,34,35,36,37,38,39,40,41,42,43,44,45,46,47,48,49,50,51,52,53,54,55,56,57,58,59,60,\n",
      "61,62,63,64,65,66,67,68,69,\n",
      "Exception raised while analysing the text  3 | 3 | 3 | 3 | 3 | 3 | 3 | 3 | 3 | 3 | 3 | 3 | 3 | 3 | 3 | 3 | 3 | 3 | 3 | 3 | 3 | 3 | 3 | 3 | 3 | 3 | 3 | 3 | 3 | 3 | 3 | 3 | 3 | 3 | 3 | 3 | 3 | 3 | 3 | 3 | 3 | 3 | 3 | 3 | 3 | 3 | 3 | 3 | 3 | 3 | 3 | 3 | 3 | 3 | 3 | 3 | 3 | 3 | 3 | 3 | 3 | 3 | 3 | 3 | 3 | 3 | 3\n",
      "Exception raised while analysing the text  ∫⋯∫</s>\n",
      "Exception raised while analysing the text  🎬🎬🎬 🎬🎬🎬 🎬🎬🎬🎬 🎬🎬🎬🎬 🎬🎬🎬 🎬🎬🎬🎬 🎬🎬🎬🎬 🎬🎬🎬🎬 🎬🎬🎬🎬 🎬🎬🎬 🎬🎬🎬🎬🎬 🎬🎬🎬🎬🎬🎬\n",
      "[Errno 2] No such file or directory: 'data/complete_study_200_tokens/checkpoints/none_layers_generated_delta=5.0.pkl'\n"
     ]
    }
   ],
   "source": [
    "base_path = \"data/complete_study_200_tokens/checkpoints/\"\n",
    "all_results = []\n",
    "for delta_attention in [0., 0.5 ,1., 2.0, 5.0]:\n",
    "    for all_layers in [\"all\", \"none\"]:\n",
    "        path = os.path.join(\n",
    "            base_path,\n",
    "            f\"{all_layers}_layers_generated_delta={delta_attention}.pkl\"\n",
    "        )\n",
    "        try:\n",
    "            results_df = pd.read_pickle(path).T\n",
    "\n",
    "        except Exception as e:\n",
    "            print(e)\n",
    "            continue\n",
    "\n",
    "        parsed_results_dict = dict()\n",
    "\n",
    "        for epoch in range(len(results_df.columns)-1):\n",
    "            for (idx, result_epoch) in results_df.loc[:,f\"epoch {epoch}\"].items():\n",
    "                s = pd.Series(result_epoch)\\\n",
    "                    .apply(get_generated_text)\\\n",
    "\n",
    "                data = pd.DataFrame(s).T\n",
    "                data.index = [idx]\n",
    "\n",
    "                if not epoch in parsed_results_dict:\n",
    "                    parsed_results_dict[epoch] = []\n",
    "\n",
    "                parsed_results_dict[epoch].append(data)\n",
    "\n",
    "            parsed_results_dict[epoch] = pd.concat(parsed_results_dict[epoch])\n",
    "\n",
    "        all_dfs = []\n",
    "\n",
    "        for epoch in parsed_results_dict.keys():\n",
    "            temp_df = pd.melt(\n",
    "                parsed_results_dict[epoch].reset_index(),\n",
    "                var_name = \"instruction\",\n",
    "                value_name = \"generated_text\",\n",
    "                id_vars = \"index\",\n",
    "            )\n",
    "\n",
    "            temp_df[\"is_french\"] = temp_df[\"generated_text\"].apply(is_text_in_language)\n",
    "\n",
    "            temp_df[\"generation_epoch\"] = epoch\n",
    "\n",
    "            all_dfs.append(temp_df)\n",
    "\n",
    "        melted_df = pd.concat(all_dfs)\n",
    "\n",
    "        melted_df = pd.merge(\n",
    "            melted_df,\n",
    "            df[[\"context_length\", \"text\"]],\n",
    "            left_on=\"index\",\n",
    "            right_index=True\n",
    "        )\n",
    "\n",
    "        melted_df[\"context_length_bins\"] = pd.cut(\n",
    "            melted_df[\"context_length\"], \n",
    "            np.arange(0,6_500,500)\n",
    "        )\n",
    "\n",
    "        melted_df.dropna(inplace=True)\n",
    "\n",
    "        study_name = f\"$\\Delta$={delta_attention}, all_layers={all_layers}\"\n",
    "        \n",
    "        if all_layers == 'first':\n",
    "            study_name= f\"$\\Delta$={delta_attention}, first layer only\"\n",
    "\n",
    "        elif  all_layers == 'all':\n",
    "\n",
    "            study_name = f\"$\\Delta$={delta_attention}, all_layers\"\n",
    "        melted_df[\"study\"] = study_name\n",
    "        \n",
    "        if delta_attention ==0:\n",
    "            melted_df[\"study\"] = f\"Raw model\"\n",
    "\n",
    "        all_results.append(melted_df)"
   ]
  },
  {
   "cell_type": "markdown",
   "metadata": {},
   "source": [
    "## Influence vs probability output in french\n"
   ]
  },
  {
   "cell_type": "code",
   "execution_count": 9,
   "metadata": {},
   "outputs": [],
   "source": [
    "probability_in_french = pd.concat(all_results)\\\n",
    "    .query(\"study == 'Raw model'\")\\\n",
    "    .groupby(['index'])\\\n",
    "    .is_french\\\n",
    "    .mean()\\\n",
    "    .reset_index()"
   ]
  },
  {
   "cell_type": "code",
   "execution_count": 10,
   "metadata": {},
   "outputs": [],
   "source": [
    "unique_text_df = pd.concat(all_results)\\\n",
    "    .groupby(['instruction', 'index'])\\\n",
    "    [['text', \"context_length\"]]\\\n",
    "    .first()\\\n",
    "    .reset_index()\\\n",
    "    .query(\" context_length < 4100\")"
   ]
  },
  {
   "cell_type": "code",
   "execution_count": 11,
   "metadata": {},
   "outputs": [
    {
     "data": {
      "text/plain": [
       "10"
      ]
     },
     "execution_count": 11,
     "metadata": {},
     "output_type": "execute_result"
    }
   ],
   "source": [
    "# del saver\n",
    "# del base_model\n",
    "import gc\n",
    "torch.cuda.empty_cache()\n",
    "gc.collect()"
   ]
  },
  {
   "cell_type": "code",
   "execution_count": 39,
   "metadata": {},
   "outputs": [
    {
     "data": {
      "text/plain": [
       "0        35\n",
       "4       247\n",
       "10      408\n",
       "13      590\n",
       "14      592\n",
       "       ... \n",
       "713    9683\n",
       "715    9692\n",
       "717    9842\n",
       "718    9965\n",
       "719    9980\n",
       "Name: index, Length: 498, dtype: int64"
      ]
     },
     "execution_count": 39,
     "metadata": {},
     "output_type": "execute_result"
    }
   ],
   "source": [
    "unique_text_df['index']"
   ]
  },
  {
   "cell_type": "code",
   "execution_count": 45,
   "metadata": {},
   "outputs": [
    {
     "name": "stderr",
     "output_type": "stream",
     "text": [
      "  0%|          | 0/498 [00:00<?, ?it/s]"
     ]
    },
    {
     "name": "stderr",
     "output_type": "stream",
     "text": [
      "100%|██████████| 498/498 [11:29<00:00,  1.38s/it]\n"
     ]
    }
   ],
   "source": [
    "saver.set_delta_attention(0)\n",
    "raw_attention_dict = dict()\n",
    "\n",
    "for idx, row in tqdm(unique_text_df.iterrows(), total= len(unique_text_df)):\n",
    "\n",
    "    saver.reset_internal_parameters()\n",
    "    instruction = row['instruction']\n",
    "    text = row['text']\n",
    "    index = row['index']\n",
    "    prompt = f\"{instruction}\\n{text}\"\n",
    "\n",
    "    message = [ {\"role\": \"user\", \"content\": prompt}]\n",
    "\n",
    "    template = tokenizer.apply_chat_template(\n",
    "        message,\n",
    "        tokenize= False\n",
    "    )\n",
    "\n",
    "    splits = template.split(instruction)\n",
    "    initial_prompt = splits[0]\n",
    "    context = instruction.join(splits[1:])\n",
    "\n",
    "    assert (hash(initial_prompt+instruction+context) == hash(template)), \"Error in spliting strings. Initial and final string does not match\"\n",
    "\n",
    "    initial_tokens = tokenizer.encode(initial_prompt, return_tensors='pt')\n",
    "    instruction_tokens = tokenizer.encode(\n",
    "        instruction, \n",
    "        return_tensors='pt', \n",
    "        add_special_tokens=False\n",
    "    )\n",
    "    context_tokens = tokenizer.encode(\n",
    "        context, \n",
    "        return_tensors='pt',\n",
    "        add_special_tokens=False\n",
    "    )\n",
    "\n",
    "    start_idx = initial_tokens.size(1)\n",
    "    end_idx = start_idx + instruction_tokens.size(1)\n",
    "\n",
    "    saver.set_reference_tokens(start_idx, end_idx)\n",
    "    \n",
    "    tokens = torch.concat([\n",
    "        initial_tokens.squeeze(), \n",
    "        instruction_tokens.squeeze(),\n",
    "        context_tokens.squeeze()\n",
    "    ]).unsqueeze(0)\n",
    "\n",
    "    q = tokenizer.decode(tokens.squeeze()[start_idx: end_idx])\n",
    "\n",
    "    assert instruction in q, \"Error in tokenization. Not giving attention to correct tokens\"\n",
    "\n",
    "    tokens2 = tokenizer(template, return_tensors='pt')\n",
    "\n",
    "    assert (abs(tokens.shape[1] - tokens2['input_ids'].shape[1]) <=5 ), \"Error in tokenization. Tokens do not match\"\n",
    "\n",
    "    with torch.no_grad():\n",
    "        out = base_model(tokens)\n",
    "\n",
    "    last_attn_matrix = saver.internal_parameters[-1]\\\n",
    "        ['avg_attention_heads']\\\n",
    "        .squeeze()\n",
    "    last_token_importances = last_attn_matrix\\\n",
    "        [-1, start_idx:end_idx]\\\n",
    "        .mean()\\\n",
    "        .item()\n",
    "\n",
    "    raw_attention_dict[(index, instruction)] = last_token_importances\n"
   ]
  },
  {
   "cell_type": "code",
   "execution_count": 49,
   "metadata": {},
   "outputs": [],
   "source": [
    "pd.Series(raw_attention_dict).reset_index()\\\n",
    "    .rename(\n",
    "        columns = {\"level_0\" : \"index\", \"level_1\" : \"instruction\", 0:\"attention_scores\"}\n",
    "    )\\\n",
    "    .to_parquet(\"data/influences/raw_attention_scores.parquet\")"
   ]
  },
  {
   "cell_type": "code",
   "execution_count": 50,
   "metadata": {},
   "outputs": [],
   "source": [
    "attention_scores = pd.read_parquet(\"data/influences/raw_attention_scores.parquet\")"
   ]
  },
  {
   "cell_type": "code",
   "execution_count": 56,
   "metadata": {},
   "outputs": [],
   "source": [
    "results_df = pd.concat(all_results)\\\n",
    "    .query(\"study == 'Raw model' & context_length < 4100\")"
   ]
  },
  {
   "cell_type": "code",
   "execution_count": 58,
   "metadata": {},
   "outputs": [],
   "source": [
    "attention_probabilities_df = pd.merge(\n",
    "    results_df,\n",
    "    attention_scores,\n",
    "    on=  ['index', 'instruction']\n",
    ")\n",
    "\n"
   ]
  },
  {
   "cell_type": "code",
   "execution_count": 61,
   "metadata": {},
   "outputs": [],
   "source": [
    "proba, target = attention_probabilities_df['attention_scores'], attention_probabilities_df['is_french']"
   ]
  },
  {
   "cell_type": "code",
   "execution_count": 63,
   "metadata": {},
   "outputs": [
    {
     "data": {
      "text/plain": [
       "0.580730678431828"
      ]
     },
     "execution_count": 63,
     "metadata": {},
     "output_type": "execute_result"
    }
   ],
   "source": [
    "roc_auc_score(target.astype(int), proba)"
   ]
  },
  {
   "cell_type": "code",
   "execution_count": 64,
   "metadata": {},
   "outputs": [
    {
     "data": {
      "text/plain": [
       "0.1324641803039139"
      ]
     },
     "execution_count": 64,
     "metadata": {},
     "output_type": "execute_result"
    }
   ],
   "source": [
    "target.corr(proba)"
   ]
  }
 ],
 "metadata": {
  "kernelspec": {
   "display_name": "Python 3",
   "language": "python",
   "name": "python3"
  },
  "language_info": {
   "codemirror_mode": {
    "name": "ipython",
    "version": 3
   },
   "file_extension": ".py",
   "mimetype": "text/x-python",
   "name": "python",
   "nbconvert_exporter": "python",
   "pygments_lexer": "ipython3",
   "version": "3.11.9"
  }
 },
 "nbformat": 4,
 "nbformat_minor": 2
}
