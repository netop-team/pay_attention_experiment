{
 "cells": [
  {
   "cell_type": "code",
   "execution_count": 1,
   "metadata": {},
   "outputs": [],
   "source": [
    "%load_ext autoreload\n",
    "%autoreload 2"
   ]
  },
  {
   "cell_type": "code",
   "execution_count": 2,
   "metadata": {},
   "outputs": [],
   "source": [
    "import os \n",
    "while \"notebooks\" in os.getcwd():\n",
    "    os.chdir(\"..\")\n",
    "\n",
    "from transformers import AutoModelForCausalLM, AutoTokenizer, AutoModel, \\\n",
    "  BitsAndBytesConfig, GPTQConfig\n",
    "import torch\n",
    "from openai import OpenAI\n",
    "import json\n",
    "import pandas as pd\n",
    "import numpy as np\n",
    "from src.utils import get_context_length\n",
    "from transformers import AutoTokenizer\n",
    "from tqdm import tqdm\n",
    "from datasets import load_dataset\n",
    "from huggingface_hub import notebook_login\n",
    "import seaborn as sns\n",
    "from IPython.display import clear_output\n",
    "\n",
    "from src.attention_saver import Mistral7BAttentionSaver\n",
    "tqdm.pandas()"
   ]
  },
  {
   "cell_type": "code",
   "execution_count": 3,
   "metadata": {},
   "outputs": [],
   "source": [
    "DELTA_ATTENTION = 0"
   ]
  },
  {
   "cell_type": "code",
   "execution_count": 4,
   "metadata": {},
   "outputs": [
    {
     "data": {
      "application/vnd.jupyter.widget-view+json": {
       "model_id": "72c4fc376f804174b7e7b13109659586",
       "version_major": 2,
       "version_minor": 0
      },
      "text/plain": [
       "Loading checkpoint shards:   0%|          | 0/2 [00:00<?, ?it/s]"
      ]
     },
     "metadata": {},
     "output_type": "display_data"
    }
   ],
   "source": [
    "quantization_config = BitsAndBytesConfig(\n",
    "    load_in_4bit=True,\n",
    "    bnb_4bit_quant_type=\"nf4\",\n",
    "    bnb_4bit_use_double_quant=True,\n",
    "    bnb_4bit_compute_dtype=torch.bfloat16\n",
    ")\n",
    "\n",
    "tokenizer = AutoTokenizer.from_pretrained(\n",
    "    \"mistralai/Mistral-7B-Instruct-v0.1\",\n",
    "    cache_dir = \"/Data\"    \n",
    ")\n",
    "\n",
    "\n",
    "base_model = AutoModelForCausalLM.from_pretrained(\n",
    "    \"mistralai/Mistral-7B-Instruct-v0.1\",\n",
    "    quantization_config = quantization_config,\n",
    "    device_map=\"auto\",\n",
    "    attn_implementation=\"eager\",\n",
    "    cache_dir = \"/Data\"\n",
    ")\n",
    "\n",
    "\n",
    "model_name = base_model.config._name_or_path.split(\"/\")[1]\n",
    "\n",
    "model = Mistral7BAttentionSaver(\n",
    "    base_model,\n",
    "    tokenizer,\n",
    "    delta_attention=DELTA_ATTENTION,\n",
    "    should_save_params= False\n",
    ")"
   ]
  },
  {
   "cell_type": "code",
   "execution_count": 5,
   "metadata": {},
   "outputs": [
    {
     "name": "stderr",
     "output_type": "stream",
     "text": [
      "100%|██████████| 51982/51982 [00:40<00:00, 1275.36it/s]\n"
     ]
    }
   ],
   "source": [
    "dataset = load_dataset(\"TheBritishLibrary/blbooks\", \"1510_1699\", cache_dir = \"/Data\")['train']\\\n",
    "    .to_pandas()\\\n",
    "    [[\"record_id\", \"title\", \"text\", \"pg\", \"all_names\", \"Language_1\"]]\n",
    "\n",
    "dataset['context_length'] = dataset['text'].progress_apply(get_context_length, tokenizer=tokenizer)"
   ]
  },
  {
   "cell_type": "code",
   "execution_count": 6,
   "metadata": {},
   "outputs": [
    {
     "data": {
      "text/plain": [
       "682"
      ]
     },
     "execution_count": 6,
     "metadata": {},
     "output_type": "execute_result"
    }
   ],
   "source": [
    "dataset.record_id.nunique()"
   ]
  },
  {
   "cell_type": "code",
   "execution_count": 7,
   "metadata": {},
   "outputs": [],
   "source": [
    "all_df = []\n",
    "\n",
    "for book_id, df in dataset.groupby('record_id'):\n",
    "    df['text'] = df['text'].cumsum()\n",
    "    df['context_length'] = df['context_length'].cumsum()\n",
    "\n",
    "    all_df.append(df)"
   ]
  },
  {
   "cell_type": "code",
   "execution_count": 8,
   "metadata": {},
   "outputs": [],
   "source": [
    "books = pd.concat(all_df)\n",
    "np.random.seed(42)\n",
    "book_ids = np.random.choice(books.record_id.unique(), replace= False, size = 300)"
   ]
  },
  {
   "cell_type": "code",
   "execution_count": 9,
   "metadata": {},
   "outputs": [
    {
     "data": {
      "text/plain": [
       "<seaborn.axisgrid.FacetGrid at 0x7f9e1c778d90>"
      ]
     },
     "execution_count": 9,
     "metadata": {},
     "output_type": "execute_result"
    },
    {
     "data": {
      "image/png": "[encoded data removed]",
      "text/plain": [
       "<Figure size 500x500 with 1 Axes>"
      ]
     },
     "metadata": {},
     "output_type": "display_data"
    }
   ],
   "source": [
    "mask = books.record_id.isin(book_ids)\n",
    "selected_books = books[mask].query(\"context_length <4500 & context_length > 500\")\n",
    "\n",
    "sns.displot(selected_books, x ='context_length')"
   ]
  },
  {
   "cell_type": "code",
   "execution_count": 10,
   "metadata": {},
   "outputs": [],
   "source": [
    "SCHEMA = '''{\n",
    "    \"title\": \"title of the story (string)\", \n",
    "    \"genre\": string, \n",
    "    \"characters\": [{\"name\": string, \"description\": string. If not available set it to none} (one dict per character)], \n",
    "    \"author\": \"the author of the story. If not available, set it to None\", \n",
    "    \"summary\": \"a brief summary of the story. Do not write more than 50 words\"\n",
    "}\n",
    "'''\n",
    "\n",
    "TEMPLATE = '''\n",
    "You are an assistant designed to provide information in JSON format. \n",
    "I will give you a fairy tale, and you need to extract and return specific details from the story. \n",
    "Your response should follow exactly this template:\n",
    "\n",
    "<schema>\n",
    "{schema}\n",
    "</schema>\n",
    "\n",
    "{content}\n",
    "\n",
    "Do not output anything else than the JSON.\n",
    "'''"
   ]
  },
  {
   "cell_type": "code",
   "execution_count": 25,
   "metadata": {},
   "outputs": [
    {
     "data": {
      "text/plain": [
       "Linear4bit(in_features=4096, out_features=4096, bias=False)"
      ]
     },
     "execution_count": 25,
     "metadata": {},
     "output_type": "execute_result"
    }
   ],
   "source": [
    "model.base_model.model.layers[0].self_attn.o_proj"
   ]
  },
  {
   "cell_type": "code",
   "execution_count": 26,
   "metadata": {},
   "outputs": [
    {
     "name": "stderr",
     "output_type": "stream",
     "text": [
      "The attention mask and the pad token id were not set. As a consequence, you may observe unexpected behavior. Please pass your input's `attention_mask` to obtain reliable results.\n",
      "Setting `pad_token_id` to `eos_token_id`:2 for open-end generation.\n",
      "/users/eleves-a/2022/pedro.silva/Desktop/pay_attention_to_what_matters/.conda/lib/python3.11/site-packages/transformers/generation/utils.py:1792: UserWarning: You are calling .generate() with the `input_ids` being on a device type different than your model's device. `input_ids` is on cpu, whereas the model is on cuda. You may experience unexpected behaviors or slower generation. Please make sure that you have put `input_ids` to the correct device by calling for example input_ids = input_ids.to('cuda') before running `.generate()`.\n",
      "  warnings.warn(\n"
     ]
    },
    {
     "name": "stdout",
     "output_type": "stream",
     "text": [
      "input shape: torch.Size([1, 4607, 4096])\n",
      "1 4607\n",
      "Attn output shape before proj torch.Size([1, 4607, 4096])\n",
      "Attn output shape after proj torch.Size([1, 4607, 4096])\n",
      "input shape: torch.Size([1, 4607, 4096])\n",
      "1 4607\n",
      "Attn output shape before proj torch.Size([1, 4607, 4096])\n",
      "Attn output shape after proj torch.Size([1, 4607, 4096])\n",
      "input shape: torch.Size([1, 4607, 4096])\n",
      "1 4607\n",
      "Attn output shape before proj torch.Size([1, 4607, 4096])\n",
      "Attn output shape after proj torch.Size([1, 4607, 4096])\n",
      "input shape: torch.Size([1, 4607, 4096])\n",
      "1 4607\n",
      "Attn output shape before proj torch.Size([1, 4607, 4096])\n",
      "Attn output shape after proj torch.Size([1, 4607, 4096])\n",
      "input shape: torch.Size([1, 4607, 4096])\n",
      "1 4607\n",
      "Attn output shape before proj torch.Size([1, 4607, 4096])\n",
      "Attn output shape after proj torch.Size([1, 4607, 4096])\n",
      "input shape: torch.Size([1, 4607, 4096])\n",
      "1 4607\n",
      "Attn output shape before proj torch.Size([1, 4607, 4096])\n",
      "Attn output shape after proj torch.Size([1, 4607, 4096])\n",
      "input shape: torch.Size([1, 4607, 4096])\n",
      "1 4607\n",
      "Attn output shape before proj torch.Size([1, 4607, 4096])\n",
      "Attn output shape after proj torch.Size([1, 4607, 4096])\n",
      "input shape: torch.Size([1, 4607, 4096])\n",
      "1 4607\n",
      "Attn output shape before proj torch.Size([1, 4607, 4096])\n",
      "Attn output shape after proj torch.Size([1, 4607, 4096])\n",
      "input shape: torch.Size([1, 4607, 4096])\n",
      "1 4607\n",
      "Attn output shape before proj torch.Size([1, 4607, 4096])\n",
      "Attn output shape after proj torch.Size([1, 4607, 4096])\n",
      "input shape: torch.Size([1, 4607, 4096])\n",
      "1 4607\n",
      "Attn output shape before proj torch.Size([1, 4607, 4096])\n",
      "Attn output shape after proj torch.Size([1, 4607, 4096])\n",
      "input shape: torch.Size([1, 4607, 4096])\n",
      "1 4607\n",
      "Attn output shape before proj torch.Size([1, 4607, 4096])\n",
      "Attn output shape after proj torch.Size([1, 4607, 4096])\n",
      "input shape: torch.Size([1, 4607, 4096])\n",
      "1 4607\n",
      "Attn output shape before proj torch.Size([1, 4607, 4096])\n",
      "Attn output shape after proj torch.Size([1, 4607, 4096])\n",
      "input shape: torch.Size([1, 4607, 4096])\n",
      "1 4607\n",
      "Attn output shape before proj torch.Size([1, 4607, 4096])\n",
      "Attn output shape after proj torch.Size([1, 4607, 4096])\n"
     ]
    },
    {
     "ename": "KeyboardInterrupt",
     "evalue": "",
     "output_type": "error",
     "traceback": [
      "\u001b[0;31m---------------------------------------------------------------------------\u001b[0m",
      "\u001b[0;31mKeyboardInterrupt\u001b[0m                         Traceback (most recent call last)",
      "Cell \u001b[0;32mIn[26], line 81\u001b[0m\n\u001b[1;32m     66\u001b[0m     \u001b[38;5;28mprint\u001b[39m(\n\u001b[1;32m     67\u001b[0m         \u001b[38;5;124mf\u001b[39m\u001b[38;5;124m'''\u001b[39m\n\u001b[1;32m     68\u001b[0m \u001b[38;5;124m        text index = \u001b[39m\u001b[38;5;132;01m{\u001b[39;00mi\u001b[38;5;132;01m}\u001b[39;00m\u001b[38;5;124m,\u001b[39m\n\u001b[0;32m   (...)\u001b[0m\n\u001b[1;32m     77\u001b[0m \u001b[38;5;124m        \u001b[39m\u001b[38;5;124m'''\u001b[39m\n\u001b[1;32m     78\u001b[0m     )\n\u001b[1;32m     80\u001b[0m \u001b[38;5;28;01mwith\u001b[39;00m torch\u001b[38;5;241m.\u001b[39mno_grad():\n\u001b[0;32m---> 81\u001b[0m     generated_ids \u001b[38;5;241m=\u001b[39m \u001b[43mmodel\u001b[49m\u001b[38;5;241;43m.\u001b[39;49m\u001b[43mgenerate\u001b[49m\u001b[43m(\u001b[49m\n\u001b[1;32m     82\u001b[0m \u001b[43m        \u001b[49m\u001b[43mtokens\u001b[49m\u001b[43m,\u001b[49m\u001b[43m \u001b[49m\n\u001b[1;32m     83\u001b[0m \u001b[43m        \u001b[49m\u001b[43mmax_new_tokens\u001b[49m\u001b[43m \u001b[49m\u001b[38;5;241;43m=\u001b[39;49m\u001b[43m \u001b[49m\u001b[38;5;241;43m1_000\u001b[39;49m\u001b[43m,\u001b[49m\u001b[43m \u001b[49m\n\u001b[1;32m     84\u001b[0m \u001b[43m        \u001b[49m\u001b[38;5;66;43;03m# suppress_tokens = [endline_token, tab_token, double_backspace_token, backspace_token, triple_backspace_token],\u001b[39;49;00m\n\u001b[1;32m     85\u001b[0m \u001b[43m        \u001b[49m\u001b[38;5;66;43;03m# forced_decoder_ids = [[0, left_brace_token]],\u001b[39;49;00m\n\u001b[1;32m     86\u001b[0m \u001b[43m        \u001b[49m\u001b[43mdo_sample\u001b[49m\u001b[43m \u001b[49m\u001b[38;5;241;43m=\u001b[39;49m\u001b[43m \u001b[49m\u001b[38;5;28;43;01mFalse\u001b[39;49;00m\u001b[43m,\u001b[49m\n\u001b[1;32m     87\u001b[0m \u001b[43m    \u001b[49m\u001b[43m)\u001b[49m\n\u001b[1;32m     89\u001b[0m decoded \u001b[38;5;241m=\u001b[39m (tokenizer\u001b[38;5;241m.\u001b[39mbatch_decode(generated_ids)[\u001b[38;5;241m0\u001b[39m])\n\u001b[1;32m     91\u001b[0m generated_text[idx] \u001b[38;5;241m=\u001b[39m {\n\u001b[1;32m     92\u001b[0m     \u001b[38;5;124m\"\u001b[39m\u001b[38;5;124mgenerated_text\u001b[39m\u001b[38;5;124m\"\u001b[39m: decoded,\n\u001b[1;32m     93\u001b[0m     \u001b[38;5;124m\"\u001b[39m\u001b[38;5;124moriginal_text\u001b[39m\u001b[38;5;124m\"\u001b[39m: text,\n\u001b[0;32m   (...)\u001b[0m\n\u001b[1;32m     96\u001b[0m     \u001b[38;5;124m\"\u001b[39m\u001b[38;5;124mbook_id\u001b[39m\u001b[38;5;124m\"\u001b[39m: row[\u001b[38;5;124m'\u001b[39m\u001b[38;5;124mrecord_id\u001b[39m\u001b[38;5;124m'\u001b[39m]\n\u001b[1;32m     97\u001b[0m }\n",
      "File \u001b[0;32m~/Desktop/pay_attention_to_what_matters/src/attention_saver.py:50\u001b[0m, in \u001b[0;36mMistral7BAttentionSaver.generate\u001b[0;34m(self, token_ids, **kwargs)\u001b[0m\n\u001b[1;32m     49\u001b[0m \u001b[38;5;28;01mdef\u001b[39;00m \u001b[38;5;21mgenerate\u001b[39m(\u001b[38;5;28mself\u001b[39m, token_ids, \u001b[38;5;241m*\u001b[39m\u001b[38;5;241m*\u001b[39mkwargs):\n\u001b[0;32m---> 50\u001b[0m     \u001b[38;5;28;01mreturn\u001b[39;00m \u001b[38;5;28;43mself\u001b[39;49m\u001b[38;5;241;43m.\u001b[39;49m\u001b[43mbase_model\u001b[49m\u001b[38;5;241;43m.\u001b[39;49m\u001b[43mgenerate\u001b[49m\u001b[43m(\u001b[49m\u001b[43mtoken_ids\u001b[49m\u001b[43m,\u001b[49m\u001b[38;5;241;43m*\u001b[39;49m\u001b[38;5;241;43m*\u001b[39;49m\u001b[43mkwargs\u001b[49m\u001b[43m)\u001b[49m\n",
      "File \u001b[0;32m~/Desktop/pay_attention_to_what_matters/.conda/lib/python3.11/site-packages/torch/utils/_contextlib.py:115\u001b[0m, in \u001b[0;36mcontext_decorator.<locals>.decorate_context\u001b[0;34m(*args, **kwargs)\u001b[0m\n\u001b[1;32m    112\u001b[0m \u001b[38;5;129m@functools\u001b[39m\u001b[38;5;241m.\u001b[39mwraps(func)\n\u001b[1;32m    113\u001b[0m \u001b[38;5;28;01mdef\u001b[39;00m \u001b[38;5;21mdecorate_context\u001b[39m(\u001b[38;5;241m*\u001b[39margs, \u001b[38;5;241m*\u001b[39m\u001b[38;5;241m*\u001b[39mkwargs):\n\u001b[1;32m    114\u001b[0m     \u001b[38;5;28;01mwith\u001b[39;00m ctx_factory():\n\u001b[0;32m--> 115\u001b[0m         \u001b[38;5;28;01mreturn\u001b[39;00m \u001b[43mfunc\u001b[49m\u001b[43m(\u001b[49m\u001b[38;5;241;43m*\u001b[39;49m\u001b[43margs\u001b[49m\u001b[43m,\u001b[49m\u001b[43m \u001b[49m\u001b[38;5;241;43m*\u001b[39;49m\u001b[38;5;241;43m*\u001b[39;49m\u001b[43mkwargs\u001b[49m\u001b[43m)\u001b[49m\n",
      "File \u001b[0;32m~/Desktop/pay_attention_to_what_matters/.conda/lib/python3.11/site-packages/transformers/generation/utils.py:1909\u001b[0m, in \u001b[0;36mGenerationMixin.generate\u001b[0;34m(self, inputs, generation_config, logits_processor, stopping_criteria, prefix_allowed_tokens_fn, synced_gpus, assistant_model, streamer, negative_prompt_ids, negative_prompt_attention_mask, **kwargs)\u001b[0m\n\u001b[1;32m   1901\u001b[0m     input_ids, model_kwargs \u001b[38;5;241m=\u001b[39m \u001b[38;5;28mself\u001b[39m\u001b[38;5;241m.\u001b[39m_expand_inputs_for_generation(\n\u001b[1;32m   1902\u001b[0m         input_ids\u001b[38;5;241m=\u001b[39minput_ids,\n\u001b[1;32m   1903\u001b[0m         expand_size\u001b[38;5;241m=\u001b[39mgeneration_config\u001b[38;5;241m.\u001b[39mnum_return_sequences,\n\u001b[1;32m   1904\u001b[0m         is_encoder_decoder\u001b[38;5;241m=\u001b[39m\u001b[38;5;28mself\u001b[39m\u001b[38;5;241m.\u001b[39mconfig\u001b[38;5;241m.\u001b[39mis_encoder_decoder,\n\u001b[1;32m   1905\u001b[0m         \u001b[38;5;241m*\u001b[39m\u001b[38;5;241m*\u001b[39mmodel_kwargs,\n\u001b[1;32m   1906\u001b[0m     )\n\u001b[1;32m   1908\u001b[0m     \u001b[38;5;66;03m# 13. run sample (it degenerates to greedy search when `generation_config.do_sample=False`)\u001b[39;00m\n\u001b[0;32m-> 1909\u001b[0m     result \u001b[38;5;241m=\u001b[39m \u001b[38;5;28;43mself\u001b[39;49m\u001b[38;5;241;43m.\u001b[39;49m\u001b[43m_sample\u001b[49m\u001b[43m(\u001b[49m\n\u001b[1;32m   1910\u001b[0m \u001b[43m        \u001b[49m\u001b[43minput_ids\u001b[49m\u001b[43m,\u001b[49m\n\u001b[1;32m   1911\u001b[0m \u001b[43m        \u001b[49m\u001b[43mlogits_processor\u001b[49m\u001b[38;5;241;43m=\u001b[39;49m\u001b[43mprepared_logits_processor\u001b[49m\u001b[43m,\u001b[49m\n\u001b[1;32m   1912\u001b[0m \u001b[43m        \u001b[49m\u001b[43mlogits_warper\u001b[49m\u001b[38;5;241;43m=\u001b[39;49m\u001b[43mprepared_logits_warper\u001b[49m\u001b[43m,\u001b[49m\n\u001b[1;32m   1913\u001b[0m \u001b[43m        \u001b[49m\u001b[43mstopping_criteria\u001b[49m\u001b[38;5;241;43m=\u001b[39;49m\u001b[43mprepared_stopping_criteria\u001b[49m\u001b[43m,\u001b[49m\n\u001b[1;32m   1914\u001b[0m \u001b[43m        \u001b[49m\u001b[43mgeneration_config\u001b[49m\u001b[38;5;241;43m=\u001b[39;49m\u001b[43mgeneration_config\u001b[49m\u001b[43m,\u001b[49m\n\u001b[1;32m   1915\u001b[0m \u001b[43m        \u001b[49m\u001b[43msynced_gpus\u001b[49m\u001b[38;5;241;43m=\u001b[39;49m\u001b[43msynced_gpus\u001b[49m\u001b[43m,\u001b[49m\n\u001b[1;32m   1916\u001b[0m \u001b[43m        \u001b[49m\u001b[43mstreamer\u001b[49m\u001b[38;5;241;43m=\u001b[39;49m\u001b[43mstreamer\u001b[49m\u001b[43m,\u001b[49m\n\u001b[1;32m   1917\u001b[0m \u001b[43m        \u001b[49m\u001b[38;5;241;43m*\u001b[39;49m\u001b[38;5;241;43m*\u001b[39;49m\u001b[43mmodel_kwargs\u001b[49m\u001b[43m,\u001b[49m\n\u001b[1;32m   1918\u001b[0m \u001b[43m    \u001b[49m\u001b[43m)\u001b[49m\n\u001b[1;32m   1920\u001b[0m \u001b[38;5;28;01melif\u001b[39;00m generation_mode \u001b[38;5;129;01min\u001b[39;00m (GenerationMode\u001b[38;5;241m.\u001b[39mBEAM_SAMPLE, GenerationMode\u001b[38;5;241m.\u001b[39mBEAM_SEARCH):\n\u001b[1;32m   1921\u001b[0m     \u001b[38;5;66;03m# 11. prepare logits warper\u001b[39;00m\n\u001b[1;32m   1922\u001b[0m     prepared_logits_warper \u001b[38;5;241m=\u001b[39m (\n\u001b[1;32m   1923\u001b[0m         \u001b[38;5;28mself\u001b[39m\u001b[38;5;241m.\u001b[39m_get_logits_warper(generation_config, device\u001b[38;5;241m=\u001b[39minput_ids\u001b[38;5;241m.\u001b[39mdevice)\n\u001b[1;32m   1924\u001b[0m         \u001b[38;5;28;01mif\u001b[39;00m generation_config\u001b[38;5;241m.\u001b[39mdo_sample\n\u001b[1;32m   1925\u001b[0m         \u001b[38;5;28;01melse\u001b[39;00m \u001b[38;5;28;01mNone\u001b[39;00m\n\u001b[1;32m   1926\u001b[0m     )\n",
      "File \u001b[0;32m~/Desktop/pay_attention_to_what_matters/.conda/lib/python3.11/site-packages/transformers/generation/utils.py:2646\u001b[0m, in \u001b[0;36mGenerationMixin._sample\u001b[0;34m(self, input_ids, logits_processor, stopping_criteria, generation_config, synced_gpus, streamer, logits_warper, **model_kwargs)\u001b[0m\n\u001b[1;32m   2643\u001b[0m model_inputs \u001b[38;5;241m=\u001b[39m \u001b[38;5;28mself\u001b[39m\u001b[38;5;241m.\u001b[39mprepare_inputs_for_generation(input_ids, \u001b[38;5;241m*\u001b[39m\u001b[38;5;241m*\u001b[39mmodel_kwargs)\n\u001b[1;32m   2645\u001b[0m \u001b[38;5;66;03m# forward pass to get next token\u001b[39;00m\n\u001b[0;32m-> 2646\u001b[0m outputs \u001b[38;5;241m=\u001b[39m \u001b[38;5;28;43mself\u001b[39;49m\u001b[43m(\u001b[49m\n\u001b[1;32m   2647\u001b[0m \u001b[43m    \u001b[49m\u001b[38;5;241;43m*\u001b[39;49m\u001b[38;5;241;43m*\u001b[39;49m\u001b[43mmodel_inputs\u001b[49m\u001b[43m,\u001b[49m\n\u001b[1;32m   2648\u001b[0m \u001b[43m    \u001b[49m\u001b[43mreturn_dict\u001b[49m\u001b[38;5;241;43m=\u001b[39;49m\u001b[38;5;28;43;01mTrue\u001b[39;49;00m\u001b[43m,\u001b[49m\n\u001b[1;32m   2649\u001b[0m \u001b[43m    \u001b[49m\u001b[43moutput_attentions\u001b[49m\u001b[38;5;241;43m=\u001b[39;49m\u001b[43moutput_attentions\u001b[49m\u001b[43m,\u001b[49m\n\u001b[1;32m   2650\u001b[0m \u001b[43m    \u001b[49m\u001b[43moutput_hidden_states\u001b[49m\u001b[38;5;241;43m=\u001b[39;49m\u001b[43moutput_hidden_states\u001b[49m\u001b[43m,\u001b[49m\n\u001b[1;32m   2651\u001b[0m \u001b[43m\u001b[49m\u001b[43m)\u001b[49m\n\u001b[1;32m   2653\u001b[0m \u001b[38;5;28;01mif\u001b[39;00m synced_gpus \u001b[38;5;129;01mand\u001b[39;00m this_peer_finished:\n\u001b[1;32m   2654\u001b[0m     \u001b[38;5;28;01mcontinue\u001b[39;00m  \u001b[38;5;66;03m# don't waste resources running the code we don't need\u001b[39;00m\n",
      "File \u001b[0;32m~/Desktop/pay_attention_to_what_matters/.conda/lib/python3.11/site-packages/torch/nn/modules/module.py:1532\u001b[0m, in \u001b[0;36mModule._wrapped_call_impl\u001b[0;34m(self, *args, **kwargs)\u001b[0m\n\u001b[1;32m   1530\u001b[0m     \u001b[38;5;28;01mreturn\u001b[39;00m \u001b[38;5;28mself\u001b[39m\u001b[38;5;241m.\u001b[39m_compiled_call_impl(\u001b[38;5;241m*\u001b[39margs, \u001b[38;5;241m*\u001b[39m\u001b[38;5;241m*\u001b[39mkwargs)  \u001b[38;5;66;03m# type: ignore[misc]\u001b[39;00m\n\u001b[1;32m   1531\u001b[0m \u001b[38;5;28;01melse\u001b[39;00m:\n\u001b[0;32m-> 1532\u001b[0m     \u001b[38;5;28;01mreturn\u001b[39;00m \u001b[38;5;28;43mself\u001b[39;49m\u001b[38;5;241;43m.\u001b[39;49m\u001b[43m_call_impl\u001b[49m\u001b[43m(\u001b[49m\u001b[38;5;241;43m*\u001b[39;49m\u001b[43margs\u001b[49m\u001b[43m,\u001b[49m\u001b[43m \u001b[49m\u001b[38;5;241;43m*\u001b[39;49m\u001b[38;5;241;43m*\u001b[39;49m\u001b[43mkwargs\u001b[49m\u001b[43m)\u001b[49m\n",
      "File \u001b[0;32m~/Desktop/pay_attention_to_what_matters/.conda/lib/python3.11/site-packages/torch/nn/modules/module.py:1541\u001b[0m, in \u001b[0;36mModule._call_impl\u001b[0;34m(self, *args, **kwargs)\u001b[0m\n\u001b[1;32m   1536\u001b[0m \u001b[38;5;66;03m# If we don't have any hooks, we want to skip the rest of the logic in\u001b[39;00m\n\u001b[1;32m   1537\u001b[0m \u001b[38;5;66;03m# this function, and just call forward.\u001b[39;00m\n\u001b[1;32m   1538\u001b[0m \u001b[38;5;28;01mif\u001b[39;00m \u001b[38;5;129;01mnot\u001b[39;00m (\u001b[38;5;28mself\u001b[39m\u001b[38;5;241m.\u001b[39m_backward_hooks \u001b[38;5;129;01mor\u001b[39;00m \u001b[38;5;28mself\u001b[39m\u001b[38;5;241m.\u001b[39m_backward_pre_hooks \u001b[38;5;129;01mor\u001b[39;00m \u001b[38;5;28mself\u001b[39m\u001b[38;5;241m.\u001b[39m_forward_hooks \u001b[38;5;129;01mor\u001b[39;00m \u001b[38;5;28mself\u001b[39m\u001b[38;5;241m.\u001b[39m_forward_pre_hooks\n\u001b[1;32m   1539\u001b[0m         \u001b[38;5;129;01mor\u001b[39;00m _global_backward_pre_hooks \u001b[38;5;129;01mor\u001b[39;00m _global_backward_hooks\n\u001b[1;32m   1540\u001b[0m         \u001b[38;5;129;01mor\u001b[39;00m _global_forward_hooks \u001b[38;5;129;01mor\u001b[39;00m _global_forward_pre_hooks):\n\u001b[0;32m-> 1541\u001b[0m     \u001b[38;5;28;01mreturn\u001b[39;00m \u001b[43mforward_call\u001b[49m\u001b[43m(\u001b[49m\u001b[38;5;241;43m*\u001b[39;49m\u001b[43margs\u001b[49m\u001b[43m,\u001b[49m\u001b[43m \u001b[49m\u001b[38;5;241;43m*\u001b[39;49m\u001b[38;5;241;43m*\u001b[39;49m\u001b[43mkwargs\u001b[49m\u001b[43m)\u001b[49m\n\u001b[1;32m   1543\u001b[0m \u001b[38;5;28;01mtry\u001b[39;00m:\n\u001b[1;32m   1544\u001b[0m     result \u001b[38;5;241m=\u001b[39m \u001b[38;5;28;01mNone\u001b[39;00m\n",
      "File \u001b[0;32m~/Desktop/pay_attention_to_what_matters/.conda/lib/python3.11/site-packages/accelerate/hooks.py:166\u001b[0m, in \u001b[0;36madd_hook_to_module.<locals>.new_forward\u001b[0;34m(module, *args, **kwargs)\u001b[0m\n\u001b[1;32m    164\u001b[0m         output \u001b[38;5;241m=\u001b[39m module\u001b[38;5;241m.\u001b[39m_old_forward(\u001b[38;5;241m*\u001b[39margs, \u001b[38;5;241m*\u001b[39m\u001b[38;5;241m*\u001b[39mkwargs)\n\u001b[1;32m    165\u001b[0m \u001b[38;5;28;01melse\u001b[39;00m:\n\u001b[0;32m--> 166\u001b[0m     output \u001b[38;5;241m=\u001b[39m \u001b[43mmodule\u001b[49m\u001b[38;5;241;43m.\u001b[39;49m\u001b[43m_old_forward\u001b[49m\u001b[43m(\u001b[49m\u001b[38;5;241;43m*\u001b[39;49m\u001b[43margs\u001b[49m\u001b[43m,\u001b[49m\u001b[43m \u001b[49m\u001b[38;5;241;43m*\u001b[39;49m\u001b[38;5;241;43m*\u001b[39;49m\u001b[43mkwargs\u001b[49m\u001b[43m)\u001b[49m\n\u001b[1;32m    167\u001b[0m \u001b[38;5;28;01mreturn\u001b[39;00m module\u001b[38;5;241m.\u001b[39m_hf_hook\u001b[38;5;241m.\u001b[39mpost_forward(module, output)\n",
      "File \u001b[0;32m~/Desktop/pay_attention_to_what_matters/.conda/lib/python3.11/site-packages/transformers/models/mistral/modeling_mistral.py:1195\u001b[0m, in \u001b[0;36mMistralForCausalLM.forward\u001b[0;34m(self, input_ids, attention_mask, position_ids, past_key_values, inputs_embeds, labels, use_cache, output_attentions, output_hidden_states, return_dict, cache_position)\u001b[0m\n\u001b[1;32m   1192\u001b[0m return_dict \u001b[38;5;241m=\u001b[39m return_dict \u001b[38;5;28;01mif\u001b[39;00m return_dict \u001b[38;5;129;01mis\u001b[39;00m \u001b[38;5;129;01mnot\u001b[39;00m \u001b[38;5;28;01mNone\u001b[39;00m \u001b[38;5;28;01melse\u001b[39;00m \u001b[38;5;28mself\u001b[39m\u001b[38;5;241m.\u001b[39mconfig\u001b[38;5;241m.\u001b[39muse_return_dict\n\u001b[1;32m   1194\u001b[0m \u001b[38;5;66;03m# decoder outputs consists of (dec_features, layer_state, dec_hidden, dec_attn)\u001b[39;00m\n\u001b[0;32m-> 1195\u001b[0m outputs \u001b[38;5;241m=\u001b[39m \u001b[38;5;28;43mself\u001b[39;49m\u001b[38;5;241;43m.\u001b[39;49m\u001b[43mmodel\u001b[49m\u001b[43m(\u001b[49m\n\u001b[1;32m   1196\u001b[0m \u001b[43m    \u001b[49m\u001b[43minput_ids\u001b[49m\u001b[38;5;241;43m=\u001b[39;49m\u001b[43minput_ids\u001b[49m\u001b[43m,\u001b[49m\n\u001b[1;32m   1197\u001b[0m \u001b[43m    \u001b[49m\u001b[43mattention_mask\u001b[49m\u001b[38;5;241;43m=\u001b[39;49m\u001b[43mattention_mask\u001b[49m\u001b[43m,\u001b[49m\n\u001b[1;32m   1198\u001b[0m \u001b[43m    \u001b[49m\u001b[43mposition_ids\u001b[49m\u001b[38;5;241;43m=\u001b[39;49m\u001b[43mposition_ids\u001b[49m\u001b[43m,\u001b[49m\n\u001b[1;32m   1199\u001b[0m \u001b[43m    \u001b[49m\u001b[43mpast_key_values\u001b[49m\u001b[38;5;241;43m=\u001b[39;49m\u001b[43mpast_key_values\u001b[49m\u001b[43m,\u001b[49m\n\u001b[1;32m   1200\u001b[0m \u001b[43m    \u001b[49m\u001b[43minputs_embeds\u001b[49m\u001b[38;5;241;43m=\u001b[39;49m\u001b[43minputs_embeds\u001b[49m\u001b[43m,\u001b[49m\n\u001b[1;32m   1201\u001b[0m \u001b[43m    \u001b[49m\u001b[43muse_cache\u001b[49m\u001b[38;5;241;43m=\u001b[39;49m\u001b[43muse_cache\u001b[49m\u001b[43m,\u001b[49m\n\u001b[1;32m   1202\u001b[0m \u001b[43m    \u001b[49m\u001b[43moutput_attentions\u001b[49m\u001b[38;5;241;43m=\u001b[39;49m\u001b[43moutput_attentions\u001b[49m\u001b[43m,\u001b[49m\n\u001b[1;32m   1203\u001b[0m \u001b[43m    \u001b[49m\u001b[43moutput_hidden_states\u001b[49m\u001b[38;5;241;43m=\u001b[39;49m\u001b[43moutput_hidden_states\u001b[49m\u001b[43m,\u001b[49m\n\u001b[1;32m   1204\u001b[0m \u001b[43m    \u001b[49m\u001b[43mreturn_dict\u001b[49m\u001b[38;5;241;43m=\u001b[39;49m\u001b[43mreturn_dict\u001b[49m\u001b[43m,\u001b[49m\n\u001b[1;32m   1205\u001b[0m \u001b[43m    \u001b[49m\u001b[43mcache_position\u001b[49m\u001b[38;5;241;43m=\u001b[39;49m\u001b[43mcache_position\u001b[49m\u001b[43m,\u001b[49m\n\u001b[1;32m   1206\u001b[0m \u001b[43m\u001b[49m\u001b[43m)\u001b[49m\n\u001b[1;32m   1208\u001b[0m hidden_states \u001b[38;5;241m=\u001b[39m outputs[\u001b[38;5;241m0\u001b[39m]\n\u001b[1;32m   1209\u001b[0m logits \u001b[38;5;241m=\u001b[39m \u001b[38;5;28mself\u001b[39m\u001b[38;5;241m.\u001b[39mlm_head(hidden_states)\n",
      "File \u001b[0;32m~/Desktop/pay_attention_to_what_matters/.conda/lib/python3.11/site-packages/torch/nn/modules/module.py:1532\u001b[0m, in \u001b[0;36mModule._wrapped_call_impl\u001b[0;34m(self, *args, **kwargs)\u001b[0m\n\u001b[1;32m   1530\u001b[0m     \u001b[38;5;28;01mreturn\u001b[39;00m \u001b[38;5;28mself\u001b[39m\u001b[38;5;241m.\u001b[39m_compiled_call_impl(\u001b[38;5;241m*\u001b[39margs, \u001b[38;5;241m*\u001b[39m\u001b[38;5;241m*\u001b[39mkwargs)  \u001b[38;5;66;03m# type: ignore[misc]\u001b[39;00m\n\u001b[1;32m   1531\u001b[0m \u001b[38;5;28;01melse\u001b[39;00m:\n\u001b[0;32m-> 1532\u001b[0m     \u001b[38;5;28;01mreturn\u001b[39;00m \u001b[38;5;28;43mself\u001b[39;49m\u001b[38;5;241;43m.\u001b[39;49m\u001b[43m_call_impl\u001b[49m\u001b[43m(\u001b[49m\u001b[38;5;241;43m*\u001b[39;49m\u001b[43margs\u001b[49m\u001b[43m,\u001b[49m\u001b[43m \u001b[49m\u001b[38;5;241;43m*\u001b[39;49m\u001b[38;5;241;43m*\u001b[39;49m\u001b[43mkwargs\u001b[49m\u001b[43m)\u001b[49m\n",
      "File \u001b[0;32m~/Desktop/pay_attention_to_what_matters/.conda/lib/python3.11/site-packages/torch/nn/modules/module.py:1541\u001b[0m, in \u001b[0;36mModule._call_impl\u001b[0;34m(self, *args, **kwargs)\u001b[0m\n\u001b[1;32m   1536\u001b[0m \u001b[38;5;66;03m# If we don't have any hooks, we want to skip the rest of the logic in\u001b[39;00m\n\u001b[1;32m   1537\u001b[0m \u001b[38;5;66;03m# this function, and just call forward.\u001b[39;00m\n\u001b[1;32m   1538\u001b[0m \u001b[38;5;28;01mif\u001b[39;00m \u001b[38;5;129;01mnot\u001b[39;00m (\u001b[38;5;28mself\u001b[39m\u001b[38;5;241m.\u001b[39m_backward_hooks \u001b[38;5;129;01mor\u001b[39;00m \u001b[38;5;28mself\u001b[39m\u001b[38;5;241m.\u001b[39m_backward_pre_hooks \u001b[38;5;129;01mor\u001b[39;00m \u001b[38;5;28mself\u001b[39m\u001b[38;5;241m.\u001b[39m_forward_hooks \u001b[38;5;129;01mor\u001b[39;00m \u001b[38;5;28mself\u001b[39m\u001b[38;5;241m.\u001b[39m_forward_pre_hooks\n\u001b[1;32m   1539\u001b[0m         \u001b[38;5;129;01mor\u001b[39;00m _global_backward_pre_hooks \u001b[38;5;129;01mor\u001b[39;00m _global_backward_hooks\n\u001b[1;32m   1540\u001b[0m         \u001b[38;5;129;01mor\u001b[39;00m _global_forward_hooks \u001b[38;5;129;01mor\u001b[39;00m _global_forward_pre_hooks):\n\u001b[0;32m-> 1541\u001b[0m     \u001b[38;5;28;01mreturn\u001b[39;00m \u001b[43mforward_call\u001b[49m\u001b[43m(\u001b[49m\u001b[38;5;241;43m*\u001b[39;49m\u001b[43margs\u001b[49m\u001b[43m,\u001b[49m\u001b[43m \u001b[49m\u001b[38;5;241;43m*\u001b[39;49m\u001b[38;5;241;43m*\u001b[39;49m\u001b[43mkwargs\u001b[49m\u001b[43m)\u001b[49m\n\u001b[1;32m   1543\u001b[0m \u001b[38;5;28;01mtry\u001b[39;00m:\n\u001b[1;32m   1544\u001b[0m     result \u001b[38;5;241m=\u001b[39m \u001b[38;5;28;01mNone\u001b[39;00m\n",
      "File \u001b[0;32m~/Desktop/pay_attention_to_what_matters/.conda/lib/python3.11/site-packages/accelerate/hooks.py:166\u001b[0m, in \u001b[0;36madd_hook_to_module.<locals>.new_forward\u001b[0;34m(module, *args, **kwargs)\u001b[0m\n\u001b[1;32m    164\u001b[0m         output \u001b[38;5;241m=\u001b[39m module\u001b[38;5;241m.\u001b[39m_old_forward(\u001b[38;5;241m*\u001b[39margs, \u001b[38;5;241m*\u001b[39m\u001b[38;5;241m*\u001b[39mkwargs)\n\u001b[1;32m    165\u001b[0m \u001b[38;5;28;01melse\u001b[39;00m:\n\u001b[0;32m--> 166\u001b[0m     output \u001b[38;5;241m=\u001b[39m \u001b[43mmodule\u001b[49m\u001b[38;5;241;43m.\u001b[39;49m\u001b[43m_old_forward\u001b[49m\u001b[43m(\u001b[49m\u001b[38;5;241;43m*\u001b[39;49m\u001b[43margs\u001b[49m\u001b[43m,\u001b[49m\u001b[43m \u001b[49m\u001b[38;5;241;43m*\u001b[39;49m\u001b[38;5;241;43m*\u001b[39;49m\u001b[43mkwargs\u001b[49m\u001b[43m)\u001b[49m\n\u001b[1;32m    167\u001b[0m \u001b[38;5;28;01mreturn\u001b[39;00m module\u001b[38;5;241m.\u001b[39m_hf_hook\u001b[38;5;241m.\u001b[39mpost_forward(module, output)\n",
      "File \u001b[0;32m~/Desktop/pay_attention_to_what_matters/.conda/lib/python3.11/site-packages/transformers/models/mistral/modeling_mistral.py:971\u001b[0m, in \u001b[0;36mMistralModel.forward\u001b[0;34m(self, input_ids, attention_mask, position_ids, past_key_values, inputs_embeds, use_cache, output_attentions, output_hidden_states, return_dict, cache_position)\u001b[0m\n\u001b[1;32m    960\u001b[0m     layer_outputs \u001b[38;5;241m=\u001b[39m \u001b[38;5;28mself\u001b[39m\u001b[38;5;241m.\u001b[39m_gradient_checkpointing_func(\n\u001b[1;32m    961\u001b[0m         decoder_layer\u001b[38;5;241m.\u001b[39m\u001b[38;5;21m__call__\u001b[39m,\n\u001b[1;32m    962\u001b[0m         hidden_states,\n\u001b[0;32m   (...)\u001b[0m\n\u001b[1;32m    968\u001b[0m         cache_position,\n\u001b[1;32m    969\u001b[0m     )\n\u001b[1;32m    970\u001b[0m \u001b[38;5;28;01melse\u001b[39;00m:\n\u001b[0;32m--> 971\u001b[0m     layer_outputs \u001b[38;5;241m=\u001b[39m \u001b[43mdecoder_layer\u001b[49m\u001b[43m(\u001b[49m\n\u001b[1;32m    972\u001b[0m \u001b[43m        \u001b[49m\u001b[43mhidden_states\u001b[49m\u001b[43m,\u001b[49m\n\u001b[1;32m    973\u001b[0m \u001b[43m        \u001b[49m\u001b[43mattention_mask\u001b[49m\u001b[38;5;241;43m=\u001b[39;49m\u001b[43mcausal_mask\u001b[49m\u001b[43m,\u001b[49m\n\u001b[1;32m    974\u001b[0m \u001b[43m        \u001b[49m\u001b[43mposition_ids\u001b[49m\u001b[38;5;241;43m=\u001b[39;49m\u001b[43mposition_ids\u001b[49m\u001b[43m,\u001b[49m\n\u001b[1;32m    975\u001b[0m \u001b[43m        \u001b[49m\u001b[43mpast_key_value\u001b[49m\u001b[38;5;241;43m=\u001b[39;49m\u001b[43mpast_key_values\u001b[49m\u001b[43m,\u001b[49m\n\u001b[1;32m    976\u001b[0m \u001b[43m        \u001b[49m\u001b[43moutput_attentions\u001b[49m\u001b[38;5;241;43m=\u001b[39;49m\u001b[43moutput_attentions\u001b[49m\u001b[43m,\u001b[49m\n\u001b[1;32m    977\u001b[0m \u001b[43m        \u001b[49m\u001b[43muse_cache\u001b[49m\u001b[38;5;241;43m=\u001b[39;49m\u001b[43muse_cache\u001b[49m\u001b[43m,\u001b[49m\n\u001b[1;32m    978\u001b[0m \u001b[43m        \u001b[49m\u001b[43mcache_position\u001b[49m\u001b[38;5;241;43m=\u001b[39;49m\u001b[43mcache_position\u001b[49m\u001b[43m,\u001b[49m\n\u001b[1;32m    979\u001b[0m \u001b[43m    \u001b[49m\u001b[43m)\u001b[49m\n\u001b[1;32m    981\u001b[0m hidden_states \u001b[38;5;241m=\u001b[39m layer_outputs[\u001b[38;5;241m0\u001b[39m]\n\u001b[1;32m    983\u001b[0m \u001b[38;5;28;01mif\u001b[39;00m use_cache:\n",
      "File \u001b[0;32m~/Desktop/pay_attention_to_what_matters/.conda/lib/python3.11/site-packages/torch/nn/modules/module.py:1532\u001b[0m, in \u001b[0;36mModule._wrapped_call_impl\u001b[0;34m(self, *args, **kwargs)\u001b[0m\n\u001b[1;32m   1530\u001b[0m     \u001b[38;5;28;01mreturn\u001b[39;00m \u001b[38;5;28mself\u001b[39m\u001b[38;5;241m.\u001b[39m_compiled_call_impl(\u001b[38;5;241m*\u001b[39margs, \u001b[38;5;241m*\u001b[39m\u001b[38;5;241m*\u001b[39mkwargs)  \u001b[38;5;66;03m# type: ignore[misc]\u001b[39;00m\n\u001b[1;32m   1531\u001b[0m \u001b[38;5;28;01melse\u001b[39;00m:\n\u001b[0;32m-> 1532\u001b[0m     \u001b[38;5;28;01mreturn\u001b[39;00m \u001b[38;5;28;43mself\u001b[39;49m\u001b[38;5;241;43m.\u001b[39;49m\u001b[43m_call_impl\u001b[49m\u001b[43m(\u001b[49m\u001b[38;5;241;43m*\u001b[39;49m\u001b[43margs\u001b[49m\u001b[43m,\u001b[49m\u001b[43m \u001b[49m\u001b[38;5;241;43m*\u001b[39;49m\u001b[38;5;241;43m*\u001b[39;49m\u001b[43mkwargs\u001b[49m\u001b[43m)\u001b[49m\n",
      "File \u001b[0;32m~/Desktop/pay_attention_to_what_matters/.conda/lib/python3.11/site-packages/torch/nn/modules/module.py:1541\u001b[0m, in \u001b[0;36mModule._call_impl\u001b[0;34m(self, *args, **kwargs)\u001b[0m\n\u001b[1;32m   1536\u001b[0m \u001b[38;5;66;03m# If we don't have any hooks, we want to skip the rest of the logic in\u001b[39;00m\n\u001b[1;32m   1537\u001b[0m \u001b[38;5;66;03m# this function, and just call forward.\u001b[39;00m\n\u001b[1;32m   1538\u001b[0m \u001b[38;5;28;01mif\u001b[39;00m \u001b[38;5;129;01mnot\u001b[39;00m (\u001b[38;5;28mself\u001b[39m\u001b[38;5;241m.\u001b[39m_backward_hooks \u001b[38;5;129;01mor\u001b[39;00m \u001b[38;5;28mself\u001b[39m\u001b[38;5;241m.\u001b[39m_backward_pre_hooks \u001b[38;5;129;01mor\u001b[39;00m \u001b[38;5;28mself\u001b[39m\u001b[38;5;241m.\u001b[39m_forward_hooks \u001b[38;5;129;01mor\u001b[39;00m \u001b[38;5;28mself\u001b[39m\u001b[38;5;241m.\u001b[39m_forward_pre_hooks\n\u001b[1;32m   1539\u001b[0m         \u001b[38;5;129;01mor\u001b[39;00m _global_backward_pre_hooks \u001b[38;5;129;01mor\u001b[39;00m _global_backward_hooks\n\u001b[1;32m   1540\u001b[0m         \u001b[38;5;129;01mor\u001b[39;00m _global_forward_hooks \u001b[38;5;129;01mor\u001b[39;00m _global_forward_pre_hooks):\n\u001b[0;32m-> 1541\u001b[0m     \u001b[38;5;28;01mreturn\u001b[39;00m \u001b[43mforward_call\u001b[49m\u001b[43m(\u001b[49m\u001b[38;5;241;43m*\u001b[39;49m\u001b[43margs\u001b[49m\u001b[43m,\u001b[49m\u001b[43m \u001b[49m\u001b[38;5;241;43m*\u001b[39;49m\u001b[38;5;241;43m*\u001b[39;49m\u001b[43mkwargs\u001b[49m\u001b[43m)\u001b[49m\n\u001b[1;32m   1543\u001b[0m \u001b[38;5;28;01mtry\u001b[39;00m:\n\u001b[1;32m   1544\u001b[0m     result \u001b[38;5;241m=\u001b[39m \u001b[38;5;28;01mNone\u001b[39;00m\n",
      "File \u001b[0;32m~/Desktop/pay_attention_to_what_matters/.conda/lib/python3.11/site-packages/accelerate/hooks.py:166\u001b[0m, in \u001b[0;36madd_hook_to_module.<locals>.new_forward\u001b[0;34m(module, *args, **kwargs)\u001b[0m\n\u001b[1;32m    164\u001b[0m         output \u001b[38;5;241m=\u001b[39m module\u001b[38;5;241m.\u001b[39m_old_forward(\u001b[38;5;241m*\u001b[39margs, \u001b[38;5;241m*\u001b[39m\u001b[38;5;241m*\u001b[39mkwargs)\n\u001b[1;32m    165\u001b[0m \u001b[38;5;28;01melse\u001b[39;00m:\n\u001b[0;32m--> 166\u001b[0m     output \u001b[38;5;241m=\u001b[39m \u001b[43mmodule\u001b[49m\u001b[38;5;241;43m.\u001b[39;49m\u001b[43m_old_forward\u001b[49m\u001b[43m(\u001b[49m\u001b[38;5;241;43m*\u001b[39;49m\u001b[43margs\u001b[49m\u001b[43m,\u001b[49m\u001b[43m \u001b[49m\u001b[38;5;241;43m*\u001b[39;49m\u001b[38;5;241;43m*\u001b[39;49m\u001b[43mkwargs\u001b[49m\u001b[43m)\u001b[49m\n\u001b[1;32m    167\u001b[0m \u001b[38;5;28;01mreturn\u001b[39;00m module\u001b[38;5;241m.\u001b[39m_hf_hook\u001b[38;5;241m.\u001b[39mpost_forward(module, output)\n",
      "File \u001b[0;32m~/Desktop/pay_attention_to_what_matters/.conda/lib/python3.11/site-packages/transformers/models/mistral/modeling_mistral.py:713\u001b[0m, in \u001b[0;36mMistralDecoderLayer.forward\u001b[0;34m(self, hidden_states, attention_mask, position_ids, past_key_value, output_attentions, use_cache, cache_position)\u001b[0m\n\u001b[1;32m    710\u001b[0m hidden_states \u001b[38;5;241m=\u001b[39m \u001b[38;5;28mself\u001b[39m\u001b[38;5;241m.\u001b[39minput_layernorm(hidden_states)\n\u001b[1;32m    712\u001b[0m \u001b[38;5;66;03m# Self Attention\u001b[39;00m\n\u001b[0;32m--> 713\u001b[0m hidden_states, self_attn_weights, present_key_value \u001b[38;5;241m=\u001b[39m \u001b[38;5;28;43mself\u001b[39;49m\u001b[38;5;241;43m.\u001b[39;49m\u001b[43mself_attn\u001b[49m\u001b[43m(\u001b[49m\n\u001b[1;32m    714\u001b[0m \u001b[43m    \u001b[49m\u001b[43mhidden_states\u001b[49m\u001b[43m,\u001b[49m\n\u001b[1;32m    715\u001b[0m \u001b[43m    \u001b[49m\u001b[43mattention_mask\u001b[49m\u001b[43m,\u001b[49m\n\u001b[1;32m    716\u001b[0m \u001b[43m    \u001b[49m\u001b[43mposition_ids\u001b[49m\u001b[43m,\u001b[49m\n\u001b[1;32m    717\u001b[0m \u001b[43m    \u001b[49m\u001b[43mpast_key_value\u001b[49m\u001b[43m,\u001b[49m\n\u001b[1;32m    718\u001b[0m \u001b[43m    \u001b[49m\u001b[43moutput_attentions\u001b[49m\u001b[43m,\u001b[49m\n\u001b[1;32m    719\u001b[0m \u001b[43m    \u001b[49m\u001b[43muse_cache\u001b[49m\u001b[43m,\u001b[49m\n\u001b[1;32m    720\u001b[0m \u001b[43m    \u001b[49m\u001b[43mcache_position\u001b[49m\u001b[43m,\u001b[49m\n\u001b[1;32m    721\u001b[0m \u001b[43m\u001b[49m\u001b[43m)\u001b[49m\n\u001b[1;32m    722\u001b[0m hidden_states \u001b[38;5;241m=\u001b[39m residual \u001b[38;5;241m+\u001b[39m hidden_states\n\u001b[1;32m    724\u001b[0m \u001b[38;5;66;03m# Fully Connected\u001b[39;00m\n",
      "File \u001b[0;32m~/Desktop/pay_attention_to_what_matters/.conda/lib/python3.11/site-packages/torch/nn/modules/module.py:1532\u001b[0m, in \u001b[0;36mModule._wrapped_call_impl\u001b[0;34m(self, *args, **kwargs)\u001b[0m\n\u001b[1;32m   1530\u001b[0m     \u001b[38;5;28;01mreturn\u001b[39;00m \u001b[38;5;28mself\u001b[39m\u001b[38;5;241m.\u001b[39m_compiled_call_impl(\u001b[38;5;241m*\u001b[39margs, \u001b[38;5;241m*\u001b[39m\u001b[38;5;241m*\u001b[39mkwargs)  \u001b[38;5;66;03m# type: ignore[misc]\u001b[39;00m\n\u001b[1;32m   1531\u001b[0m \u001b[38;5;28;01melse\u001b[39;00m:\n\u001b[0;32m-> 1532\u001b[0m     \u001b[38;5;28;01mreturn\u001b[39;00m \u001b[38;5;28;43mself\u001b[39;49m\u001b[38;5;241;43m.\u001b[39;49m\u001b[43m_call_impl\u001b[49m\u001b[43m(\u001b[49m\u001b[38;5;241;43m*\u001b[39;49m\u001b[43margs\u001b[49m\u001b[43m,\u001b[49m\u001b[43m \u001b[49m\u001b[38;5;241;43m*\u001b[39;49m\u001b[38;5;241;43m*\u001b[39;49m\u001b[43mkwargs\u001b[49m\u001b[43m)\u001b[49m\n",
      "File \u001b[0;32m~/Desktop/pay_attention_to_what_matters/.conda/lib/python3.11/site-packages/torch/nn/modules/module.py:1595\u001b[0m, in \u001b[0;36mModule._call_impl\u001b[0;34m(self, *args, **kwargs)\u001b[0m\n\u001b[1;32m   1593\u001b[0m     hook_result \u001b[38;5;241m=\u001b[39m hook(\u001b[38;5;28mself\u001b[39m, args, kwargs, result)\n\u001b[1;32m   1594\u001b[0m \u001b[38;5;28;01melse\u001b[39;00m:\n\u001b[0;32m-> 1595\u001b[0m     hook_result \u001b[38;5;241m=\u001b[39m \u001b[43mhook\u001b[49m\u001b[43m(\u001b[49m\u001b[38;5;28;43mself\u001b[39;49m\u001b[43m,\u001b[49m\u001b[43m \u001b[49m\u001b[43margs\u001b[49m\u001b[43m,\u001b[49m\u001b[43m \u001b[49m\u001b[43mresult\u001b[49m\u001b[43m)\u001b[49m\n\u001b[1;32m   1597\u001b[0m \u001b[38;5;28;01mif\u001b[39;00m hook_result \u001b[38;5;129;01mis\u001b[39;00m \u001b[38;5;129;01mnot\u001b[39;00m \u001b[38;5;28;01mNone\u001b[39;00m:\n\u001b[1;32m   1598\u001b[0m     result \u001b[38;5;241m=\u001b[39m hook_result\n",
      "File \u001b[0;32m~/Desktop/pay_attention_to_what_matters/.conda/lib/python3.11/site-packages/torch/utils/_contextlib.py:115\u001b[0m, in \u001b[0;36mcontext_decorator.<locals>.decorate_context\u001b[0;34m(*args, **kwargs)\u001b[0m\n\u001b[1;32m    112\u001b[0m \u001b[38;5;129m@functools\u001b[39m\u001b[38;5;241m.\u001b[39mwraps(func)\n\u001b[1;32m    113\u001b[0m \u001b[38;5;28;01mdef\u001b[39;00m \u001b[38;5;21mdecorate_context\u001b[39m(\u001b[38;5;241m*\u001b[39margs, \u001b[38;5;241m*\u001b[39m\u001b[38;5;241m*\u001b[39mkwargs):\n\u001b[1;32m    114\u001b[0m     \u001b[38;5;28;01mwith\u001b[39;00m ctx_factory():\n\u001b[0;32m--> 115\u001b[0m         \u001b[38;5;28;01mreturn\u001b[39;00m \u001b[43mfunc\u001b[49m\u001b[43m(\u001b[49m\u001b[38;5;241;43m*\u001b[39;49m\u001b[43margs\u001b[49m\u001b[43m,\u001b[49m\u001b[43m \u001b[49m\u001b[38;5;241;43m*\u001b[39;49m\u001b[38;5;241;43m*\u001b[39;49m\u001b[43mkwargs\u001b[49m\u001b[43m)\u001b[49m\n",
      "\u001b[0;31mKeyboardInterrupt\u001b[0m: "
     ]
    }
   ],
   "source": [
    "generated_text = {}\n",
    "decoded = None\n",
    "for i, (idx, row) in enumerate(selected_books.sort_values(\"context_length\", ascending=False).iterrows()):\n",
    "    text = row['text']\n",
    "\n",
    "    prompt = TEMPLATE.format(content = text, schema = SCHEMA)\n",
    "    schema= SCHEMA\n",
    "    \n",
    "    message = [{\"role\": \"user\", \"content\": prompt}]\n",
    "    template = tokenizer.apply_chat_template(message, tokenize=False)\n",
    "\n",
    "    instruction = \"Your response should follow exactly this template:\"\n",
    "\n",
    "    splits = template.split(instruction)\n",
    "    initial_prompt = splits[0]\n",
    "    context = splits[1]\n",
    "\n",
    "    assert (hash(initial_prompt+instruction+context) == hash(template)), \"Error in spliting strings. Initial and final string does not match\"\n",
    "\n",
    "    initial_tokens = tokenizer.encode(initial_prompt, return_tensors='pt')\n",
    "    # open_tag_tokens = tokenizer.encode(\"<schema>\\n\", return_tensors='pt')\n",
    "    # schema_tokens = tokenizer.encode(schema, return_tensors='pt')\n",
    "    instruction_tokens=  tokenizer.encode(instruction, return_tensors='pt')\n",
    "    # close_tag_tokens = tokenizer.encode(\"\\n</schema>\", return_tensors='pt')\n",
    "    context_tokens = tokenizer.encode(context, return_tensors='pt')\n",
    "\n",
    "    start_idx = initial_tokens.size(1)\n",
    "    end_idx = start_idx + instruction_tokens.size(1) - 1\n",
    "\n",
    "    model.set_reference_tokens(start_idx, end_idx)\n",
    "    \n",
    "    tokens = torch.concat([\n",
    "        initial_tokens.squeeze(), \n",
    "        instruction_tokens.squeeze()[1:],\n",
    "        # open_tag_tokens.squeeze()[1:],\n",
    "        # schema_tokens.squeeze()[1:],\n",
    "        # close_tag_tokens.squeeze()[1:],\n",
    "        context_tokens.squeeze()[1:]\n",
    "    ]).unsqueeze(0)\n",
    "\n",
    "    q = tokenizer.decode(tokens.squeeze()[start_idx: end_idx])\n",
    "\n",
    "    assert instruction in q, \"Error in tokenization. Not giving attention to correct tokens\"\n",
    "\n",
    "    tokens2 = tokenizer(template, return_tensors='pt')\n",
    "\n",
    "    assert (abs(tokens.shape[1] - tokens2['input_ids'].shape[1]) <=5 ), \"Error in tokenization. Tokens do not match\"\n",
    "\n",
    "    clear_output()\n",
    "    \n",
    "    if decoded is not None:\n",
    "        is_json = True    \n",
    "        json_obj = decoded.split(\"[/INST]\")[1]\\\n",
    "            .replace(\"\\n\", '')\\\n",
    "            .replace('</s>', '')\\\n",
    "            .replace('\\r', '')\\\n",
    "            .replace('          ', '')\\\n",
    "            .replace(\"\\\\\", '')\n",
    "        \n",
    "        try:\n",
    "            json_obj   = json.loads(json_obj)\n",
    "\n",
    "        except:\n",
    "            is_json = False\n",
    "\n",
    "        print(\n",
    "            f'''\n",
    "            text index = {i},\n",
    "            context length = {row['context_length']},\n",
    "            start index = {start_idx}\n",
    "            end index = {end_idx}\n",
    "            last generated text = \n",
    "{decoded.split('[/INST]')[1]}\n",
    "            is json = {is_json}    \n",
    "            delta = {DELTA_ATTENTION}\n",
    "            keys = {None if not is_json else json_obj.keys()}\n",
    "            '''\n",
    "        )\n",
    "\n",
    "    with torch.no_grad():\n",
    "        generated_ids = model.generate(\n",
    "            tokens, \n",
    "            max_new_tokens = 1_000, \n",
    "            # suppress_tokens = [endline_token, tab_token, double_backspace_token, backspace_token, triple_backspace_token],\n",
    "            # forced_decoder_ids = [[0, left_brace_token]],\n",
    "            do_sample = False,\n",
    "        )\n",
    "\n",
    "    decoded = (tokenizer.batch_decode(generated_ids)[0])\n",
    "\n",
    "    generated_text[idx] = {\n",
    "        \"generated_text\": decoded,\n",
    "        \"original_text\": text,\n",
    "        \"schema\" : schema,\n",
    "        \"context_length\" : row['context_length'],\n",
    "        \"book_id\": row['record_id']\n",
    "    }\n"
   ]
  },
  {
   "cell_type": "code",
   "execution_count": 12,
   "metadata": {},
   "outputs": [],
   "source": [
    "pd.DataFrame(generated_text).T\\\n",
    "    .to_parquet(\"data/study-04-json/generation1.parquet\")"
   ]
  },
  {
   "cell_type": "code",
   "execution_count": 14,
   "metadata": {},
   "outputs": [],
   "source": [
    "generated_text_df = pd.DataFrame(generated_text).T\n",
    "\n",
    "generated_text_df['generated_text'] = generated_text_df['generated_text']\\\n",
    "    .apply(lambda x: x.split('[/INST]')[1])"
   ]
  },
  {
   "cell_type": "code",
   "execution_count": 34,
   "metadata": {},
   "outputs": [],
   "source": [
    "def get_json(x):\n",
    "    s = x.replace('\\n', '')\\\n",
    "        .replace('<schema>', '')\\\n",
    "        .replace('</s>', '')\\\n",
    "        .replace('\\_','_')\n",
    "    \n",
    "    try:\n",
    "        return json.loads(s)\n",
    "\n",
    "    except Exception as e:\n",
    "        print()\n",
    "        print(e)\n",
    "        print(s)\n",
    "\n",
    "        return np.nan"
   ]
  },
  {
   "cell_type": "code",
   "execution_count": 35,
   "metadata": {},
   "outputs": [
    {
     "name": "stdout",
     "output_type": "stream",
     "text": [
      "\n",
      "Unterminated string starting at: line 1 column 97 (char 96)\n",
      " {\"title\": \"The Elderbush\",\"author\": \"Hans Christian Andersen\",\"genre\": \"Fairy Tale\",\"summary\": \"A young boy is sick and his mother tells him a story about an old man who lives alone and tells fairy tales. The boy listens to the story and falls asleep. When he wakes up, he finds that the old man has disappeared and his mother tells him that the story was just a dream. The boy then falls asleep again and wakes up to find that the old man has returned and is telling him another story. This time, the boy listens intently and remembers the details of the story. The old man then disappears again and the boy wakes up to find that the story was just a dream. The boy then falls asleep again and wakes up to find that the old man has returned and is telling him another story. This time, the boy listens intently and remembers the details of the story. The old man then disappears again and the boy wakes up to find that the story was just a dream. The boy then falls asleep again and wakes up to find that the old man has returned and is telling him another story. This time, the boy listens intently and remembers the details of the story. The old man then disappears again and the boy wakes up to find that the story was just a dream. The boy then falls asleep again and wakes up to find that the old man has returned and is telling him another story. This time, the boy listens intently and remembers the details of the story. The old man then disappears again and the boy wakes up to find that the story was just a dream. The boy then falls asleep again and wakes up to find that the old man has returned and is telling him another story. This time, the boy listens intently and remembers the details of the story. The old man then disappears again and the boy wakes up to find that the story was just a dream. The boy then falls asleep again and wakes up to find that the old man has returned and is telling him another story. This time, the boy listens intently and remembers the details of the story. The old man then disappears again and the boy wakes up to find that the story was just a dream. The boy then falls asleep again and wakes up to find that the old man has returned and is telling him another story. This time, the boy listens intently and remembers the details of the story. The old man then disappears again and the boy wakes up to find that the story was just a dream. The boy then falls asleep again and wakes up to find that the old man has returned and is telling him another story. This time, the boy listens intently and remembers the details of the story. The old man then disappears again and the boy wakes up to find that the story was just a dream. The boy then falls asleep again and wakes up to find that the old man has returned and is telling him another story. This time, the boy listens intently and remembers the details of the story. The old man then disappears again and the boy wakes up to find that the story was just a dream. The boy then falls asleep again and wakes up to find that the old man has returned and is telling him another story. This time, the boy listens intently and remembers the details of the story. The old man then disappears again and the boy wakes up to find that the story was just a dream. The boy then falls asleep again and wakes up to find that the old man has returned and is telling him another story. This time, the boy listens intently and remembers the details of the story. The old man then disappears again and the boy wakes up to find that the story was just a dream. The boy then falls asleep again and wakes up to find that the old man has returned and is telling him another story. This time, the boy listens intently and remembers the details of the story. The old man then disappears again and the boy wakes up to find that the story was just a dream. The boy then falls asleep again and wakes up to find that the old man has returned and is telling him another story. This time, the boy listens intently and remembers the details of the story. The old man then disappears again and the boy wakes up to find that the story was just a dream. The boy then falls asleep again and wakes up to find that the old man has returned and is telling him another story. This time, the boy listens intently and remembers the details of\n",
      "\n",
      "Expecting ',' delimiter: line 1 column 2234 (char 2233)\n",
      " {\"schema\": {\"title\": \"The Box of Robbers\",\"author\": \"Frank Baum\",\"summary\": \"A young girl named Martha is left alone in her house when her mother goes out. She decides to explore the attic and finds a mysterious chest. Inside the chest, she finds three bandits who have been sent to America from Italy by her uncle. The bandits explain that they are Italian bandits and have been brought to America by her uncle. They ask Martha for help in finding a new home and a way to make a living in America. Martha tries to help the bandits, but they are not interested in anything other than robbing. They decide to rob the house they are in and Martha is left alone with them. The bandits leave the house with their plunder and Martha is left alone in the attic. She hears the sound of their return and hides. The bandits return with more plunder and Martha watches them consume it. They decide to find a cave to store their plunder in and Martha tells them about a Mammoth cave in Kentucky. The bandits are startled by the sound of the electric doorbell and think it is the police. Martha pretends to be scared and tells them that there are 120 police officers coming to arrest them. The bandits are terrified and decide to get back into the chest. Martha closes the lid and the key locks. The bandits are trapped in the chest and Martha is left alone in the attic.\",\"characters\": [{\"name\": \"Martha\",\"age\": \"unknown\",\"gender\": \"female\",\"description\": \"A young girl who is left alone in her house when her mother goes out. She decides to explore the attic and finds a mysterious chest.\"},{\"name\": \"Uncle Walter\",\"age\": \"unknown\",\"gender\": \"male\",\"description\": \"Martha's uncle who sends the bandits to America.\"},{\"name\": \"Lugui\",\"age\": \"unknown\",\"gender\": \"male\",\"description\": \"One of the bandits who is sent to America by Uncle Walter.\"},{\"name\": \"Beni\",\"age\": \"unknown\",\"gender\": \"male\",\"description\": \"One of the bandits who is sent to America by Uncle Walter.\"},{\"name\": \"Victor\",\"age\": \"unknown\",\"gender\": \"male\",\"description\": \"One of the bandits who is sent to America by Uncle Walter.\"}],\"genres\": [\"Fantasy\",\"Adventure\"],\"tags\": [\"bandits\",\"uncle\",\"chest\",\"attic\",\"plunder\",\"cave\",\"police\",\"doorbell\"],\"authors\": [\"Frank Baum\"]}\n",
      "\n",
      "Expecting ',' delimiter: line 1 column 914 (char 913)\n",
      " {\"title\": \"The War Has Begun and My Faith Has Too\",\"author\": \"LPSRfun123\",\"summary\": \"Let the war begin. I kept on hearing it. These words sound familiar. Like I was there before even this place looks familiar. But why??? The cages doors opened slowly making a creak noise. I froze I could already tell something bad is going to happen. I felt the potion in my under belly. I was not going to use it... I was not going to use what the enimey give me. When the cage was fully opened I noticed only one of them was not the fake wolf I went after that one. Sparky went after the fake Greeneyes. I looked to the right or left of me and saw Rose getting in a fight with Duke and another wolf. The other wolf was taken away to get healed. Then I bit Duke and tore some of his fur off. Since he was evil and Rose did the same and drank some of his blood. Then he got up and ran to the other wolf I heard that wolf say,\"My friend Scarlett her kiss me and you will be healed.\" That is what the fake duke said. Then I noticed a flag got knocked down it was the wolf I was fighting. I was about to run when I noticed on the flag was not normal a sign of something I saw. I saw the scent of blood. There is going to be another wolf coming soon. I soon realized that Scarlett was eliminated, and taken to the watch room. The next thing I knew was that Sparky was taken to the healing rooms and Rose gave us elk and the war quit down for me. But something grabed me as in Me, Sparky, and Rose. \",\"genre\": \"Fantasy\",\"age\": \"Adult\",\"characters\": [{\"name\": \"Zi\",\"age\": null,\"description\": \"The protagonist of the story. She is a Bloodwolf who is cursed to turn into a human when she mates. She is determined to break the curse and find love.\",\"image\": null}],\"settings\": [{\"name\": \"The War\",\"description\": \"The setting of the story. It is a war between two groups of wolves, and Zi is caught in the middle.\",\"image\": null}],\"plot\": [{\"chapter\": \"The War Has Begun\",\"description\": \"The story begins with Zi being caught in the middle of a war between two groups of wolves. She is determined to find a way out of the situation and break the curse that has been placed on her.\",\"image\": null}],\"author_info\": null}\n",
      "\n",
      "Expecting value: line 1 column 342 (char 341)\n",
      " {\"title\": \"The Haunted House\",\"genre\": \"Horror\",\"characters\": [{\"name\": \"Billy\", \"age\": 10},{\"name\": \"Sam\", \"age\": 9},{\"name\": \"Jessica\", \"age\": 15},{\"name\": \"Jasmine\", \"age\": 15},{\"name\": \"Olu\", \"age\": 17},{\"name\": \"Joshua\", \"age\": 13},{\"name\": \"Sadina\", \"age\": 14},{\"name\": \"Joseph\", \"age\": 6},{\"name\": \"Dream keepers (Bad ones)\", \"age\": None},{\"name\": \"Dream keepers (Good ones)\", \"age\": None},{\"name\": \"Narrator\", \"age\": 13}],\"prologue\": \"Hello and welcome to the house of doom. Where all your parents are hung and dead. Where dreams are haunted. Where lives are to be sacrificed to live. Children out of all things must participate or shall see their parent's die by the hands of us dream keepers. We dream keepers are not the nice ones. We haunt people in their dream and leave them crying to sleep. We may act nice but listen to me, Don't trust us .\",\"chapter1\": \"When I was younger I made a promise to a devil. A devil of some sort with devils on his head and had a tail with a pointy end. I didn't know any better I mean i was a child right? My name is Joseph. Im the youngest one in my family. Were the only two kids in the house. No one knows that I am the one that made the promise. I couldn't bring it up. I knew if I said anything they'll definitely be mad at me. My brother Joshua is the oldest one. Were the only two kids in the house. No one knows that I am the one that made the promise. I couldn't bring it up. I knew if I said anything they'll definitely be mad at me. My brother would start hating me. The devils will take away my parents and my family and I would of been alone by myself. *Creak Creak* went the old tile floors of the house. Someone was coming. I quickly ran into bed and buried myslef in there pretending to sleep. A voice whispered \\\"Listen to me child, I am the Dream keeper and if you disobey me, your going to regret even talking to me\\\" I tried closing my ears but the voice got closer and closer. Each time it got louder. Soon after it said \\\"I WILL WATCH OVER YOU. DO SOMETHING WRONG AND YOUR DREAMS SHALL HAUNT YOU. For now good bye child.\\\"\"},\"chapter2\": \"After awhile i fell asleep. I was dreaming about how making a promise with the demon was a bad idea. I didn't think that I would get haunted by one. That demon told me that it'll bring me happiness. It really bought me nothing but trouble. In my dream I was running away from the dream keepers. Despite how it looks, it was horrific. They had no eyes, there was blood running down their faces, there arms were teared off. There faces were so scary no one approached them. They were chasing me like I was their prey. I was scared I didn't know what to do. If I screamed for help no one would come I mean look at them. They came closer and whispered \\\"Come to me child, Come. If you don't you know what will happen won't u?\\\" I didn't stop I kept running. Soon after I saw myself in the house but I didn't know if it was a dream or reality. My parents stood infront of me telling me to run away. I tried running but it didn't work. It was useless, they trapped me there. I watched as my parents were slaughtered. *Splish Sploosh* Went the guts and blood as they stepped on it. \",\"chapter3\": \"I woke up from that terrible dream, but that were no dream. It was real, my parents heads they were hanging off the walls of a house. A house that I can't remember. I look around there was only kids around here. The dream keepers stand around hanging bodies. I can't find Jospeh anywhere so I started to shout his name\n",
      "\n",
      "Expecting value: line 1 column 99 (char 98)\n",
      " {\"title\": \"The London Visitor\",\"genre\": \"Fiction\",\"characters\": [{\"name\": \"Mary Russell\", \"age\": None}],\"author\": \"Mary Mitford\",\"summary\": \"Mary Russell, a wretched visitor, receives an invitation to dine with the Dunbars and meets Mr. Thompson, an old beau who speaks of his wife and daughter, and his love for fishing.\"}\n",
      "\n",
      "Expecting value: line 1 column 98 (char 97)\n",
      " {\"title\": \"The Capture of Father Time\",\"genre\": \"Fantasy\",\"characters\": [{\"name\": \"Jim\", \"age\": None}],\"author\": \"Frank Baum\",\"summary\": \"Jim, a cowboy's son, visits his uncle in the east and becomes fascinated with the lasso. He decides to ride his horse into the country and throws his lasso at a post. The butcher asks him to ride his horse into the pasture and Jim, eager to show off, does so. He then wants to show off his lasso skills by throwing it at imaginary cattle. Suddenly, his lasso catches something and Jim realizes he has caught Father Time. Father Time is an old man with a scythe and an hourglass. He is angry and tells Jim to let him go or everything in the world will stop. Jim laughs and decides to have some fun with Father Time. He ties Father Time to his uncle's hitching post and goes to the grocery store. He pours mucilage over the ruffled hair of the meanest man in town. He then goes to the schoolhouse and writes a sign on the blackboard asking the students to yell when they enter the room and throw their books at the teacher. He goes to the barber shop and takes off the policeman's cap and coat and puts them on the barber's chair. He then goes back to his uncle's house and unties Father Time. He promises not to tell anyone about his capture and Father Time promises not to mow him down. Jim then rides slowly down the street and sees the chaos he has caused. He is pulled off his horse by the butcher and realizes he has forgotten about the horse. He then realizes the importance of time and the folly of trying to stop it.\"}\n",
      "\n",
      "Expecting value: line 1 column 110 (char 109)\n",
      " {\"title\": \"The Violet Fae A Lost Princess Tale\",\"genre\": \"Fantasy\",\"characters\": [{\"name\": \"Violet\", \"age\": None}],\"author\": \"N. Renee Brown\",\"summary\": \"Violet is a personal assistant who is attacked while running an errand for her boss. She is rescued by a man named Leeland O'Kleise, who claims to be a second lieutenant in King Xavior's army. Violet is confused and scared, but Leeland tries to explain who he is and why he saved her. He tells her that she is a princess and that her father, King Xavior, has been trying to find her. Violet is skeptical, but she can't deny the connection she feels to Leeland. They continue on their journey, with Violet trying to make sense of her new reality.\"}\n",
      "\n",
      "Expecting value: line 1 column 101 (char 100)\n",
      " {\"title\": \"The Dummy That Lived\",\"genre\": \"Fantasy\",\"characters\": [{\"name\": \"Tanko-Mankie\", \"age\": None}],\"author\": \"Frank Baum\",\"summary\": \"In all Fairyland there is no more mischievous a person than Tanko-Mankie the Yellow Ryl. He flew through the city one afternoon—quite invisible to moral eyes, but seeing everything himself—and noticed a figure of a wax lady standing behind the big plate glass window of Mr. Floman's department store. The wax lady was beautifully dressed, and extended in her stiff left hand a card bearing the words: 'RARE BARGAIN! This Stylish Costume (Imported from Paris) Former Price, $20, Reduced To Only $19.98.' This impressive announcement had drawn before the window a crowd of women shoppers, who stood looking at the wax lady with critical eyes. Tanko-Mankie laughed to himself the low, gurgling little laugh that always means mischief. Then he flew close to the wax figure and breathed twice upon its forehead. From that instant the dummy began to live, but so dazed and astonished was she at the unexpected sensation that she continued to stand stiffly staring at the women outside and holding out the placard as before.\"}\n",
      "\n",
      "Expecting value: line 1 column 91 (char 90)\n",
      " {\"title\": \"The Fox and the Crow\",\"genre\": \"Fables\",\"characters\": [{\"name\": \"Fox\", \"age\": None}],\"author\": \"Aesop\",\"summary\": \"A Fox steals a piece of cheese and alights on a tree. A Crow, anxious to prove her voice, caws vigorously and drops the cheese. The Fox pounces on it and carries it off, remarking that the Crow should have used her voice to get some common sense.\"}\n",
      "\n",
      "Expecting value: line 1 column 108 (char 107)\n",
      " {\"title\": \"The Life of a Vampire Werewolf pt.2\",\"genre\": \"Fantasy\",\"characters\": [{\"name\": \"Zada\", \"age\": None},{\"name\": \"Cynthia\", \"age\": None},{\"name\": \"Tori\", \"age\": None},{\"name\": \"Selena\", \"age\": None},{\"name\": \"Sunny\", \"age\": None},{\"name\": \"Tony\", \"age\": None},{\"name\": \"Jacob\", \"age\": None},{\"name\": \"Jarvon\", \"age\": None},{\"name\": \"Cody\", \"age\": None},{\"name\": \"Jarred\", \"age\": None},{\"name\": \"Angelica\", \"age\": None}],\"author\": \"Unknown\",\"summary\": \"The story follows the life of a vampire werewolf named Angelica as she navigates the challenges of being a pack leader. She must name and assign jobs to the wolves in her pack, deal with conflicts with other packs, and find food for the feast. Along the way, she forms a relationship with Duke, a new hunter who joins the pack.\"}</schema>\n",
      "\n",
      "Expecting value: line 1 column 103 (char 102)\n",
      " {\"title\": \"Little Star: Part I\",\"genre\": \"Fantasy\",\"characters\": [{\"name\": \"The Little Star\", \"age\": None}],\"author\": \"W.C. Gerber\",\"summary\": \"A story about a little star that falls from the sky and lands on the narrator's forehead. The narrator is fascinated by the little star and spends the night talking to it, learning about its origins and the universe.\"}</schema>\n",
      "\n",
      "Expecting value: line 1 column 84 (char 83)\n",
      " {\"title\": \"Lexi Grey\",\"genre\": \"Fantasy\",\"characters\": [{\"name\": \"Watcher\",\"age\": None}],\"author\": \"Unknown\",\"summary\": \"Lexi Grey is a fairy tale about six kingdoms on Serenity Island, each with its own unique inhabitants and characteristics. The story begins with the Forest Kingdom, which is inhabited by elves, dryads, and satyrs. The Elves are in charge of supplying the kingdom with food and wood, while the dryads and satyrs are in charge of keeping trees and plants healthy. The next kingdom is the Coral Kingdom, which is located in Outsider Bay and is inhabited by mermaids, naiads, and pirates. The mermaids and naiads are in charge of keeping the waters clean from litter, while the pirates are on lookout for any trespassers. The third kingdom is the Underground Kingdom, which is inhabited by dwarves who mine for diamonds, ore, steel, gold, etc. The jewelry made from the mined materials goes to the Market, which is located in the middle of the Island. The Vampire Kingdom is the fourth kingdom and is inhabited by vampires who suck blood to gain more vampires for their kingdom. The Magic Kingdom is the fifth kingdom and is home to faeries and pixies who farm, make clothes, and produce magic. The last kingdom is the Mortal Kingdom, which is where normal Möbians live and is the only kingdom where humans live. The story ends with the narrator, Watcher, joining the kingdom of his choice.\"}\n",
      "\n",
      "Expecting value: line 1 column 100 (char 99)\n",
      " {\"title\": \"Alicia & the Talking Fish\",\"genre\": \"Fantasy\",\"characters\": [{\"name\": \"Alicia\", \"age\": None}],\"author\": \"Ian Mcluckie\",\"summary\": \"Alicia goes on an adventure with her father and a talking fish named Felix. They explore a magical lake and encounter a fish school.\"}\n",
      "\n",
      "Expecting value: line 1 column 94 (char 93)\n",
      " {\"title\": \"The Enchanted Types\",\"genre\": \"Fantasy\",\"characters\": [{\"name\": \"Popopo\", \"age\": None}],\"author\": \"Frank Baum\",\"summary\": \"A knook named Popopo becomes bored with his immortal life and decides to visit the earth. He is horrified by the noise and chaos of the cities and decides to visit them at night. He enters a millinery shop and calls the birds to fly out of their hats, but is horrified to see that they are stuffed. He steals the birds and places them back on the hats, but the milliner is upset and the knook realizes he has wronged her. He goes home and decides to consult the king of the knooks to figure out how to fix his mistake.\"}\n",
      "\n",
      "Expecting value: line 1 column 95 (char 94)\n",
      " {\"title\": \"The Magix Bon Bons\",\"genre\": \"Fantasy\",\"characters\": [{\"name\": \"Dr. Daws\", \"age\": None}],\"author\": \"Frank Baum\",\"summary\": \"A young lady named Claribel Sudds goes to a wise chemist named Dr. Daws and asks him to make her a stage presence. He gives her a box of magic bonbons that can make her dance, sing, and play the piano. Claribel is thrilled with the bonbons and goes home to try them out. However, she forgets about the box and leaves it at a dry goods store. Bessie Bostwick finds the box and takes it home. Bessie eats one of the bonbons and becomes an instant musical prodigy. Her parents are amazed and her father even compares her to Beethoven's seventh son. The senator, who is a guest at the Bostwick's house, also eats a bonbon and begins to sing in a shrill, tremolo soprano voice. The dinner party is in chaos and the senator runs away in shame. The next day, the senator meets Mr. Bostwick in the street and the two have a stony glare of oblivion. The political meeting is the feature of the day and the senator, still under the influence of the bonbon, kicks his leg into the air in the middle of his speech. Claribel, who is present, recognizes the senator as the thief of her bonbons and calls for his arrest. The ushers take her out of the hall, thinking she has gone insane. The senator's friends carry him out of the hall and put him into an open carriage. The effect of the magic bonbon is still powerful enough to control the poor senator, who dances energetically all the way home.\"}\n",
      "\n",
      "Extra data: line 1 column 502 (char 501)\n",
      " {\"title\": \"Glamtopia\",\"genre\": \"Fantasy\",\"characters\": [{\"name\": \"Jessica\", \"age\": 16},{\"name\": \"Akemi\", \"age\": 16},{\"name\": \"Kaitlin\", \"age\": 16},{\"name\": \"Amber\", \"age\": 16}],\"author\": \"J.E. Powers\",\"summary\": \"Four princesses in the kingdom of Glamtopia try to find dresses for a ball, but their bickering and rivalry get in the way. Jessica, Akemi, Kaitlin, and Amber each have their own unique personalities and styles, but they must learn to work together if they want to make it to the ball.\"}</schema>\n",
      "\n",
      "Extra data: line 1 column 349 (char 348)\n",
      " {\"title\": \"Falling Into Ashes\",\"genre\": \"Fantasy\",\"characters\": [{\"name\": \"Ash\", \"age\": 13}],\"author\": \"Tania L. Velez\",\"summary\": \"Ash, the thirteen-year-old prince, must decide who will be his father and stepmother after his father's death. He is determined to protect his mother from any harm and will stop at nothing to ensure her happiness.\"}</schema>\n",
      "\n",
      "Expecting value: line 1 column 106 (char 105)\n",
      " {\"title\": \"The Fisherman And His Wife\",\"genre\": \"Fairy Tale\",\"characters\": [{\"name\": \"Ilsabill\", \"age\": None}],\"author\": \"The Brothers Grimm\",\"summary\": \"A fisherman and his wife live in a pigsty and dream of a better life. The fisherman catches a great fish that speaks to him and offers to grant his wife's wishes. The wife asks for a snug little cottage, and then a large stone castle. The fisherman goes to the sea to ask for these boons, but the fish is uncooperative. The wife becomes angry and demands to be king and then emperor. The fisherman is forced to go to the sea again and again to ask for these boons, but the fish becomes tired and the wife's demands become more and more unreasonable. In the end, the fisherman and his wife live in a pigsty and dream of a better life.\"}\n",
      "\n",
      "Expecting value: line 1 column 126 (char 125)\n",
      " {\"title\": \"The Elements of the Dragons Rebellion\",\"genre\": \"Science Fiction\",\"characters\": [{\"name\": \"Endor Wiggons\",\"age\": None}],\"author\": \"Jerek Smith\",\"summary\": \"A long distant future, two space generals fight over a pocket galaxy. Endor, a recruit, must choose sides and go on a mission to open a sector.\"}</schema>\n",
      "\n",
      "Expecting value: line 1 column 102 (char 101)\n",
      " {\"title\": \"Fairy Doggie and Pixie Kitty\",\"genre\": \"Fantasy\",\"characters\": [{\"name\": \"Benny\", \"age\": None},{\"name\": \"Gigi\", \"age\": None}],\"author\": \"Dina Galli\",\"summary\": \"Benny and Gigi are best friends who go on an adventure to buy candy. They encounter Mr. Crabapple, a candy shop owner who offers them a deal to pick up a package for him in exchange for candy and money. However, the package turns out to be dangerous and they are rescued by Dr. Dracula, a vampire who lives in Bat City.\"}\n",
      "\n",
      "Expecting value: line 1 column 147 (char 146)\n",
      " {\"title\": \"My First Day... School sucks even more when u are a new student...\",\"genre\": \"Coming of Age\",\"characters\": [{\"name\": \"Brenda\", \"age\": None},{\"name\": \"Ruwan\", \"age\": None}],\"author\": \"Unknown\",\"summary\": \"Brenda starts her first day at a new school and struggles to fit in. She meets Ruwan, who helps her navigate the challenges of being a new student.\"}</schema>\n",
      "\n",
      "Expecting value: line 1 column 99 (char 98)\n",
      " {\"title\": \"The Golden-Beaked Raven\",\"genre\": \"Fantasy\",\"characters\": [{\"name\": \"Tabitha\", \"age\": None}],\"author\": \"Unknown\",\"summary\": \"A young girl named Tabitha embarks on a journey to retrieve her father's stolen mailbox from the Golden-Beaked Raven. Along the way, she faces challenges and learns valuable lessons about forgiveness and the importance of family.\"}</schema>\n",
      "\n",
      "Expecting value: line 1 column 108 (char 107)\n",
      " {\"title\": \"Snow White and the Seven Dwarfs\",\"genre\": \"Fairy Tale\",\"characters\": [{\"name\": \"Queen\", \"age\": None},{\"name\": \"King\", \"age\": None},{\"name\": \"Snow White\", \"age\": None}],\"author\": \"Unknown\",\"summary\": \"A queen wishes for a daughter with skin as white as snow, lips as red as blood, and hair as black as ebony. She gets her wish when she gives birth to Snow White, but soon after, the queen dies. The king marries a cruel queen who orders Snow White to be killed. The huntsman spares Snow White's life and she runs into the woods. She finds refuge with seven dwarves who keep her with them and allow her to stay in their house.\"}\n",
      "\n",
      "Expecting value: line 1 column 104 (char 103)\n",
      " {\"title\": \"The Emperor's New Clothes\",\"genre\": \"Fairy Tale\",\"characters\": [{\"name\": \"Emperor\", \"age\": None}],\"author\": \"Hans Christian Andersen\",\"summary\": \"The Emperor is so fond of new clothes that he spends all his money on them. Two rogues claim to be weavers and offer to make the Emperor clothes that are invisible to anyone who is unfit for their office. The Emperor hires them and pays them large sums of money, but they do not actually weave anything. The Emperor sends his faithful old minister to see the weavers, but the minister cannot see anything on the looms. The Emperor sends another officer of his court to see the weavers, and he also cannot see anything on the looms. The Emperor himself wants to see the cloth, but he cannot see anything either. Everyone in the city is talking about the splendid cloth, and the Emperor presents the impostors with the ribbon of an order of knighthood. On the day of the procession, the Emperor is undressed and the rogues pretend to fit him in his new suit. Everyone admires the Emperor's new clothes, but no one can see them.\"}\n",
      "\n",
      "Expecting value: line 1 column 124 (char 123)\n",
      " {\"title\": \"The Adventures of Chanticleer and Partlet\",\"genre\": \"Fairy Tale\",\"characters\": [{\"name\": \"Chanticleer\", \"age\": None},{\"name\": \"Partlet\", \"age\": None}],\"author\": \"The Brothers Grimm\",\"summary\": \"Chanticleer and Partlet go on an adventure to the mountains to eat nuts. They build a carriage out of nutshells and harness themselves to it. Along the way, they meet a duck who attacks them and a needle and pin who ask for a lift. They arrive at an inn and spend the night there. In the morning, they steal the needle and pin and leave a note for the landlord. They continue their journey and encounter a cat who asks to join them. They arrive at Mr. Korbes's house but he is not home. They enter his house and cause chaos. Mr. Korbes returns home and is angry. Partlet dies from choking on a nut and Chanticleer is too sad to eat. They bury Partlet and Chanticleer dies of grief.\"}</schema>\n",
      "\n",
      "Expecting value: line 1 column 98 (char 97)\n",
      " {\"title\": \"The Guardian King\",\"genre\": \"Fantasy\",\"characters\": [{\"name\": \"Daniel Allen\", \"age\": None}],\"author\": \"Daniel Allen\",\"summary\": \"A prince is falsely accused of murder and is forced to flee the kingdom. He discovers his true powers and returns to take back his kingdom from his evil uncle.\"}</schema>\n",
      "\n",
      "Expecting value: line 1 column 91 (char 90)\n",
      " {\"title\": \"Unlucky for some\",\"genre\": \"Fantasy\",\"characters\": [{\"name\": \"Krystl\", \"age\": None}],\"author\": \"None\",\"summary\": \"Krystl discovers a bracelet with a charm shaped like a number 13, which turns out to be unlucky for some. She is tasked with saving the world from nightmares and other dangers.\"}\n",
      "\n",
      "Expecting value: line 1 column 98 (char 97)\n",
      " {\"title\": \"The Vampire's Kiss\",\"genre\": \"Romance\",\"characters\": [{\"name\": \"Lana Keller\", \"age\": None}],\"author\": \"Lillian Hudson\",\"summary\": \"Lana has a nightmare about being attacked by a group of people. She wakes up and goes to school, where she meets Labron James. They have a conversation in homeroom, and Lana is intrigued by Labron's kindness and understanding.\"}</schema>\n",
      "\n",
      "Expecting value: line 1 column 123 (char 122)\n",
      " {\"title\": \"The King Of The Polar Bears\",\"genre\": \"Fantasy\",\"characters\": [{\"name\": \"The King Of The Polar Bears\", \"age\": None}],\"author\": \"Frank Baum\",\"summary\": \"The King of the Polar Bears lived among the icebergs in the far north country. He was old and monstrous big; he was wise and friendly to all who knew him. His body was thickly covered with long, white hair that glistened like silver under the rays of the midnight sun. His claws were strong and sharp, that he might walk safely over the smooth ice or grasp and tear the fishes and seals upon which he fed. The seals were afraid when he drew near, and tried to avoid him; but the gulls, both white and gray, loved him because he left the remnants of his feasts for them to devour. Often his subjects, the polar bears, came to him for advice when ill or in trouble; but they wisely kept away from his hunting grounds, lest they might interfere with his sport and arouse his anger. The wolves, who sometimes came as far north as the icebergs, whispered among themselves that the King of the Polar Bears was either a magician or under the protection of a powerful fairy. For no earthly thing seemed able to harm him; he never failed to secure plenty of food, and he grew bigger and stronger day by day and year by year.\"}\n",
      "\n",
      "Expecting value: line 1 column 90 (char 89)\n",
      " {\"title\": \"My First Human\",\"genre\": \"Fantasy\",\"characters\": [{\"name\": \"Flutter\", \"age\": None}],\"author\": \"Sarah Egbung\",\"summary\": \"In this book, Flutter tells the story of her first day at school and how she got her school in trouble. She sends a challenge to the Hornets, a band from out of town, to fight a duel with her fairies 1 on 1. However, things take a turn when she is transported to another world and meets Emily, a human who is also a fairy. Together, they face challenges and learn about the power of friendship.\"}</schema>\n",
      "\n",
      "Expecting value: line 1 column 120 (char 119)\n",
      " {\"title\": \"The Frog and The Scorpion\",\"genre\": \"Fable\",\"characters\": [{\"name\": \"Tyler Aeschylus Cammerbottom\", \"age\": None}],\"author\": \"Barry Carver\",\"summary\": \"A story of human nature thinly disguised as a fable of old... exactly the way fables of old were, well, exactly the same thing.\"}</schema>\n",
      "\n",
      "Extra data: line 1 column 444 (char 443)\n",
      " {\"title\": \"Alicia and The Friendly Flying Dragon\",\"genre\": \"Fantasy\",\"characters\": [{\"name\": \"Alicia\", \"age\": 3}],\"author\": \"Ian Mcluckie\",\"summary\": \"Alicia has a special friend who is a flying dragon. She jumps out of bed and runs to visit him. The dragon lands next to her and they fly off to a castle in the sky. There, they meet a sweet maker who makes the best sweets in the world. Alicia and the dragon have many adventures together.\"}</schema>\n",
      "\n",
      "Expecting value: line 1 column 95 (char 94)\n",
      " {\"title\": \"JB A Fairy Tale\",\"genre\": \"Fantasy\",\"characters\": [{\"name\": \"Penelope Jo\", \"age\": None},{\"name\": \"Knight in armor\", \"age\": None}],\"author\": \"Unknown\",\"summary\": \"A young princess falls in love with a knight, but their love is forbidden by the king. The knight must retrieve a golden canary from the forest to prove his worth and win the princess's hand in marriage.\"}</schema>\n",
      "\n",
      "Expecting value: line 1 column 108 (char 107)\n",
      " {\"title\": \"The Life of a Vampire Werewolf pt.3\",\"genre\": \"Fantasy\",\"characters\": [{\"name\": \"Duke\", \"age\": None}],\"author\": \"Skylar997\",\"summary\": \"Trapped and hungry, Skylar997 waits for night to check if Duke, the sweet and charming wolf, has a hidden mark on his stomach. She discovers that Duke has been killed by hunters and is trapped in a wooden box. Skylar997 escapes and finds a pack of wolves who are also trapped. She discovers that Duke is an enemy of the BloodWolf pack and has already killed 15.\"}</schema>\n",
      "\n",
      "Expecting value: line 1 column 113 (char 112)\n",
      " {\"title\": \"Pete the Dog's Amazing Adventure\",\"genre\": \"Fantasy\",\"characters\": [{\"name\": \"Pete the Dog\", \"age\": None}],\"author\": \"Blake Elliott\",\"summary\": \"Pete the Dog embarks on a series of adventures in a magical city, encountering various challenges and obstacles along the way. Along the way, he meets a cast of interesting characters and discovers the true meaning of friendship and loyalty.\"}</schema>\n",
      "\n",
      "Expecting value: line 1 column 96 (char 95)\n",
      " {\"title\": \"The Only Chapter\",\"genre\": \"Fantasy\",\"characters\": [{\"name\": \"Fair prince\", \"age\": None},{\"name\": \"Fairly normal princess\", \"age\": None},{\"name\": \"Kid named Bob\", \"age\": None}],\"author\": \"James Patterson\",\"summary\": \"A magical condominium and an incredible suitcase are the only things that can save a village from a giant gorilla hungry for cheesy nachos. The villagers must figure out where to keep their food before it's too late.\"}</schema>\n",
      "\n",
      "Expecting value: line 1 column 108 (char 107)\n",
      " {\"title\": \"Seaona H The young werewolf\",\"genre\": \"Fantasy\",\"characters\": [{\"name\": \"Livana Miyra\", \"age\": None},{\"name\": \"Kitana\", \"age\": None},{\"name\": \"Athena\", \"age\": None}],\"author\": \"Shadejiggles22\",\"summary\": \"In a small village in Colorado, a young werewolf named Livana Miyra arrives and begins to turn humans into werewolves under the guidance of her mistress Kitana. However, Livana struggles with the responsibility of her actions and the consequences of her choices.\"}\n",
      "\n",
      "Expecting value: line 1 column 91 (char 90)\n",
      " {\"title\": \"Cinderella\",\"genre\": \"Fairy Tale\",\"characters\": [{\"name\": \"Cinderella\",\"age\": None},{\"name\": \"Prince\",\"age\": None},{\"name\": \"Jeff\",\"age\": None},{\"name\": \"Candy\",\"age\": None}],\"author\": \"Rachael\",\"summary\": \"Cinderella is a poor girl who lives with her stepmother and two stepsisters. She is invited to attend a ball, but is unsure if she will find a suitable match. Meanwhile, the prince is also searching for a bride. As fate would have it, they meet at the ball and hit it off. However, their happiness is short-lived as the clock strikes midnight and Cinderella must leave.\"}\n",
      "\n",
      "Expecting value: line 1 column 94 (char 93)\n",
      " {\"title\": \"Tears of Blood\",\"genre\": \"Fantasy\",\"characters\": [{\"name\": \"Sora Kichki\", \"age\": None},{\"name\": \"Suma Kichki\", \"age\": None}],\"author\": \"Kodansha\",\"summary\": \"Sora and Suma Kichki are vampire sisters who live in the night world. They became vampires after being bitten by a vampire. The story follows their journey as they navigate the night world and their relationships with other magical creatures.\"}\n",
      "\n",
      "Expecting value: line 1 column 132 (char 131)\n",
      " {\"title\": \"Winter Nyala Princess' Dream The Real Story of Rapunzel\",\"genre\": \"Fantasy\",\"characters\": [{\"name\": \"Rapunzel\", \"age\": None},{\"name\": \"Shea\", \"age\": None}],\"author\": \"Yezall and Streamingcrystal\",\"summary\": \"A story of a couple who fall in love despite the obstacles in their way. Rapunzel is a woman who was born and raised in a tower by a witch. Shea is a princess who visits the tower and eventually falls in love with Rapunzel. Together, they overcome the witch's attempts to keep them apart and find happiness in each other's arms.\"}</schema>\n",
      "\n",
      "Expecting value: line 1 column 104 (char 103)\n",
      " {\"title\": \"The Brothers Grimm Rapunzel\",\"genre\": \"Fantasy\",\"characters\": [{\"name\": \"Rapunzel\", \"age\": None}],\"author\": \"The Brothers Grimm\",\"summary\": \"Rapunzel is a beautiful child born to a couple who long for a child. They are able to steal rampion from an enchantress's garden, but the enchantress catches the husband and demands the child in return. The couple agrees and Rapunzel is taken away and raised by the enchantress. When Rapunzel is twelve, she is locked in a tower and the enchantress comes to visit her. Rapunzel lets down her hair to the enchantress, who climbs up to her. A year or two later, the king's son hears Rapunzel singing and climbs up to her. Rapunzel is frightened at first, but the king's son talks to her and they fall in love. The enchantress finds out and cuts off Rapunzel's hair. Rapunzel is cast out into the desert and the king's son wanders blindly for years. Eventually, they find each other and live happily ever after.\"}\n",
      "\n",
      "Expecting value: line 1 column 83 (char 82)\n",
      " {\"title\": \"Redemption\",\"genre\": \"Fantasy\",\"characters\": [{\"name\": \"Shur\", \"age\": None},{\"name\": \"Abigel Smalls\", \"age\": None},{\"name\": \"Daman Cure\", \"age\": None},{\"name\": \"Truth\", \"age\": None},{\"name\": \"Kemashe\", \"age\": None}],\"author\": \"Jolynna Jean-Pierre\",\"summary\": \"A young king falls in love with a foreign woman and searches for a cure to save her from a deadly illness. Along the way, he meets various characters who help him on his journey.\"}\n",
      "\n",
      "Expecting value: line 1 column 103 (char 102)\n",
      " {\"title\": \"Fergus Hume Red Money\",\"genre\": \"Fantasy\",\"characters\": [{\"name\": \"Mrs. Belgrove\", \"age\": None},{\"name\": \"Miss Greeby\", \"age\": None},{\"name\": \"Lord Garvington\", \"age\": None}],\"author\": \"Unknown\",\"summary\": \"A group of guests at a manor house discuss the possibility of having their fortunes told by gypsies. Mrs. Belgrove, the oldest person present, is the only one who does not believe in the power of fortune-telling, but she is also the only one who does not think she will die anytime soon. Miss Greeby, a vulgar and eccentric woman, tries to take control of the group and make plans for a fortune-telling expedition. Lord Garvington, the host, is initially uninterested in the idea, but later reveals that he has a personal reason for wanting to have his fortune told.\"}\n",
      "\n",
      "Expecting value: line 1 column 87 (char 86)\n",
      " {\"title\": \"Naruto Story\",\"genre\": \"Fantasy\",\"characters\": [{\"name\": \"Naruto\", \"age\": None}],\"author\": \"Masashi Kishimoto\",\"summary\": \"Naruto was born as the son of the Fourth Hokage and was taken hostage by a masked ninja who intended to use him to break the seal that kept Kurama, the tailed beast, in Kushina. After saving Kushina, Minato sacrificed his soul to seal Kurama within Naruto, but the process took both his life and Kushina's. Naruto was left to grow up orphaned and ostracized by the village, but he eventually became the student of Iruka Umino and met his classmate Sasuke Uchiha. Naruto found a surrogate family with the owner of Ramen Ichiraku and is striving to become the next Hokage.\"}\n",
      "\n",
      "Expecting value: line 1 column 99 (char 98)\n",
      " {\"title\": \"Jorinda And Jorindel\",\"genre\": \"Fairy Tale\",\"characters\": [{\"name\": \"Jorinda\", \"age\": None},{\"name\": \"Jorindel\", \"age\": None}],\"author\": \"The Brothers Grimm\",\"summary\": \"A young shepherd lad and his bride-to-be are walking in the woods when they come across the old fairy's castle. The fairy turns Jorindel into a stone and captures Jorinda, who is transformed into a nightingale. The fairy releases Jorindel and he prays for his beloved Jorinda, who is never seen again. Jorindel searches for her for many days and finally finds her in the castle. He uses a magical flower to disenchant her and they are married and live happily ever after.\"}\n",
      "\n",
      "Expecting value: line 1 column 104 (char 103)\n",
      " {\"title\": \"Sword Art Online: Dual Wielder\",\"genre\": \"Fantasy\",\"characters\": [{\"name\": \"Kirito\",\"age\": None}],\"author\": \"Reki Kiriyama\",\"summary\": \"Kirito, a beta tester, is transported to the virtual reality game Sword Art Online. He meets a fellow beta tester and learns the basics of the game. However, he soon realizes that there is no logout button and must complete the game to escape. Kirito teams up with other players to face the game's challenges and bosses, including the first boss, a switcher boss with different moves killed by a beater a cheater beta tester.\"}\n",
      "\n",
      "Expecting value: line 1 column 92 (char 91)\n",
      " {\"title\": \"Phoenix Tears\",\"genre\": \"Fantasy\",\"characters\": [{\"name\": \"Cinderella\", \"age\": None},{\"name\": \"Alexi\", \"age\": None}],\"author\": \"Unknown\",\"summary\": \"Cinderella finds herself in a loveless marriage and is visited by a mysterious stranger who brings her a message from her fairy godmother. The stranger, Alexi, tells her to follow her heart and they disappear off into the horizon.\"}\n",
      "\n",
      "Expecting value: line 1 column 101 (char 100)\n",
      " {\"title\": \"Snow White and the Seven Drafts\",\"genre\": \"Fable\",\"characters\": [{\"name\": \"Snow\",\"age\": None},{\"name\": \"Mr. White\",\"age\": None},{\"name\": \"Dasher\",\"age\": None},{\"name\": \"Dancer\",\"age\": None},{\"name\": \"Prancer\",\"age\": None},{\"name\": \"Vixen\",\"age\": None},{\"name\": \"Comet\",\"age\": None},{\"name\": \"Cupid\",\"age\": None},{\"name\": \"Donner\",\"age\": None},{\"name\": \"Blitzen\",\"age\": None},{\"name\": \"Rudolf\",\"age\": None}],\"author\": \"Dina Galli\",\"summary\": \"Snow White and the Seven Drafts is a fable about a little girl named Snow who lives with her father, Mr. White, and seven dwarfs in a castle. Snow has a happy life with her father and the dwarfs, who love her dearly. Mr. White hires the seven dwarfs to be Snow's nannies to keep her safe from criminals and bad people. As Snow grows older, she realizes that her father has been lonely for a long time and decides to help him find a new friend. Snow puts an ad on a dating website for her father and finds a woman who is kind, sweet, and loves puppies. The woman agrees to go on a date with Mr. White, and Snow is excited for their new relationship.\"}\n",
      "\n",
      "Expecting value: line 1 column 104 (char 103)\n",
      " {\"title\": \"The False Collar\",\"genre\": \"Fairy Tale\",\"characters\": [{\"name\": \"The False Collar\", \"age\": None}],\"author\": \"Hans Christian Andersen\",\"summary\": \"A fine gentleman with a boot-jack and a hair-comb boasts about his false collars. One of the collars begins to think of marriage and asks a garter about herself. The garter is too shy to answer, but the collar continues to flirt with her. The collar is then taken out of the washing-tub and starched, ironed, and cut. The collar then asks the hair-comb if she would like to be betrothed to the boot-jack. The hair-comb accepts the offer.\"}\n",
      "\n",
      "Expecting value: line 1 column 146 (char 145)\n",
      " {\"title\": \"Crystal Rivera Fire through a Maze First Unicorn with the First element\",\"genre\": \"Fantasy\",\"characters\": [{\"name\": \"Athene\", \"age\": None}],\"author\": \"None\",\"summary\": \"A new creature, a unicorn with the first element of fire, is discovered in the Magical Forest of Neverland. Athene, a princess of all magical creatures, is the first to encounter it. The creature, named Candlelight, helps Athene when she is injured and later returns to her kingdom. However, when Athene's father, Lawrence, discovers Candlelight, he wants to capture and kill it for its healing powers. Athene tries to stop him, but ultimately, Candlelight is killed. Athene is devastated and vows to bring Candlelight back to life.\"}\n",
      "\n",
      "Expecting value: line 1 column 111 (char 110)\n",
      " {\"title\": \"The Creature in The Forbidden Forest\",\"genre\": \"Fantasy\",\"characters\": [{\"name\": \"Samuel\", \"age\": None},{\"name\": \"Anna-Marie\", \"age\": None}],\"author\": \"Taylor Fletcher\",\"summary\": \"A young boy named Samuel sets out to find the monster responsible for kidnapping children from his village. He plans to fight the monster and save the children. Along the way, he faces challenges and obstacles, but ultimately succeeds in his mission.\"}\n",
      "\n",
      "Expecting value: line 1 column 79 (char 78)\n",
      " {\"title\": \"Dreams\",\"genre\": \"Fantasy\",\"characters\": [{\"name\": \"Ivys\", \"age\": None},{\"name\": \"James\", \"age\": None}],\"author\": \"Ivys P.O.V.\",\"summary\": \"Ivys dreams of finding others like her, but she knows she's the last of her species and is forced to hide her true form from others. James dreams of finding his mate, but the dream ends in a terrifying fire and a black hand trying to pull him in.\"}\n",
      "\n",
      "Expecting value: line 1 column 128 (char 127)\n",
      " {\"title\": \"Lady Pixie: A Dragon Soul Infinity - The Book One\",\"genre\": \"Fantasy\",\"characters\": [{\"name\": \"Lady Pixie\", \"age\": None},{\"name\": \"Dallas Warren\", \"age\": None},{\"name\": \"Janet Weeds\", \"age\": None},{\"name\": \"Greg Weeds\", \"age\": None},{\"name\": \"Ms. Johnson\", \"age\": None}],\"author\": \"None\",\"summary\": \"Lady Pixie is a young girl who is sent back to a center against her will by her parents. She has a huge crush on Dallas Warren at school and is heartbroken when she is sent away. As she adjusts to her new life at the center, she discovers that she has the power to control fire and accidentally burns down the garage and pool house. She shares a room with three other girls and befriends one of them, who has the same light brown eyes, heart-shaped face, and short pixie-like haircut as Lady Pixie.\"}\n",
      "\n",
      "Expecting value: line 1 column 119 (char 118)\n",
      " {\"title\": \"The Princess with the Beautiful Voice\",\"genre\": \"Romance\",\"characters\": [{\"name\": \"Prince Edward\", \"age\": None},{\"name\": \"Princess Mellisa\", \"age\": None},{\"name\": \"Margarita\", \"age\": None}],\"author\": \"Darshini Kalaichelvam\",\"summary\": \"Prince Edward hears a beautiful voice singing in the jungle and meets Princess Mellisa. They get married and have a child, but Margarita helps Princess Mellisa deliver the baby with poison, killing her. Margarita then disguises herself as an ugly woman and tells Prince Edward that she killed his wife. But Princess Mellisa's spirit appears to him and forgives him, and he marries Margarita.\"}\n",
      "\n",
      "Expecting value: line 1 column 89 (char 88)\n",
      " {\"title\": \"The Leap-Frog\",\"genre\": \"Fairy Tale\",\"characters\": [{\"name\": \"Flea\", \"age\": None},{\"name\": \"Grasshopper\", \"age\": None},{\"name\": \"Leap-frog\", \"age\": None}],\"author\": \"Hans Christian Andersen\",\"summary\": \"Three famous jumpers - a Flea, a Grasshopper, and a Leap-frog - compete to see who can jump highest. The Flea and the Grasshopper believe they are good enough to marry a Princess, while the Leap-frog remains silent. The Flea jumps so high that nobody can see where he went, the Grasshopper jumps only half as high and leaps into the King's face, and the Leap-frog stands still and makes a jump all on one side into the lap of the Princess. The King declares that the Leap-frog has won the Princess because he has understanding, bravery, and intellectual merit. The Flea and the Grasshopper are disappointed, and the Flea goes into foreign service and is killed. The Grasshopper sits without on a green bank and reflects on worldly things.\"}\n",
      "\n",
      "Expecting value: line 1 column 95 (char 94)\n",
      " {\"title\": \"Saving Shiloh\",\"genre\": \"Fantasy\",\"characters\": [{\"name\": \"Kellie Alcala\", \"age\": None}],\"author\": \"Kellie Alcala\",\"summary\": \"Kellie Alcala is a super-human Cryt who is on a mission to save her friend Shiloh from a trap. She uses her cat-like senses and her weapons to navigate the forest and evade her pursuers.\"}\n",
      "\n",
      "Expecting value: line 1 column 106 (char 105)\n",
      " {\"title\": \"Angel Big Bad Wolf Isn't Real\",\"genre\": \"Fairy Tale\",\"characters\": [{\"name\": \"Mommy\", \"age\": None},{\"name\": \"Little Girl\", \"age\": None},{\"name\": \"James\", \"age\": None},{\"name\": \"Angel Big Bad Wolf\", \"age\": None}],\"author\": \"Unknown\",\"summary\": \"A woman who is infertile adopts twins and is later called upon by the FBI to investigate a crime involving a little girl and her mother. The investigation leads her to suspect the involvement of the Angel Big Bad Wolf.\"}\n",
      "\n",
      "Expecting value: line 1 column 109 (char 108)\n",
      " {\"title\": \"The Patchwork Princess\",\"genre\": \"Children's Fairytale\",\"characters\": [{\"name\": \"Ra-Me\", \"age\": None},{\"name\": \"Princess Ina\", \"age\": None},{\"name\": \"King Lister\", \"age\": None},{\"name\": \"Terrance The Terrible\", \"age\": None}],\"author\": \"Connie S. Arnold\",\"summary\": \"Ra-Me, a freelance minstrel and traveling troubadour, embarks on a quest to rescue Princess Ina from Terrance The Terrible's ten-story tower. The person brave enough to set out for this mission will be rewarded greatly by the king. The brave knight will be given Princess Ina's hand in marriage, one-third of the Parkingham kingdom, three bags of gold, three new suits of armor, three white steeds, and a sword with a ruby-studded hilt.\"}\n",
      "\n",
      "Expecting value: line 1 column 108 (char 107)\n",
      " {\"title\": \"The Tale of the Forest Princess\",\"genre\": \"Fantasy\",\"characters\": [{\"name\": \"Princess\", \"age\": None}],\"author\": \"Paige Carnahan\",\"summary\": \"A young princess is kidnapped by a wicked witch and must use her wits to escape and save her kingdom.\"}\n",
      "\n",
      "Expecting value: line 1 column 120 (char 119)\n",
      " {\"title\": \"Jade Crossroads Beauty's True Definition\",\"genre\": \"Fantasy\",\"characters\": [{\"name\": \"Protagonist\", \"age\": None}],\"author\": \"Unknown\",\"summary\": \"The protagonist is alone in the darkness and finds themselves in a long corridor. They know what lies ahead and always leave something of themselves behind when they have these dreams. The dream ends with a grand arch and great fortress doors, and the protagonist is drawn forward despite their fear.\"}\n",
      "\n",
      "Expecting value: line 1 column 124 (char 123)\n",
      " {\"title\": \"Jelly Belly Princess of Flowerville\",\"genre\": \"Fantasy\",\"characters\": [{\"name\": \"Jelly Belly Princess\", \"age\": None},{\"name\": \"Flowerville\", \"age\": None},{\"name\": \"Jelly Belly\", \"age\": None}],\"author\": \"Unknown\",\"summary\": \"Jelly Belly Princess of Flowerville is a fairy tale about a princess who goes on a journey to find her missing father and restore peace to her kingdom.\"}\n",
      "\n",
      "Expecting value: line 1 column 84 (char 83)\n",
      " {\"title\": \"No One Else\",\"genre\": \"Fantasy\",\"characters\": [{\"name\": \"Sara\", \"age\": None},{\"name\": \"Ross\", \"age\": None}],\"author\": \"Melody Stegehuis\",\"summary\": \"A story about a baby girl named Kaylee Rose who grows up with her parents, but no one else can see or hear her as she interacts with the world around her.\"}</schema>\n",
      "\n",
      "Expecting value: line 1 column 115 (char 114)\n",
      " {\"title\": \"Courtney Smith the Lucky Prince\",\"genre\": \"Romance\",\"characters\": [{\"name\": \"Prince Harrison\", \"age\": None},{\"name\": \"Queen\", \"age\": None},{\"name\": \"Luciana\", \"age\": None}],\"author\": \"Courtney Smith\",\"summary\": \"Prince Harrison refuses to marry a woman from his country, but when his mother is dying and he is to become king, he meets Luciana and marries her.\"}</schema>\n",
      "\n",
      "Extra data: line 1 column 238 (char 237)\n",
      " {\"title\": \"Memories, By Me\",\"genre\": \"Romance\",\"characters\": [{\"name\": \"Maddison Blake\", \"age\": 21}],\"author\": \"shexyauthors\",\"summary\": \"A story of a woman who is beaten and abused by her boyfriend, and the aftermath of the incident.\"}</schema>\n",
      "\n",
      "Expecting value: line 1 column 95 (char 94)\n",
      " {\"title\": \"The Real Princess\",\"genre\": \"Fairy Tale\",\"characters\": [{\"name\": \"Prince\", \"age\": None},{\"name\": \"Princess\", \"age\": None}],\"author\": \"Hans Christian Andersen\",\"summary\": \"A prince travels the world in search of a real princess to marry. He finds a princess who claims to be real, and the queen-mother tests her by placing three peas under twenty mattresses and twenty feather beds. The princess feels the peas and is proven to be real, and the prince marries her.\"}\n",
      "\n",
      "Expecting value: line 1 column 115 (char 114)\n",
      " {\"title\": \"L.Vampire My Princess Life\",\"genre\": \"Fantasy\",\"characters\": [{\"name\": \"Princess Juli Rosado\", \"age\": None},{\"name\": \"Queen Demi Rosado\", \"age\": None},{\"name\": \"King Felix Rosado\", \"age\": None},{\"name\": \"Aunt Jennifer Valentin\", \"age\": None},{\"name\": \"King Saul Rodriguez\", \"age\": None}],\"author\": \"Unknown\",\"summary\": \"Princess Juli is next in line to ruling Puerto Rico after her mother, Queen Demi. Life as a princess is not what she dreams of, and she is constantly being forced to make perfect speeches and talk perfectly to the people of Puerto Rico. She is also scared of her Aunt Jennifer, who killed her grandfather and made her swear to never tell the truth about it.\"}\n"
     ]
    }
   ],
   "source": [
    "generated_text_df['json'] = generated_text_df['generated_text']\\\n",
    "    .apply(get_json)"
   ]
  },
  {
   "cell_type": "code",
   "execution_count": 39,
   "metadata": {},
   "outputs": [],
   "source": [
    "generated_text_df['score'] = 1- generated_text_df['json'].isna()"
   ]
  },
  {
   "cell_type": "code",
   "execution_count": 42,
   "metadata": {},
   "outputs": [],
   "source": [
    "generated_text_df['context_length_bins'] = pd.cut(\n",
    "    generated_text_df['context_length'],\n",
    "    range(0, 5_000, 500)\n",
    ")"
   ]
  },
  {
   "cell_type": "code",
   "execution_count": 47,
   "metadata": {},
   "outputs": [
    {
     "name": "stderr",
     "output_type": "stream",
     "text": [
      "/tmp/ipykernel_953839/441805470.py:1: FutureWarning: The default of observed=False is deprecated and will be changed to True in a future version of pandas. Pass observed=False to retain current behavior or observed=True to adopt the future default and silence this warning.\n",
      "  generated_text_df.groupby('context_length_bins')\\\n"
     ]
    },
    {
     "data": {
      "text/plain": [
       "<Axes: xlabel='context_length_bins'>"
      ]
     },
     "execution_count": 47,
     "metadata": {},
     "output_type": "execute_result"
    },
    {
     "data": {
      "image/png": "[encoded data removed]",
      "text/plain": [
       "<Figure size 640x480 with 1 Axes>"
      ]
     },
     "metadata": {},
     "output_type": "display_data"
    }
   ],
   "source": [
    "generated_text_df.groupby('context_length_bins')\\\n",
    "    .score\\\n",
    "    .mean()\\\n",
    "    .plot\\\n",
    "    .bar()"
   ]
  },
  {
   "cell_type": "code",
   "execution_count": 37,
   "metadata": {},
   "outputs": [
    {
     "name": "stdout",
     "output_type": "stream",
     "text": [
      " <schema>\n",
      "{\n",
      "\"title\": \"The Haunted House\",\n",
      "\"genre\": \"Horror\",\n",
      "\"characters\": [\n",
      "{\"name\": \"Billy\", \"age\": 10},\n",
      "{\"name\": \"Sam\", \"age\": 9},\n",
      "{\"name\": \"Jessica\", \"age\": 15},\n",
      "{\"name\": \"Jasmine\", \"age\": 15},\n",
      "{\"name\": \"Olu\", \"age\": 17},\n",
      "{\"name\": \"Joshua\", \"age\": 13},\n",
      "{\"name\": \"Sadina\", \"age\": 14},\n",
      "{\"name\": \"Joseph\", \"age\": 6},\n",
      "{\"name\": \"Dream keepers (Bad ones)\", \"age\": None},\n",
      "{\"name\": \"Dream keepers (Good ones)\", \"age\": None},\n",
      "{\"name\": \"Narrator\", \"age\": 13}\n",
      "],\n",
      "\"prologue\": \"Hello and welcome to the house of doom. Where all your parents are hung and dead. Where dreams are haunted. Where lives are to be sacrificed to live. Children out of all things must participate or shall see their parent's die by the hands of us dream keepers. We dream keepers are not the nice ones. We haunt people in their dream and leave them crying to sleep. We may act nice but listen to me, Don't trust us .\",\n",
      "\"chapter1\": \"When I was younger I made a promise to a devil. A devil of some sort with devils on his head and had a tail with a pointy end. I didn't know any better I mean i was a child right? My name is Joseph. Im the youngest one in my family. Were the only two kids in the house. No one knows that I am the one that made the promise. I couldn't bring it up. I knew if I said anything they'll definitely be mad at me. My brother Joshua is the oldest one. Were the only two kids in the house. No one knows that I am the one that made the promise. I couldn't bring it up. I knew if I said anything they'll definitely be mad at me. My brother would start hating me. The devils will take away my parents and my family and I would of been alone by myself. *Creak Creak* went the old tile floors of the house. Someone was coming. I quickly ran into bed and buried myslef in there pretending to sleep. A voice whispered \\\"Listen to me child, I am the Dream keeper and if you disobey me, your going to regret even talking to me\\\" I tried closing my ears but the voice got closer and closer. Each time it got louder. Soon after it said \\\"I WILL WATCH OVER YOU. DO SOMETHING WRONG AND YOUR DREAMS SHALL HAUNT YOU. For now good bye child.\\\"\"},\n",
      "\"chapter2\": \"After awhile i fell asleep. I was dreaming about how making a promise with the demon was a bad idea. I didn't think that I would get haunted by one. That demon told me that it'll bring me happiness. It really bought me nothing but trouble. In my dream I was running away from the dream keepers. Despite how it looks, it was horrific. They had no eyes, there was blood running down their faces, there arms were teared off. There faces were so scary no one approached them. They were chasing me like I was their prey. I was scared I didn't know what to do. If I screamed for help no one would come I mean look at them. They came closer and whispered \\\"Come to me child, Come. If you don't you know what will happen won't u?\\\" I didn't stop I kept running. Soon after I saw myself in the house but I didn't know if it was a dream or reality. My parents stood infront of me telling me to run away. I tried running but it didn't work. It was useless, they trapped me there. I watched as my parents were slaughtered. *Splish Sploosh* Went the guts and blood as they stepped on it. \",\n",
      "\"chapter3\": \"I woke up from that terrible dream, but that were no dream. It was real, my parents heads they were hanging off the walls of a house. A house that I can't remember. I look around there was only kids around here. The dream keepers stand around hanging bodies. I can't find Jospeh anywhere so I started to shout his name\n"
     ]
    }
   ],
   "source": [
    "print(generated_text_df[generated_text_df['json'].isna()]['generated_text'].iloc[3])"
   ]
  }
 ],
 "metadata": {
  "kernelspec": {
   "display_name": "Python 3",
   "language": "python",
   "name": "python3"
  },
  "language_info": {
   "codemirror_mode": {
    "name": "ipython",
    "version": 3
   },
   "file_extension": ".py",
   "mimetype": "text/x-python",
   "name": "python",
   "nbconvert_exporter": "python",
   "pygments_lexer": "ipython3",
   "version": "3.11.9"
  }
 },
 "nbformat": 4,
 "nbformat_minor": 2
}
