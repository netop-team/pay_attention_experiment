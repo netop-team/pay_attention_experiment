{
 "cells": [
  {
   "cell_type": "code",
   "execution_count": 1,
   "metadata": {},
   "outputs": [],
   "source": [
    "%load_ext autoreload\n",
    "%autoreload 2"
   ]
  },
  {
   "cell_type": "code",
   "execution_count": 7,
   "metadata": {},
   "outputs": [],
   "source": [
    "from transformers import AutoModelForCausalLM, AutoTokenizer, AutoModel, \\\n",
    "  BitsAndBytesConfig, GPTQConfig\n",
    "import os\n",
    "\n",
    "while \"notebooks\" in os.getcwd():\n",
    "    os.chdir(\"..\")\n",
    "\n",
    "from time import time\n",
    "from pathlib import Path\n",
    "from tqdm import tqdm\n",
    "import torch\n",
    "from langdetect import detect\n",
    "import numpy as np\n",
    "import pandas as pd\n",
    "import seaborn as sns\n",
    "import matplotlib.pyplot as plt\n",
    "from huggingface_hub import notebook_login\n",
    "from datasets import load_dataset\n",
    "import math\n",
    "from typing import List, Optional, Tuple, Union, Dict\n",
    "from torch import nn\n",
    "from tqdm import tqdm\n",
    "from IPython.display import clear_output\n",
    "import warnings\n",
    "from bert_score import BERTScorer\n",
    "warnings.filterwarnings(\"ignore\")\n",
    "from copy import deepcopy\n",
    "from openai import OpenAI\n",
    "from babilong.babilong.prompts import DEFAULT_PROMPTS, DEFAULT_TEMPLATE, get_formatted_input\n",
    "from babilong.babilong.babilong_utils import compare_answers\n",
    "\n",
    "from src.utils import rotate_half, apply_rotary_pos_emb, repeat_kv, \\\n",
    "    get_context_length, insert_needle, get_start_of_generation_token\n",
    "\n",
    "from src.attention_saver import GUIDEModel\n",
    "# from src.influence import Influence\n",
    "import json\n",
    "import regex as re\n",
    "\n",
    "tqdm.pandas()\n",
    "import scienceplots\n",
    "plt.style.use(['science','no-latex', 'grid'])"
   ]
  },
  {
   "cell_type": "code",
   "execution_count": 3,
   "metadata": {},
   "outputs": [],
   "source": [
    "tokenizer = AutoTokenizer.from_pretrained(\n",
    "    \"mistralai/Mistral-7B-Instruct-v0.1\",\n",
    "    cache_dir = \"/Data\"    \n",
    ")\n",
    "\n",
    "# TEMPLATE = \"You are a helpful assistant that answers in JSON. Here's the json schema you must adhere to:\\n\\n<schema>\\n{schema}\\n</schema>\\n\\n{noise}\\n\\n{content}\\n\\nDo not output anything else than the JSON.\""
   ]
  },
  {
   "cell_type": "code",
   "execution_count": 4,
   "metadata": {},
   "outputs": [],
   "source": [
    "base_path = \"data/study-04-json/google/gemma-2-2b-it/05/checkpoints/delta={delta}_large_upper.parquet\"\n",
    "checkpoints_path = \"data/study-04-json/google/gemma-2-2b-it/05/checkpoints/delta={delta}_large_upper.parquet\"\n"
   ]
  },
  {
   "cell_type": "code",
   "execution_count": null,
   "metadata": {},
   "outputs": [],
   "source": [
    "start+of_generation_tag = get_start_of_generation_token('gemma')"
   ]
  },
  {
   "cell_type": "code",
   "execution_count": 5,
   "metadata": {},
   "outputs": [
    {
     "ename": "IndexError",
     "evalue": "list index out of range",
     "output_type": "error",
     "traceback": [
      "\u001b[0;31m---------------------------------------------------------------------------\u001b[0m",
      "\u001b[0;31mIndexError\u001b[0m                                Traceback (most recent call last)",
      "Cell \u001b[0;32mIn[5], line 38\u001b[0m\n\u001b[1;32m     32\u001b[0m \u001b[38;5;28;01mexcept\u001b[39;00m:\n\u001b[1;32m     33\u001b[0m     df \u001b[38;5;241m=\u001b[39m pd\u001b[38;5;241m.\u001b[39mread_parquet(checkpoints_path\u001b[38;5;241m.\u001b[39mformat(delta \u001b[38;5;241m=\u001b[39m delta))\n\u001b[1;32m     37\u001b[0m df[\u001b[38;5;124m'\u001b[39m\u001b[38;5;124mgenerated_text\u001b[39m\u001b[38;5;124m'\u001b[39m] \u001b[38;5;241m=\u001b[39m \u001b[43mdf\u001b[49m\u001b[43m[\u001b[49m\u001b[38;5;124;43m'\u001b[39;49m\u001b[38;5;124;43mgenerated_text\u001b[39;49m\u001b[38;5;124;43m'\u001b[39;49m\u001b[43m]\u001b[49m\u001b[43m\\\u001b[49m\n\u001b[0;32m---> 38\u001b[0m \u001b[43m    \u001b[49m\u001b[38;5;241;43m.\u001b[39;49m\u001b[43mapply\u001b[49m\u001b[43m(\u001b[49m\u001b[38;5;28;43;01mlambda\u001b[39;49;00m\u001b[43m \u001b[49m\u001b[43mx\u001b[49m\u001b[43m:\u001b[49m\u001b[43m \u001b[49m\u001b[43mx\u001b[49m\u001b[38;5;241;43m.\u001b[39;49m\u001b[43msplit\u001b[49m\u001b[43m(\u001b[49m\u001b[38;5;124;43m'\u001b[39;49m\u001b[38;5;124;43m[/INST]\u001b[39;49m\u001b[38;5;124;43m'\u001b[39;49m\u001b[43m)\u001b[49m\u001b[43m[\u001b[49m\u001b[38;5;241;43m1\u001b[39;49m\u001b[43m]\u001b[49m\u001b[43m)\u001b[49m\n\u001b[1;32m     40\u001b[0m df[\u001b[38;5;124m'\u001b[39m\u001b[38;5;124mgenerated_braces\u001b[39m\u001b[38;5;124m'\u001b[39m] \u001b[38;5;241m=\u001b[39m df[\u001b[38;5;124m'\u001b[39m\u001b[38;5;124mgenerated_text\u001b[39m\u001b[38;5;124m'\u001b[39m]\\\n\u001b[1;32m     41\u001b[0m     \u001b[38;5;241m.\u001b[39mapply(get_text_whithin_braces)\n\u001b[1;32m     43\u001b[0m df[\u001b[38;5;124m'\u001b[39m\u001b[38;5;124mgenerated_json\u001b[39m\u001b[38;5;124m'\u001b[39m] \u001b[38;5;241m=\u001b[39m df[\u001b[38;5;124m'\u001b[39m\u001b[38;5;124mgenerated_braces\u001b[39m\u001b[38;5;124m'\u001b[39m]\u001b[38;5;241m.\u001b[39mapply(convert_to_json)\n",
      "File \u001b[0;32m~/Desktop/pay_attention_to_what_matters/.conda/lib/python3.11/site-packages/pandas/core/series.py:4924\u001b[0m, in \u001b[0;36mSeries.apply\u001b[0;34m(self, func, convert_dtype, args, by_row, **kwargs)\u001b[0m\n\u001b[1;32m   4789\u001b[0m \u001b[38;5;28;01mdef\u001b[39;00m \u001b[38;5;21mapply\u001b[39m(\n\u001b[1;32m   4790\u001b[0m     \u001b[38;5;28mself\u001b[39m,\n\u001b[1;32m   4791\u001b[0m     func: AggFuncType,\n\u001b[0;32m   (...)\u001b[0m\n\u001b[1;32m   4796\u001b[0m     \u001b[38;5;241m*\u001b[39m\u001b[38;5;241m*\u001b[39mkwargs,\n\u001b[1;32m   4797\u001b[0m ) \u001b[38;5;241m-\u001b[39m\u001b[38;5;241m>\u001b[39m DataFrame \u001b[38;5;241m|\u001b[39m Series:\n\u001b[1;32m   4798\u001b[0m \u001b[38;5;250m    \u001b[39m\u001b[38;5;124;03m\"\"\"\u001b[39;00m\n\u001b[1;32m   4799\u001b[0m \u001b[38;5;124;03m    Invoke function on values of Series.\u001b[39;00m\n\u001b[1;32m   4800\u001b[0m \n\u001b[0;32m   (...)\u001b[0m\n\u001b[1;32m   4915\u001b[0m \u001b[38;5;124;03m    dtype: float64\u001b[39;00m\n\u001b[1;32m   4916\u001b[0m \u001b[38;5;124;03m    \"\"\"\u001b[39;00m\n\u001b[1;32m   4917\u001b[0m     \u001b[38;5;28;01mreturn\u001b[39;00m \u001b[43mSeriesApply\u001b[49m\u001b[43m(\u001b[49m\n\u001b[1;32m   4918\u001b[0m \u001b[43m        \u001b[49m\u001b[38;5;28;43mself\u001b[39;49m\u001b[43m,\u001b[49m\n\u001b[1;32m   4919\u001b[0m \u001b[43m        \u001b[49m\u001b[43mfunc\u001b[49m\u001b[43m,\u001b[49m\n\u001b[1;32m   4920\u001b[0m \u001b[43m        \u001b[49m\u001b[43mconvert_dtype\u001b[49m\u001b[38;5;241;43m=\u001b[39;49m\u001b[43mconvert_dtype\u001b[49m\u001b[43m,\u001b[49m\n\u001b[1;32m   4921\u001b[0m \u001b[43m        \u001b[49m\u001b[43mby_row\u001b[49m\u001b[38;5;241;43m=\u001b[39;49m\u001b[43mby_row\u001b[49m\u001b[43m,\u001b[49m\n\u001b[1;32m   4922\u001b[0m \u001b[43m        \u001b[49m\u001b[43margs\u001b[49m\u001b[38;5;241;43m=\u001b[39;49m\u001b[43margs\u001b[49m\u001b[43m,\u001b[49m\n\u001b[1;32m   4923\u001b[0m \u001b[43m        \u001b[49m\u001b[43mkwargs\u001b[49m\u001b[38;5;241;43m=\u001b[39;49m\u001b[43mkwargs\u001b[49m\u001b[43m,\u001b[49m\n\u001b[0;32m-> 4924\u001b[0m \u001b[43m    \u001b[49m\u001b[43m)\u001b[49m\u001b[38;5;241;43m.\u001b[39;49m\u001b[43mapply\u001b[49m\u001b[43m(\u001b[49m\u001b[43m)\u001b[49m\n",
      "File \u001b[0;32m~/Desktop/pay_attention_to_what_matters/.conda/lib/python3.11/site-packages/pandas/core/apply.py:1427\u001b[0m, in \u001b[0;36mSeriesApply.apply\u001b[0;34m(self)\u001b[0m\n\u001b[1;32m   1424\u001b[0m     \u001b[38;5;28;01mreturn\u001b[39;00m \u001b[38;5;28mself\u001b[39m\u001b[38;5;241m.\u001b[39mapply_compat()\n\u001b[1;32m   1426\u001b[0m \u001b[38;5;66;03m# self.func is Callable\u001b[39;00m\n\u001b[0;32m-> 1427\u001b[0m \u001b[38;5;28;01mreturn\u001b[39;00m \u001b[38;5;28;43mself\u001b[39;49m\u001b[38;5;241;43m.\u001b[39;49m\u001b[43mapply_standard\u001b[49m\u001b[43m(\u001b[49m\u001b[43m)\u001b[49m\n",
      "File \u001b[0;32m~/Desktop/pay_attention_to_what_matters/.conda/lib/python3.11/site-packages/pandas/core/apply.py:1507\u001b[0m, in \u001b[0;36mSeriesApply.apply_standard\u001b[0;34m(self)\u001b[0m\n\u001b[1;32m   1501\u001b[0m \u001b[38;5;66;03m# row-wise access\u001b[39;00m\n\u001b[1;32m   1502\u001b[0m \u001b[38;5;66;03m# apply doesn't have a `na_action` keyword and for backward compat reasons\u001b[39;00m\n\u001b[1;32m   1503\u001b[0m \u001b[38;5;66;03m# we need to give `na_action=\"ignore\"` for categorical data.\u001b[39;00m\n\u001b[1;32m   1504\u001b[0m \u001b[38;5;66;03m# TODO: remove the `na_action=\"ignore\"` when that default has been changed in\u001b[39;00m\n\u001b[1;32m   1505\u001b[0m \u001b[38;5;66;03m#  Categorical (GH51645).\u001b[39;00m\n\u001b[1;32m   1506\u001b[0m action \u001b[38;5;241m=\u001b[39m \u001b[38;5;124m\"\u001b[39m\u001b[38;5;124mignore\u001b[39m\u001b[38;5;124m\"\u001b[39m \u001b[38;5;28;01mif\u001b[39;00m \u001b[38;5;28misinstance\u001b[39m(obj\u001b[38;5;241m.\u001b[39mdtype, CategoricalDtype) \u001b[38;5;28;01melse\u001b[39;00m \u001b[38;5;28;01mNone\u001b[39;00m\n\u001b[0;32m-> 1507\u001b[0m mapped \u001b[38;5;241m=\u001b[39m \u001b[43mobj\u001b[49m\u001b[38;5;241;43m.\u001b[39;49m\u001b[43m_map_values\u001b[49m\u001b[43m(\u001b[49m\n\u001b[1;32m   1508\u001b[0m \u001b[43m    \u001b[49m\u001b[43mmapper\u001b[49m\u001b[38;5;241;43m=\u001b[39;49m\u001b[43mcurried\u001b[49m\u001b[43m,\u001b[49m\u001b[43m \u001b[49m\u001b[43mna_action\u001b[49m\u001b[38;5;241;43m=\u001b[39;49m\u001b[43maction\u001b[49m\u001b[43m,\u001b[49m\u001b[43m \u001b[49m\u001b[43mconvert\u001b[49m\u001b[38;5;241;43m=\u001b[39;49m\u001b[38;5;28;43mself\u001b[39;49m\u001b[38;5;241;43m.\u001b[39;49m\u001b[43mconvert_dtype\u001b[49m\n\u001b[1;32m   1509\u001b[0m \u001b[43m\u001b[49m\u001b[43m)\u001b[49m\n\u001b[1;32m   1511\u001b[0m \u001b[38;5;28;01mif\u001b[39;00m \u001b[38;5;28mlen\u001b[39m(mapped) \u001b[38;5;129;01mand\u001b[39;00m \u001b[38;5;28misinstance\u001b[39m(mapped[\u001b[38;5;241m0\u001b[39m], ABCSeries):\n\u001b[1;32m   1512\u001b[0m     \u001b[38;5;66;03m# GH#43986 Need to do list(mapped) in order to get treated as nested\u001b[39;00m\n\u001b[1;32m   1513\u001b[0m     \u001b[38;5;66;03m#  See also GH#25959 regarding EA support\u001b[39;00m\n\u001b[1;32m   1514\u001b[0m     \u001b[38;5;28;01mreturn\u001b[39;00m obj\u001b[38;5;241m.\u001b[39m_constructor_expanddim(\u001b[38;5;28mlist\u001b[39m(mapped), index\u001b[38;5;241m=\u001b[39mobj\u001b[38;5;241m.\u001b[39mindex)\n",
      "File \u001b[0;32m~/Desktop/pay_attention_to_what_matters/.conda/lib/python3.11/site-packages/pandas/core/base.py:921\u001b[0m, in \u001b[0;36mIndexOpsMixin._map_values\u001b[0;34m(self, mapper, na_action, convert)\u001b[0m\n\u001b[1;32m    918\u001b[0m \u001b[38;5;28;01mif\u001b[39;00m \u001b[38;5;28misinstance\u001b[39m(arr, ExtensionArray):\n\u001b[1;32m    919\u001b[0m     \u001b[38;5;28;01mreturn\u001b[39;00m arr\u001b[38;5;241m.\u001b[39mmap(mapper, na_action\u001b[38;5;241m=\u001b[39mna_action)\n\u001b[0;32m--> 921\u001b[0m \u001b[38;5;28;01mreturn\u001b[39;00m \u001b[43malgorithms\u001b[49m\u001b[38;5;241;43m.\u001b[39;49m\u001b[43mmap_array\u001b[49m\u001b[43m(\u001b[49m\u001b[43marr\u001b[49m\u001b[43m,\u001b[49m\u001b[43m \u001b[49m\u001b[43mmapper\u001b[49m\u001b[43m,\u001b[49m\u001b[43m \u001b[49m\u001b[43mna_action\u001b[49m\u001b[38;5;241;43m=\u001b[39;49m\u001b[43mna_action\u001b[49m\u001b[43m,\u001b[49m\u001b[43m \u001b[49m\u001b[43mconvert\u001b[49m\u001b[38;5;241;43m=\u001b[39;49m\u001b[43mconvert\u001b[49m\u001b[43m)\u001b[49m\n",
      "File \u001b[0;32m~/Desktop/pay_attention_to_what_matters/.conda/lib/python3.11/site-packages/pandas/core/algorithms.py:1743\u001b[0m, in \u001b[0;36mmap_array\u001b[0;34m(arr, mapper, na_action, convert)\u001b[0m\n\u001b[1;32m   1741\u001b[0m values \u001b[38;5;241m=\u001b[39m arr\u001b[38;5;241m.\u001b[39mastype(\u001b[38;5;28mobject\u001b[39m, copy\u001b[38;5;241m=\u001b[39m\u001b[38;5;28;01mFalse\u001b[39;00m)\n\u001b[1;32m   1742\u001b[0m \u001b[38;5;28;01mif\u001b[39;00m na_action \u001b[38;5;129;01mis\u001b[39;00m \u001b[38;5;28;01mNone\u001b[39;00m:\n\u001b[0;32m-> 1743\u001b[0m     \u001b[38;5;28;01mreturn\u001b[39;00m \u001b[43mlib\u001b[49m\u001b[38;5;241;43m.\u001b[39;49m\u001b[43mmap_infer\u001b[49m\u001b[43m(\u001b[49m\u001b[43mvalues\u001b[49m\u001b[43m,\u001b[49m\u001b[43m \u001b[49m\u001b[43mmapper\u001b[49m\u001b[43m,\u001b[49m\u001b[43m \u001b[49m\u001b[43mconvert\u001b[49m\u001b[38;5;241;43m=\u001b[39;49m\u001b[43mconvert\u001b[49m\u001b[43m)\u001b[49m\n\u001b[1;32m   1744\u001b[0m \u001b[38;5;28;01melse\u001b[39;00m:\n\u001b[1;32m   1745\u001b[0m     \u001b[38;5;28;01mreturn\u001b[39;00m lib\u001b[38;5;241m.\u001b[39mmap_infer_mask(\n\u001b[1;32m   1746\u001b[0m         values, mapper, mask\u001b[38;5;241m=\u001b[39misna(values)\u001b[38;5;241m.\u001b[39mview(np\u001b[38;5;241m.\u001b[39muint8), convert\u001b[38;5;241m=\u001b[39mconvert\n\u001b[1;32m   1747\u001b[0m     )\n",
      "File \u001b[0;32mlib.pyx:2972\u001b[0m, in \u001b[0;36mpandas._libs.lib.map_infer\u001b[0;34m()\u001b[0m\n",
      "Cell \u001b[0;32mIn[5], line 38\u001b[0m, in \u001b[0;36m<lambda>\u001b[0;34m(x)\u001b[0m\n\u001b[1;32m     32\u001b[0m \u001b[38;5;28;01mexcept\u001b[39;00m:\n\u001b[1;32m     33\u001b[0m     df \u001b[38;5;241m=\u001b[39m pd\u001b[38;5;241m.\u001b[39mread_parquet(checkpoints_path\u001b[38;5;241m.\u001b[39mformat(delta \u001b[38;5;241m=\u001b[39m delta))\n\u001b[1;32m     37\u001b[0m df[\u001b[38;5;124m'\u001b[39m\u001b[38;5;124mgenerated_text\u001b[39m\u001b[38;5;124m'\u001b[39m] \u001b[38;5;241m=\u001b[39m df[\u001b[38;5;124m'\u001b[39m\u001b[38;5;124mgenerated_text\u001b[39m\u001b[38;5;124m'\u001b[39m]\\\n\u001b[0;32m---> 38\u001b[0m     \u001b[38;5;241m.\u001b[39mapply(\u001b[38;5;28;01mlambda\u001b[39;00m x: \u001b[43mx\u001b[49m\u001b[38;5;241;43m.\u001b[39;49m\u001b[43msplit\u001b[49m\u001b[43m(\u001b[49m\u001b[38;5;124;43m'\u001b[39;49m\u001b[38;5;124;43m[/INST]\u001b[39;49m\u001b[38;5;124;43m'\u001b[39;49m\u001b[43m)\u001b[49m\u001b[43m[\u001b[49m\u001b[38;5;241;43m1\u001b[39;49m\u001b[43m]\u001b[49m)\n\u001b[1;32m     40\u001b[0m df[\u001b[38;5;124m'\u001b[39m\u001b[38;5;124mgenerated_braces\u001b[39m\u001b[38;5;124m'\u001b[39m] \u001b[38;5;241m=\u001b[39m df[\u001b[38;5;124m'\u001b[39m\u001b[38;5;124mgenerated_text\u001b[39m\u001b[38;5;124m'\u001b[39m]\\\n\u001b[1;32m     41\u001b[0m     \u001b[38;5;241m.\u001b[39mapply(get_text_whithin_braces)\n\u001b[1;32m     43\u001b[0m df[\u001b[38;5;124m'\u001b[39m\u001b[38;5;124mgenerated_json\u001b[39m\u001b[38;5;124m'\u001b[39m] \u001b[38;5;241m=\u001b[39m df[\u001b[38;5;124m'\u001b[39m\u001b[38;5;124mgenerated_braces\u001b[39m\u001b[38;5;124m'\u001b[39m]\u001b[38;5;241m.\u001b[39mapply(convert_to_json)\n",
      "\u001b[0;31mIndexError\u001b[0m: list index out of range"
     ]
    }
   ],
   "source": [
    "all_df = []\n",
    "import re\n",
    "\n",
    "# pattern = r'\\{(?:[^{}]+|(?R))+\\}'\n",
    "pattern = r\"\\{(.*)\\}\"\n",
    "\n",
    "def get_text_whithin_braces(x):\n",
    "    match = re.search(pattern, x, re.DOTALL)\n",
    "    if match:\n",
    "        return match.group(0)\n",
    "\n",
    "    return None\n",
    "\n",
    "def convert_to_json(x):\n",
    "        if x is None:\n",
    "            return None\n",
    "        try:\n",
    "            return json.loads(x)\n",
    "\n",
    "        except:\n",
    "            return None\n",
    "    \n",
    "\n",
    "\n",
    "# Find all matches\n",
    "\n",
    "\n",
    "for delta in [0., 1., 2., 3.]:\n",
    "\n",
    "    try:\n",
    "        df = pd.read_parquet(base_path.format(delta= delta))\n",
    "    except:\n",
    "        df = pd.read_parquet(checkpoints_path.format(delta = delta))\n",
    "\n",
    "    \n",
    "\n",
    "    df['generated_text'] = df['generated_text']\\\n",
    "        .apply(lambda x: x.split('[/INST]')[1])\n",
    "        \n",
    "    df['generated_braces'] = df['generated_text']\\\n",
    "        .apply(get_text_whithin_braces)\n",
    "    \n",
    "    df['generated_json'] = df['generated_braces'].apply(convert_to_json)\n",
    "            # lambda x:   x.replace(\"\\n\", '')\\\n",
    "            #             .replace('</s>', '')\\\n",
    "            #             .replace('\\r', '')\\\n",
    "            #             .replace('          ', '')\\\n",
    "            #             .replace(\"<schema>\", \"\")\\\n",
    "            #             .replace(\"</schema>\", \"\")\n",
    "\n",
    "    df['delta'] = fr'$\\Delta$ = {delta}'\n",
    "    if delta == 0:\n",
    "        df['delta'] = \"Raw prompt\"\n",
    "    all_df.append(df)\n",
    "\n",
    "uppercase_df = pd.read_parquet(\"data/study-04-json/05/delta=0.0_uppercase.parquet\")\n",
    "uppercase_df['generated_text'] = uppercase_df['generated_text']\\\n",
    "    .apply(lambda x: x.split('[/INST]')[1])\n",
    "    \n",
    "uppercase_df['generated_braces'] = uppercase_df['generated_text']\\\n",
    "    .apply(get_text_whithin_braces)\n",
    "\n",
    "uppercase_df['generated_json'] = uppercase_df['generated_braces'].apply(convert_to_json)\n",
    "uppercase_df['delta'] = 'Uppercase'\n",
    "\n",
    "all_df.append(uppercase_df)"
   ]
  },
  {
   "cell_type": "code",
   "execution_count": 6,
   "metadata": {},
   "outputs": [
    {
     "data": {
      "text/html": [
       "<div>\n",
       "<style scoped>\n",
       "    .dataframe tbody tr th:only-of-type {\n",
       "        vertical-align: middle;\n",
       "    }\n",
       "\n",
       "    .dataframe tbody tr th {\n",
       "        vertical-align: top;\n",
       "    }\n",
       "\n",
       "    .dataframe thead th {\n",
       "        text-align: right;\n",
       "    }\n",
       "</style>\n",
       "<table border=\"1\" class=\"dataframe\">\n",
       "  <thead>\n",
       "    <tr style=\"text-align: right;\">\n",
       "      <th></th>\n",
       "      <th>generated_text</th>\n",
       "      <th>original_text</th>\n",
       "      <th>schema</th>\n",
       "      <th>context_length</th>\n",
       "      <th>book_id</th>\n",
       "    </tr>\n",
       "  </thead>\n",
       "  <tbody>\n",
       "    <tr>\n",
       "      <th>22307</th>\n",
       "      <td>&lt;bos&gt;&lt;bos&gt;&lt;start_of_turn&gt;user\\nYou are an assi...</td>\n",
       "      <td>Pai^/uhoiy 'EuTa%tcL+ or; SELECT POEMS: BEING ...</td>\n",
       "      <td>{\\n    \"title\": \"title of the story (string)\",...</td>\n",
       "      <td>5999</td>\n",
       "      <td>002742599</td>\n",
       "    </tr>\n",
       "    <tr>\n",
       "      <th>13087</th>\n",
       "      <td>&lt;bos&gt;&lt;bos&gt;&lt;start_of_turn&gt;user\\nYou are an assi...</td>\n",
       "      <td>HENRY TH E T HI R D O F FRANCE, Stabb'd by a F...</td>\n",
       "      <td>{\\n    \"title\": \"title of the story (string)\",...</td>\n",
       "      <td>5995</td>\n",
       "      <td>003370470</td>\n",
       "    </tr>\n",
       "    <tr>\n",
       "      <th>32579</th>\n",
       "      <td>&lt;bos&gt;&lt;bos&gt;&lt;start_of_turn&gt;user\\nYou are an assi...</td>\n",
       "      <td>THE STEPMOTHER. A Tragi-Comedy, Acted with gre...</td>\n",
       "      <td>{\\n    \"title\": \"title of the story (string)\",...</td>\n",
       "      <td>5993</td>\n",
       "      <td>003493777</td>\n",
       "    </tr>\n",
       "    <tr>\n",
       "      <th>36224</th>\n",
       "      <td>&lt;bos&gt;&lt;bos&gt;&lt;start_of_turn&gt;user\\nYou are an assi...</td>\n",
       "      <td>TM-IWIT/BM^JTitus Andronicus. O K T H E Rape, ...</td>\n",
       "      <td>{\\n    \"title\": \"title of the story (string)\",...</td>\n",
       "      <td>5992</td>\n",
       "      <td>003354250</td>\n",
       "    </tr>\n",
       "    <tr>\n",
       "      <th>32065</th>\n",
       "      <td>&lt;bos&gt;&lt;bos&gt;&lt;start_of_turn&gt;user\\nYou are an assi...</td>\n",
       "      <td>THE English Mounsieur. A COMEDY As it is Acted...</td>\n",
       "      <td>{\\n    \"title\": \"title of the story (string)\",...</td>\n",
       "      <td>5991</td>\n",
       "      <td>001746559</td>\n",
       "    </tr>\n",
       "    <tr>\n",
       "      <th>...</th>\n",
       "      <td>...</td>\n",
       "      <td>...</td>\n",
       "      <td>...</td>\n",
       "      <td>...</td>\n",
       "      <td>...</td>\n",
       "    </tr>\n",
       "    <tr>\n",
       "      <th>36447</th>\n",
       "      <td>&lt;bos&gt;&lt;bos&gt;&lt;start_of_turn&gt;user\\nYou are an assi...</td>\n",
       "      <td>1 hTEniMOBLE SOVLDIER; A CONTRACT BROKEN, JUST...</td>\n",
       "      <td>{\\n    \"title\": \"title of the story (string)\",...</td>\n",
       "      <td>512</td>\n",
       "      <td>004077038</td>\n",
       "    </tr>\n",
       "    <tr>\n",
       "      <th>32124</th>\n",
       "      <td>&lt;bos&gt;&lt;bos&gt;&lt;start_of_turn&gt;user\\nYou are an assi...</td>\n",
       "      <td>THE CHANCES, A COMEDY: As it is ACTED at the T...</td>\n",
       "      <td>{\\n    \"title\": \"title of the story (string)\",...</td>\n",
       "      <td>509</td>\n",
       "      <td>003796217</td>\n",
       "    </tr>\n",
       "    <tr>\n",
       "      <th>24647</th>\n",
       "      <td>&lt;bos&gt;&lt;bos&gt;&lt;start_of_turn&gt;user\\nYou are an assi...</td>\n",
       "      <td>Xuckey Chance, O R A N ALDERMANS gmftaftt, A C...</td>\n",
       "      <td>{\\n    \"title\": \"title of the story (string)\",...</td>\n",
       "      <td>508</td>\n",
       "      <td>000252185</td>\n",
       "    </tr>\n",
       "    <tr>\n",
       "      <th>20988</th>\n",
       "      <td>&lt;bos&gt;&lt;bos&gt;&lt;start_of_turn&gt;user\\nYou are an assi...</td>\n",
       "      <td>SATYR TO HIS M USE. the Author of ABSALOM &amp; AC...</td>\n",
       "      <td>{\\n    \"title\": \"title of the story (string)\",...</td>\n",
       "      <td>506</td>\n",
       "      <td>003255413</td>\n",
       "    </tr>\n",
       "    <tr>\n",
       "      <th>25749</th>\n",
       "      <td>&lt;bos&gt;&lt;bos&gt;&lt;start_of_turn&gt;user\\nYou are an assi...</td>\n",
       "      <td>Tlhov]o(p$ct,\\[Aa, TlKovJoya.iJ.ieti. ■ /&gt;s A ...</td>\n",
       "      <td>{\\n    \"title\": \"title of the story (string)\",...</td>\n",
       "      <td>506</td>\n",
       "      <td>000111406</td>\n",
       "    </tr>\n",
       "  </tbody>\n",
       "</table>\n",
       "<p>3701 rows × 5 columns</p>\n",
       "</div>"
      ],
      "text/plain": [
       "                                          generated_text  \\\n",
       "22307  <bos><bos><start_of_turn>user\\nYou are an assi...   \n",
       "13087  <bos><bos><start_of_turn>user\\nYou are an assi...   \n",
       "32579  <bos><bos><start_of_turn>user\\nYou are an assi...   \n",
       "36224  <bos><bos><start_of_turn>user\\nYou are an assi...   \n",
       "32065  <bos><bos><start_of_turn>user\\nYou are an assi...   \n",
       "...                                                  ...   \n",
       "36447  <bos><bos><start_of_turn>user\\nYou are an assi...   \n",
       "32124  <bos><bos><start_of_turn>user\\nYou are an assi...   \n",
       "24647  <bos><bos><start_of_turn>user\\nYou are an assi...   \n",
       "20988  <bos><bos><start_of_turn>user\\nYou are an assi...   \n",
       "25749  <bos><bos><start_of_turn>user\\nYou are an assi...   \n",
       "\n",
       "                                           original_text  \\\n",
       "22307  Pai^/uhoiy 'EuTa%tcL+ or; SELECT POEMS: BEING ...   \n",
       "13087  HENRY TH E T HI R D O F FRANCE, Stabb'd by a F...   \n",
       "32579  THE STEPMOTHER. A Tragi-Comedy, Acted with gre...   \n",
       "36224  TM-IWIT/BM^JTitus Andronicus. O K T H E Rape, ...   \n",
       "32065  THE English Mounsieur. A COMEDY As it is Acted...   \n",
       "...                                                  ...   \n",
       "36447  1 hTEniMOBLE SOVLDIER; A CONTRACT BROKEN, JUST...   \n",
       "32124  THE CHANCES, A COMEDY: As it is ACTED at the T...   \n",
       "24647  Xuckey Chance, O R A N ALDERMANS gmftaftt, A C...   \n",
       "20988  SATYR TO HIS M USE. the Author of ABSALOM & AC...   \n",
       "25749  Tlhov]o(p$ct,\\[Aa, TlKovJoya.iJ.ieti. ■ />s A ...   \n",
       "\n",
       "                                                  schema  context_length  \\\n",
       "22307  {\\n    \"title\": \"title of the story (string)\",...            5999   \n",
       "13087  {\\n    \"title\": \"title of the story (string)\",...            5995   \n",
       "32579  {\\n    \"title\": \"title of the story (string)\",...            5993   \n",
       "36224  {\\n    \"title\": \"title of the story (string)\",...            5992   \n",
       "32065  {\\n    \"title\": \"title of the story (string)\",...            5991   \n",
       "...                                                  ...             ...   \n",
       "36447  {\\n    \"title\": \"title of the story (string)\",...             512   \n",
       "32124  {\\n    \"title\": \"title of the story (string)\",...             509   \n",
       "24647  {\\n    \"title\": \"title of the story (string)\",...             508   \n",
       "20988  {\\n    \"title\": \"title of the story (string)\",...             506   \n",
       "25749  {\\n    \"title\": \"title of the story (string)\",...             506   \n",
       "\n",
       "         book_id  \n",
       "22307  002742599  \n",
       "13087  003370470  \n",
       "32579  003493777  \n",
       "36224  003354250  \n",
       "32065  001746559  \n",
       "...          ...  \n",
       "36447  004077038  \n",
       "32124  003796217  \n",
       "24647  000252185  \n",
       "20988  003255413  \n",
       "25749  000111406  \n",
       "\n",
       "[3701 rows x 5 columns]"
      ]
     },
     "execution_count": 6,
     "metadata": {},
     "output_type": "execute_result"
    }
   ],
   "source": [
    "\n",
    "df"
   ]
  },
  {
   "cell_type": "code",
   "execution_count": 7,
   "metadata": {},
   "outputs": [],
   "source": [
    "base_path_large = \"data/study-04-json/05/delta={delta}_large.parquet\"\n",
    "\n",
    "for delta in [0., 1., 2., 3.]:\n",
    "\n",
    "    try:\n",
    "        df = pd.read_parquet(base_path_large.format(delta= delta))\n",
    "    except:\n",
    "        continue\n",
    "\n",
    "    \n",
    "\n",
    "    df['generated_text'] = df['generated_text']\\\n",
    "        .apply(lambda x: x.split('[/INST]')[1])\n",
    "        \n",
    "    df['generated_braces'] = df['generated_text']\\\n",
    "        .apply(get_text_whithin_braces)\n",
    "    \n",
    "    df['generated_json'] = df['generated_braces'].apply(convert_to_json)\n",
    "            # lambda x:   x.replace(\"\\n\", '')\\\n",
    "            #             .replace('</s>', '')\\\n",
    "            #             .replace('\\r', '')\\\n",
    "            #             .replace('          ', '')\\\n",
    "            #             .replace(\"<schema>\", \"\")\\\n",
    "            #             .replace(\"</schema>\", \"\")\n",
    "\n",
    "    df['delta'] = fr'$\\Delta$ = {delta}'\n",
    "    if delta == 0:\n",
    "        df['delta'] = \"Raw prompt\"\n",
    "    all_df.append(df)"
   ]
  },
  {
   "cell_type": "code",
   "execution_count": 8,
   "metadata": {},
   "outputs": [],
   "source": [
    "results_df = pd.concat(all_df)\\\n",
    "    .reset_index()\\\n",
    "    .rename(columns={\"level_0\": \"text_index\", \"level_1\": \"epoch\"})"
   ]
  },
  {
   "cell_type": "code",
   "execution_count": 9,
   "metadata": {},
   "outputs": [
    {
     "data": {
      "text/plain": [
       "' The given text appears to be a satirical poem about the idea of a commonwealth or a republic being superior to a monarchy. The poem uses various metaphors and imagery to make its point.\\n\\nThe poem begins by describing a satyr who is angry with the gods for creating a commonwealth instead of a monarchy. The satyr is depicted as a creature who loves to drink and party, and who is opposed to the idea of hard work and responsibility.\\n\\nThe poem then goes on to describe various other creatures who are also opposed to the idea of a commonwealth. These include a lion who is depicted as a lazy and drunken creature, and a bear who is depicted as a violent and destructive creature.\\n\\nThe poem also includes various metaphors and imagery that are meant to convey the idea that a commonwealth is a better form of government than a monarchy. For example, the poem describes the commonwealth as a \"cloud\" that is \"gentle\" and \"awes\" the angels, while a monarchy is depicted as a \"throne\" that is \"harsh\" and \"awes\" the angels.\\n\\nOverall, the poem is a satirical commentary on the idea that a commonwealth or a republic is a better form of government than a monarchy. The poem uses various metaphors and imagery to make its point, and it is meant to be read as a humorous and lighthearted commentary on the subject.</s>'"
      ]
     },
     "execution_count": 9,
     "metadata": {},
     "output_type": "execute_result"
    }
   ],
   "source": [
    "results_df.loc[20]['generated_text']"
   ]
  },
  {
   "cell_type": "code",
   "execution_count": 10,
   "metadata": {},
   "outputs": [],
   "source": [
    "fields = ['title', 'genre', 'characters', 'author','summary', \"scenery\", \"date\"]\n",
    "i = 0\n",
    "\n",
    "def score_json(x : Dict):\n",
    "    if x is None:\n",
    "        return 0\n",
    "    \n",
    "    \n",
    "    score = 0\n",
    "    for key in fields:\n",
    "        if key == 'characters':\n",
    "            if not key in x:\n",
    "                continue\n",
    "\n",
    "            if type(x['characters']) != list:\n",
    "                continue\n",
    "\n",
    "            for character in x['characters']:\n",
    "                if not \"name\" in character:\n",
    "                    break\n",
    "                if not \"description\" in character:\n",
    "                    break\n",
    "\n",
    "            score += 1\n",
    "\n",
    "        else:\n",
    "            if not key in x:\n",
    "                continue\n",
    "\n",
    "            if type(x[key]) != str:\n",
    "                continue\n",
    "\n",
    "            score += 1\n",
    "\n",
    "    return score/(max(len(fields), len(x))) \n",
    "\n",
    "def wrong_fields(x: Dict):\n",
    "    if x is None:\n",
    "        return 'not a json'\n",
    "    \n",
    "    wrong = []\n",
    "    for key in fields:\n",
    "        if key == 'characters':\n",
    "            if not key in x:\n",
    "                wrong.append(['characters', 'missing'])\n",
    "                continue\n",
    "\n",
    "            if type(x['characters']) != list:\n",
    "                wrong.append(['characters', \"not list\"])\n",
    "                continue\n",
    "\n",
    "            for character in x['characters']:\n",
    "                if not \"name\" in character:\n",
    "                    wrong.append([key, 'incorrect type'])\n",
    "                    break\n",
    "                if not \"description\" in character:\n",
    "                    wrong.append([key, 'incorrect type'])\n",
    "                    break\n",
    "\n",
    "        else:\n",
    "            if not key in x:\n",
    "                wrong.append([key, 'missing'])\n",
    "                continue\n",
    "\n",
    "            if type(x[key]) != str:\n",
    "                wrong.append([key, 'incorrect type'])\n",
    "                continue\n",
    "\n",
    "\n",
    "    return wrong"
   ]
  },
  {
   "cell_type": "code",
   "execution_count": 11,
   "metadata": {},
   "outputs": [],
   "source": [
    "results_df['wrong_values'] = results_df[\"generated_json\"].apply(wrong_fields)"
   ]
  },
  {
   "cell_type": "code",
   "execution_count": 12,
   "metadata": {},
   "outputs": [],
   "source": [
    "results_df['score'] = results_df['generated_json'].apply(score_json)"
   ]
  },
  {
   "cell_type": "code",
   "execution_count": 13,
   "metadata": {},
   "outputs": [
    {
     "data": {
      "text/plain": [
       "True"
      ]
     },
     "execution_count": 13,
     "metadata": {},
     "output_type": "execute_result"
    }
   ],
   "source": [
    "results_df['score'].any()"
   ]
  },
  {
   "cell_type": "code",
   "execution_count": 14,
   "metadata": {},
   "outputs": [
    {
     "data": {
      "text/plain": [
       "({'title': 'The Governess',\n",
       "  'genre': 'Romance',\n",
       "  'characters': [{'name': 'The Governess',\n",
       "    'description': \"A poor girl who is hired as a governess for the Bellingham family's daughter.\"},\n",
       "   {'name': 'Sir Oliver Bellingham',\n",
       "    'description': \"The father of the Bellingham family's daughter.\"},\n",
       "   {'name': 'William', 'description': 'A friend of Sir Oliver Bellingham.'},\n",
       "   {'name': 'Ralph', 'description': 'A friend of Sir Oliver Bellingham.'}],\n",
       "  'author': 'Unknown',\n",
       "  'summary': \"The Governess is hired as a governess for the Bellingham family's daughter, but the daughter is not interested in learning and the governess is not interested in the job. The governess is also not interested in the advances of Sir Oliver Bellingham, who is married to a widow.\",\n",
       "  'date': '1647',\n",
       "  'scenery': 'The story takes place in a poor country where the girl lives.'},\n",
       " 1.0)"
      ]
     },
     "execution_count": 14,
     "metadata": {},
     "output_type": "execute_result"
    }
   ],
   "source": [
    "b = results_df.sample(1)\n",
    "b['generated_json'].item(), b['score'].item()"
   ]
  },
  {
   "cell_type": "code",
   "execution_count": 15,
   "metadata": {},
   "outputs": [
    {
     "data": {
      "text/plain": [
       "2533      501\n",
       "12669     501\n",
       "10135     501\n",
       "7601      501\n",
       "5067      501\n",
       "         ... \n",
       "12671    5998\n",
       "14282    5999\n",
       "15088    5999\n",
       "13476    5999\n",
       "12670    5999\n",
       "Name: context_length, Length: 15894, dtype: int64"
      ]
     },
     "execution_count": 15,
     "metadata": {},
     "output_type": "execute_result"
    }
   ],
   "source": [
    "results_df['context_length'].sort_values()"
   ]
  },
  {
   "cell_type": "code",
   "execution_count": 16,
   "metadata": {},
   "outputs": [],
   "source": [
    "results_df['context_length_bins'] = pd.cut(\n",
    "    results_df['context_length'],\n",
    "    range(0,6500, 1000)\n",
    ")\n"
   ]
  },
  {
   "cell_type": "code",
   "execution_count": 17,
   "metadata": {},
   "outputs": [
    {
     "data": {
      "text/plain": [
       "1.296296296296296"
      ]
     },
     "execution_count": 17,
     "metadata": {},
     "output_type": "execute_result"
    }
   ],
   "source": [
    "0.70/0.54"
   ]
  },
  {
   "cell_type": "code",
   "execution_count": 18,
   "metadata": {},
   "outputs": [],
   "source": [
    "results_df['delta'] =results_df['delta'].astype(str)"
   ]
  },
  {
   "cell_type": "code",
   "execution_count": 19,
   "metadata": {},
   "outputs": [],
   "source": [
    "hue_order = ['Raw prompt', \"Uppercase\", \"$\\Delta$ = 1.0\", \"$\\Delta$ = 2.0\", \"$\\Delta$ = 3.0\"]"
   ]
  },
  {
   "cell_type": "code",
   "execution_count": 20,
   "metadata": {},
   "outputs": [],
   "source": [
    "palette = {\n",
    "    'Raw prompt': sns.color_palette(\"Blues\", 5)[2],    # Darker Blue\n",
    "    'Uppercase': sns.color_palette(\"Blues\", 5)[3],    # Medium Blue\n",
    "    \"`Important' + uppercase\": sns.color_palette(\"Blues\", 5)[4],    # Medium Blue\n",
    "    '$\\\\Delta$ = 1.0': sns.color_palette(\"Reds\", 5)[1],        # Light Red\n",
    "    '$\\\\Delta$ = 2.0': sns.color_palette(\"Reds\", 5)[2],        # Medium Red\n",
    "    '$\\\\Delta$ = 3.0': sns.color_palette(\"Reds\", 5)[3],        # Darker Red\n",
    "}"
   ]
  },
  {
   "cell_type": "code",
   "execution_count": 42,
   "metadata": {},
   "outputs": [
    {
     "data": {
      "image/png": "[encoded data removed]",
      "text/plain": [
       "<Figure size 1300x500 with 1 Axes>"
      ]
     },
     "metadata": {},
     "output_type": "display_data"
    }
   ],
   "source": [
    "a = results_df.groupby(['context_length_bins', 'delta'])\\\n",
    "    .score\\\n",
    "    .mean()\\\n",
    "    .reset_index()\n",
    "plt.figure(figsize = (13,5))\n",
    "\n",
    "ax = sns.barplot(\n",
    "    a,\n",
    "    x = 'context_length_bins',\n",
    "    y = 'score',\n",
    "    hue = 'delta',\n",
    "    palette = palette,\n",
    "    hue_order=hue_order\n",
    ")\n",
    "\n",
    "for i, bar in enumerate(ax.patches):\n",
    "    colors = bar.get_facecolor()\n",
    "    is_blue = np.argmax(colors[0:3]) == 2\n",
    "    is_red = np.argmax(colors[0:3]) == 0\n",
    "    if is_blue:\n",
    "\n",
    "        bar.set_hatch('/')  # Set the hatch pattern for each bar\n",
    "\n",
    "    # else:\n",
    "    #     bar.set_hatch('*') \n",
    "\n",
    "    bar.set_edgecolor('black')\n",
    "\n",
    "label_fontsize = 30\n",
    "legend_fontsize = 18\n",
    "tick_fontsize = 16\n",
    "\n",
    "plt.tick_params(axis='both', which='major', labelsize=tick_fontsize)\n",
    "\n",
    "# legend = plt.legend(prop= {\"size\" : legend_fontsize})\n",
    "# plt.setp(legend.get_title(),fontsize=legend_fontsize)\n",
    "\n",
    "# ax.legend_.set_title(r\"\")\n",
    "plt.xlabel(\"Context length\", fontsize = label_fontsize)\n",
    "plt.ylabel(\"Score\", fontsize = label_fontsize)\n",
    "plt.legend(frameon=False)\n",
    "sns.move_legend(ax, labelspacing=0.1, loc='best', prop= {\"size\" : legend_fontsize}, borderaxespad=0.,)\n",
    "\n",
    "# plt.grid()\n",
    "plt.grid(alpha = 0.4,)\n",
    "\n",
    "plt.ylim([0,1.1])\n",
    "plt.xlim([-.5, 5.5])\n",
    "\n",
    "plt.tight_layout()\n",
    "\n",
    "# plt.savefig(\"img/json_delta_vs_ctx.pdf\")\n",
    "plt.show()"
   ]
  },
  {
   "cell_type": "code",
   "execution_count": 32,
   "metadata": {},
   "outputs": [
    {
     "data": {
      "text/plain": [
       "<matplotlib.patches.Rectangle at 0x7fd5285ef110>"
      ]
     },
     "execution_count": 32,
     "metadata": {},
     "output_type": "execute_result"
    }
   ],
   "source": [
    "bar.getco"
   ]
  },
  {
   "cell_type": "code",
   "execution_count": 20,
   "metadata": {},
   "outputs": [
    {
     "data": {
      "text/plain": [
       "<seaborn.axisgrid.FacetGrid at 0x7f179c0c1ed0>"
      ]
     },
     "execution_count": 20,
     "metadata": {},
     "output_type": "execute_result"
    },
    {
     "data": {
      "image/png": "[encoded data removed]",
      "text/plain": [
       "<Figure size 500x500 with 1 Axes>"
      ]
     },
     "metadata": {},
     "output_type": "display_data"
    }
   ],
   "source": [
    "sns.displot(results_df['score'])"
   ]
  },
  {
   "cell_type": "code",
   "execution_count": null,
   "metadata": {},
   "outputs": [],
   "source": []
  }
 ],
 "metadata": {
  "kernelspec": {
   "display_name": "Python 3",
   "language": "python",
   "name": "python3"
  },
  "language_info": {
   "codemirror_mode": {
    "name": "ipython",
    "version": 3
   },
   "file_extension": ".py",
   "mimetype": "text/x-python",
   "name": "python",
   "nbconvert_exporter": "python",
   "pygments_lexer": "ipython3",
   "version": "3.11.9"
  }
 },
 "nbformat": 4,
 "nbformat_minor": 2
}
